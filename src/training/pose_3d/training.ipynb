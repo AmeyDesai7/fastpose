{
 "cells": [
  {
   "cell_type": "markdown",
   "metadata": {},
   "source": [
    "# BUILD DATASET FROM HUMAN3.6M [FEEDFORWARD]"
   ]
  },
  {
   "cell_type": "markdown",
   "metadata": {},
   "source": [
    "## Import"
   ]
  },
  {
   "cell_type": "code",
   "execution_count": 1,
   "metadata": {},
   "outputs": [],
   "source": [
    "import os\n",
    "os.chdir(\"../../\")"
   ]
  },
  {
   "cell_type": "code",
   "execution_count": 2,
   "metadata": {},
   "outputs": [
    {
     "name": "stderr",
     "output_type": "stream",
     "text": [
      "/home/ubuntu/.conda/envs/hugo_py27/lib/python2.7/site-packages/h5py/__init__.py:36: FutureWarning: Conversion of the second argument of issubdtype from `float` to `np.floating` is deprecated. In future, it will be treated as `np.float64 == np.dtype(float).type`.\n",
      "  from ._conv import register_converters as _register_converters\n"
     ]
    },
    {
     "data": {
      "text/html": [
       "<script>requirejs.config({paths: { 'plotly': ['https://cdn.plot.ly/plotly-latest.min']},});if(!window.Plotly) {{require(['plotly'],function(plotly) {window.Plotly=plotly;});}}</script>"
      ],
      "text/vnd.plotly.v1+html": [
       "<script>requirejs.config({paths: { 'plotly': ['https://cdn.plot.ly/plotly-latest.min']},});if(!window.Plotly) {{require(['plotly'],function(plotly) {window.Plotly=plotly;});}}</script>"
      ]
     },
     "metadata": {},
     "output_type": "display_data"
    }
   ],
   "source": [
    "import sys\n",
    "import time\n",
    "\n",
    "import numpy as np\n",
    "import tensorflow as tf\n",
    "\n",
    "import math\n",
    "import random\n",
    "\n",
    "from src.models.pose3d.linear_model import LinearModel\n",
    "from src.training import h36m"
   ]
  },
  {
   "cell_type": "markdown",
   "metadata": {},
   "source": [
    "## Load data"
   ]
  },
  {
   "cell_type": "code",
   "execution_count": 3,
   "metadata": {},
   "outputs": [],
   "source": [
    "data_dir = \"dataset/human36M/data/\"\n",
    "\n",
    "actions = [\"Directions\",\"Discussion\",\"Eating\",\"Greeting\",\"Phoning\",\"Photo\",\"Posing\",\"Purchases\",\n",
    "           \"Sitting\",\"SittingDown\",\"Smoking\",\"Waiting\",\"WalkDog\",\"Walking\",\"WalkTogether\"]\n",
    "\n",
    "number_of_actions = len(actions)\n",
    "\n",
    "TRAIN_SUBJECTS = [1,5,6,7,8]\n",
    "TEST_SUBJECTS = [9,11]\n",
    "\n",
    "trainset_init = h36m.readData( data_dir, TRAIN_SUBJECTS, actions)\n",
    "testset_init = h36m.readData( data_dir, TEST_SUBJECTS, actions)"
   ]
  },
  {
   "cell_type": "markdown",
   "metadata": {},
   "source": [
    "trainset_init/testset_init contains the 32 joints provided by h36m the content is loaded from a structure processed\n",
    "by https://github.com/una-dinosauria/3d-pose-baseline and represent ground truth joint position. \n",
    "In h36m module : there is a processRecord function that map the 36 joints to the 13 more relevant ones. "
   ]
  },
  {
   "cell_type": "markdown",
   "metadata": {},
   "source": [
    "## Visualize"
   ]
  },
  {
   "cell_type": "markdown",
   "metadata": {},
   "source": [
    "Human3.6M provides 32 distincts joints, many of them are static.\n",
    "Only a relevant subset of joints is selected. "
   ]
  },
  {
   "cell_type": "code",
   "execution_count": 6,
   "metadata": {},
   "outputs": [
    {
     "name": "stdout",
     "output_type": "stream",
     "text": [
      "(1, 'Smoking', 'Smoking.h5')\n",
      "frame : 0 / 2478\n",
      "2d => \n"
     ]
    },
    {
     "data": {
      "application/vnd.plotly.v1+json": {
       "data": [
        {
         "mode": "markers",
         "type": "scatter",
         "x": [
          -0.14485885836458978,
          -0.11998540431057461,
          -0.11097200928297984,
          0.14485911676323981,
          0.1334580598610814,
          0.14186983614783227,
          -0.0002803083549444211,
          0.13960001239313266,
          0.21128683302921897,
          0.27065675692839924,
          -0.147809854302588,
          -0.22660795582603394,
          -0.2906536783168699
         ],
         "y": [
          0.009561483570676245,
          -0.4702592364451591,
          -0.9576425222552297,
          -0.009561483570676245,
          -0.4925276653472748,
          -0.9832088597861991,
          0.7211696936693173,
          0.4533498621780787,
          0.16143340632928488,
          -0.10684240708945203,
          0.4525141842729296,
          0.16514367752642006,
          -0.10199951626105622
         ]
        }
       ],
       "layout": {
        "width": 500,
        "xaxis": {
         "range": [
          -1,
          1
         ]
        },
        "yaxis": {
         "range": [
          -1,
          1
         ]
        }
       }
      },
      "text/html": [
       "<div id=\"96240487-7114-4b87-a7c0-cba4eeb1e157\" style=\"height: 525px; width: 500px;\" class=\"plotly-graph-div\"></div><script type=\"text/javascript\">require([\"plotly\"], function(Plotly) { window.PLOTLYENV=window.PLOTLYENV || {};window.PLOTLYENV.BASE_URL=\"https://plot.ly\";Plotly.newPlot(\"96240487-7114-4b87-a7c0-cba4eeb1e157\", [{\"y\": [0.009561483570676245, -0.4702592364451591, -0.9576425222552297, -0.009561483570676245, -0.4925276653472748, -0.9832088597861991, 0.7211696936693173, 0.4533498621780787, 0.16143340632928488, -0.10684240708945203, 0.4525141842729296, 0.16514367752642006, -0.10199951626105622], \"x\": [-0.14485885836458978, -0.11998540431057461, -0.11097200928297984, 0.14485911676323981, 0.1334580598610814, 0.14186983614783227, -0.0002803083549444211, 0.13960001239313266, 0.21128683302921897, 0.27065675692839924, -0.147809854302588, -0.22660795582603394, -0.2906536783168699], \"type\": \"scatter\", \"mode\": \"markers\"}], {\"width\": 500, \"xaxis\": {\"range\": [-1, 1]}, \"yaxis\": {\"range\": [-1, 1]}}, {\"linkText\": \"Export to plot.ly\", \"showLink\": true})});</script>"
      ],
      "text/vnd.plotly.v1+html": [
       "<div id=\"96240487-7114-4b87-a7c0-cba4eeb1e157\" style=\"height: 525px; width: 500px;\" class=\"plotly-graph-div\"></div><script type=\"text/javascript\">require([\"plotly\"], function(Plotly) { window.PLOTLYENV=window.PLOTLYENV || {};window.PLOTLYENV.BASE_URL=\"https://plot.ly\";Plotly.newPlot(\"96240487-7114-4b87-a7c0-cba4eeb1e157\", [{\"y\": [0.009561483570676245, -0.4702592364451591, -0.9576425222552297, -0.009561483570676245, -0.4925276653472748, -0.9832088597861991, 0.7211696936693173, 0.4533498621780787, 0.16143340632928488, -0.10684240708945203, 0.4525141842729296, 0.16514367752642006, -0.10199951626105622], \"x\": [-0.14485885836458978, -0.11998540431057461, -0.11097200928297984, 0.14485911676323981, 0.1334580598610814, 0.14186983614783227, -0.0002803083549444211, 0.13960001239313266, 0.21128683302921897, 0.27065675692839924, -0.147809854302588, -0.22660795582603394, -0.2906536783168699], \"type\": \"scatter\", \"mode\": \"markers\"}], {\"width\": 500, \"xaxis\": {\"range\": [-1, 1]}, \"yaxis\": {\"range\": [-1, 1]}}, {\"linkText\": \"Export to plot.ly\", \"showLink\": true})});</script>"
      ]
     },
     "metadata": {},
     "output_type": "display_data"
    },
    {
     "name": "stdout",
     "output_type": "stream",
     "text": [
      "3d => \n"
     ]
    },
    {
     "data": {
      "application/vnd.plotly.v1+json": {
       "data": [
        {
         "marker": {
          "line": {
           "color": "rgba(200,200,200)",
           "width": 0.5
          },
          "opacity": 0.8,
          "size": 5
         },
         "mode": "markers",
         "type": "scatter3d",
         "x": [
          0.14485911676323981,
          0.1334580598610814,
          0.14186983614783227,
          0.13960001239313266,
          0.21128683302921897,
          0.27065675692839924
         ],
         "y": [
          0.004758286109104563,
          0.03222921340608539,
          0.10581918177700701,
          0.029946653098570326,
          0.07977236445942623,
          0.0917968706206378
         ],
         "z": [
          -0.009561483570676245,
          -0.4925276653472748,
          -0.9832088597861991,
          0.4533498621780787,
          0.16143340632928488,
          -0.10684240708945203
         ]
        },
        {
         "marker": {
          "color": "rgb(27, 27, 27)",
          "line": {
           "color": "rgba(200,200,200)",
           "width": 0.5
          },
          "opacity": 0.8,
          "size": 5
         },
         "mode": "markers",
         "type": "scatter3d",
         "x": [
          -0.0002803083549444211
         ],
         "y": [
          0.05816696982246354
         ],
         "z": [
          0.7211696936693173
         ]
        },
        {
         "marker": {
          "color": "rgb(327, 127, 57)",
          "line": {
           "color": "rgba(200,200,200)",
           "width": 0.5
          },
          "opacity": 0.8,
          "size": 5
         },
         "mode": "markers",
         "type": "scatter3d",
         "x": [
          -0.14485885836458978,
          -0.11998540431057461,
          -0.11097200928297984,
          -0.147809854302588,
          -0.22660795582603394,
          -0.2906536783168699
         ],
         "y": [
          -0.004758286109104563,
          0.05263970600168458,
          0.14553981382644,
          0.03688253965062686,
          0.10054284805174961,
          0.11362281267314012
         ],
         "z": [
          0.009561483570676245,
          -0.4702592364451591,
          -0.9576425222552297,
          0.4525141842729296,
          0.16514367752642006,
          -0.10199951626105622
         ]
        }
       ],
       "layout": {
        "margin": {
         "b": 0,
         "l": 0,
         "r": 0,
         "t": 0
        },
        "scene": {
         "aspectmode": "manual",
         "aspectratio": {
          "x": 1,
          "y": 1,
          "z": 1
         },
         "camera": {
          "center": {
           "x": 0,
           "y": 0,
           "z": 0
          },
          "eye": {
           "x": 0,
           "y": -2,
           "z": 0
          },
          "up": {
           "x": 0,
           "y": 0,
           "z": 1
          }
         },
         "xaxis": {
          "nticks": 4,
          "range": [
           -1,
           1
          ]
         },
         "yaxis": {
          "nticks": 4,
          "range": [
           -1,
           1
          ]
         },
         "zaxis": {
          "nticks": 4,
          "range": [
           -1,
           1
          ]
         }
        },
        "title": "cam",
        "width": 500
       }
      },
      "text/html": [
       "<div id=\"6897d7fc-d090-4067-8061-756a93a27c93\" style=\"height: 525px; width: 500px;\" class=\"plotly-graph-div\"></div><script type=\"text/javascript\">require([\"plotly\"], function(Plotly) { window.PLOTLYENV=window.PLOTLYENV || {};window.PLOTLYENV.BASE_URL=\"https://plot.ly\";Plotly.newPlot(\"6897d7fc-d090-4067-8061-756a93a27c93\", [{\"marker\": {\"opacity\": 0.8, \"line\": {\"color\": \"rgba(200,200,200)\", \"width\": 0.5}, \"size\": 5}, \"mode\": \"markers\", \"y\": [0.004758286109104563, 0.03222921340608539, 0.10581918177700701, 0.029946653098570326, 0.07977236445942623, 0.0917968706206378], \"x\": [0.14485911676323981, 0.1334580598610814, 0.14186983614783227, 0.13960001239313266, 0.21128683302921897, 0.27065675692839924], \"z\": [-0.009561483570676245, -0.4925276653472748, -0.9832088597861991, 0.4533498621780787, 0.16143340632928488, -0.10684240708945203], \"type\": \"scatter3d\"}, {\"marker\": {\"opacity\": 0.8, \"color\": \"rgb(27, 27, 27)\", \"line\": {\"color\": \"rgba(200,200,200)\", \"width\": 0.5}, \"size\": 5}, \"mode\": \"markers\", \"y\": [0.05816696982246354], \"x\": [-0.0002803083549444211], \"z\": [0.7211696936693173], \"type\": \"scatter3d\"}, {\"marker\": {\"opacity\": 0.8, \"color\": \"rgb(327, 127, 57)\", \"line\": {\"color\": \"rgba(200,200,200)\", \"width\": 0.5}, \"size\": 5}, \"mode\": \"markers\", \"y\": [-0.004758286109104563, 0.05263970600168458, 0.14553981382644, 0.03688253965062686, 0.10054284805174961, 0.11362281267314012], \"x\": [-0.14485885836458978, -0.11998540431057461, -0.11097200928297984, -0.147809854302588, -0.22660795582603394, -0.2906536783168699], \"z\": [0.009561483570676245, -0.4702592364451591, -0.9576425222552297, 0.4525141842729296, 0.16514367752642006, -0.10199951626105622], \"type\": \"scatter3d\"}], {\"width\": 500, \"margin\": {\"r\": 0, \"b\": 0, \"t\": 0, \"l\": 0}, \"scene\": {\"yaxis\": {\"range\": [-1, 1], \"nticks\": 4}, \"aspectmode\": \"manual\", \"camera\": {\"eye\": {\"y\": -2, \"x\": 0, \"z\": 0}, \"center\": {\"y\": 0, \"x\": 0, \"z\": 0}, \"up\": {\"y\": 0, \"x\": 0, \"z\": 1}}, \"zaxis\": {\"range\": [-1, 1], \"nticks\": 4}, \"xaxis\": {\"range\": [-1, 1], \"nticks\": 4}, \"aspectratio\": {\"y\": 1, \"x\": 1, \"z\": 1}}, \"title\": \"cam\"}, {\"linkText\": \"Export to plot.ly\", \"showLink\": true})});</script>"
      ],
      "text/vnd.plotly.v1+html": [
       "<div id=\"6897d7fc-d090-4067-8061-756a93a27c93\" style=\"height: 525px; width: 500px;\" class=\"plotly-graph-div\"></div><script type=\"text/javascript\">require([\"plotly\"], function(Plotly) { window.PLOTLYENV=window.PLOTLYENV || {};window.PLOTLYENV.BASE_URL=\"https://plot.ly\";Plotly.newPlot(\"6897d7fc-d090-4067-8061-756a93a27c93\", [{\"marker\": {\"opacity\": 0.8, \"line\": {\"color\": \"rgba(200,200,200)\", \"width\": 0.5}, \"size\": 5}, \"mode\": \"markers\", \"y\": [0.004758286109104563, 0.03222921340608539, 0.10581918177700701, 0.029946653098570326, 0.07977236445942623, 0.0917968706206378], \"x\": [0.14485911676323981, 0.1334580598610814, 0.14186983614783227, 0.13960001239313266, 0.21128683302921897, 0.27065675692839924], \"z\": [-0.009561483570676245, -0.4925276653472748, -0.9832088597861991, 0.4533498621780787, 0.16143340632928488, -0.10684240708945203], \"type\": \"scatter3d\"}, {\"marker\": {\"opacity\": 0.8, \"color\": \"rgb(27, 27, 27)\", \"line\": {\"color\": \"rgba(200,200,200)\", \"width\": 0.5}, \"size\": 5}, \"mode\": \"markers\", \"y\": [0.05816696982246354], \"x\": [-0.0002803083549444211], \"z\": [0.7211696936693173], \"type\": \"scatter3d\"}, {\"marker\": {\"opacity\": 0.8, \"color\": \"rgb(327, 127, 57)\", \"line\": {\"color\": \"rgba(200,200,200)\", \"width\": 0.5}, \"size\": 5}, \"mode\": \"markers\", \"y\": [-0.004758286109104563, 0.05263970600168458, 0.14553981382644, 0.03688253965062686, 0.10054284805174961, 0.11362281267314012], \"x\": [-0.14485885836458978, -0.11998540431057461, -0.11097200928297984, -0.147809854302588, -0.22660795582603394, -0.2906536783168699], \"z\": [0.009561483570676245, -0.4702592364451591, -0.9576425222552297, 0.4525141842729296, 0.16514367752642006, -0.10199951626105622], \"type\": \"scatter3d\"}], {\"width\": 500, \"margin\": {\"r\": 0, \"b\": 0, \"t\": 0, \"l\": 0}, \"scene\": {\"yaxis\": {\"range\": [-1, 1], \"nticks\": 4}, \"aspectmode\": \"manual\", \"camera\": {\"eye\": {\"y\": -2, \"x\": 0, \"z\": 0}, \"center\": {\"y\": 0, \"x\": 0, \"z\": 0}, \"up\": {\"y\": 0, \"x\": 0, \"z\": 1}}, \"zaxis\": {\"range\": [-1, 1], \"nticks\": 4}, \"xaxis\": {\"range\": [-1, 1], \"nticks\": 4}, \"aspectratio\": {\"y\": 1, \"x\": 1, \"z\": 1}}, \"title\": \"cam\"}, {\"linkText\": \"Export to plot.ly\", \"showLink\": true})});</script>"
      ]
     },
     "metadata": {},
     "output_type": "display_data"
    },
    {
     "name": "stdout",
     "output_type": "stream",
     "text": [
      "3d sym => \n"
     ]
    },
    {
     "data": {
      "application/vnd.plotly.v1+json": {
       "data": [
        {
         "marker": {
          "line": {
           "color": "rgba(200,200,200)",
           "width": 0.5
          },
          "opacity": 0.8,
          "size": 5
         },
         "mode": "markers",
         "type": "scatter3d",
         "x": [
          0.14485885836458978,
          0.11998540431057461,
          0.11097200928297984,
          0.147809854302588,
          0.22660795582603394,
          0.2906536783168699
         ],
         "y": [
          -0.004758286109104563,
          0.05263970600168458,
          0.14553981382644,
          0.03688253965062686,
          0.10054284805174961,
          0.11362281267314012
         ],
         "z": [
          0.009561483570676245,
          -0.4702592364451591,
          -0.9576425222552297,
          0.4525141842729296,
          0.16514367752642006,
          -0.10199951626105622
         ]
        },
        {
         "marker": {
          "color": "rgb(27, 27, 27)",
          "line": {
           "color": "rgba(200,200,200)",
           "width": 0.5
          },
          "opacity": 0.8,
          "size": 5
         },
         "mode": "markers",
         "type": "scatter3d",
         "x": [
          0.0002803083549444211
         ],
         "y": [
          0.05816696982246354
         ],
         "z": [
          0.7211696936693173
         ]
        },
        {
         "marker": {
          "color": "rgb(327, 127, 57)",
          "line": {
           "color": "rgba(200,200,200)",
           "width": 0.5
          },
          "opacity": 0.8,
          "size": 5
         },
         "mode": "markers",
         "type": "scatter3d",
         "x": [
          -0.14485911676323981,
          -0.1334580598610814,
          -0.14186983614783227,
          -0.13960001239313266,
          -0.21128683302921897,
          -0.27065675692839924
         ],
         "y": [
          0.004758286109104563,
          0.03222921340608539,
          0.10581918177700701,
          0.029946653098570326,
          0.07977236445942623,
          0.0917968706206378
         ],
         "z": [
          -0.009561483570676245,
          -0.4925276653472748,
          -0.9832088597861991,
          0.4533498621780787,
          0.16143340632928488,
          -0.10684240708945203
         ]
        }
       ],
       "layout": {
        "margin": {
         "b": 0,
         "l": 0,
         "r": 0,
         "t": 0
        },
        "scene": {
         "aspectmode": "manual",
         "aspectratio": {
          "x": 1,
          "y": 1,
          "z": 1
         },
         "camera": {
          "center": {
           "x": 0,
           "y": 0,
           "z": 0
          },
          "eye": {
           "x": 0,
           "y": -2,
           "z": 0
          },
          "up": {
           "x": 0,
           "y": 0,
           "z": 1
          }
         },
         "xaxis": {
          "nticks": 4,
          "range": [
           -1,
           1
          ]
         },
         "yaxis": {
          "nticks": 4,
          "range": [
           -1,
           1
          ]
         },
         "zaxis": {
          "nticks": 4,
          "range": [
           -1,
           1
          ]
         }
        },
        "title": "cam",
        "width": 500
       }
      },
      "text/html": [
       "<div id=\"8b1c5801-c110-41cf-9b06-7511b0570f37\" style=\"height: 525px; width: 500px;\" class=\"plotly-graph-div\"></div><script type=\"text/javascript\">require([\"plotly\"], function(Plotly) { window.PLOTLYENV=window.PLOTLYENV || {};window.PLOTLYENV.BASE_URL=\"https://plot.ly\";Plotly.newPlot(\"8b1c5801-c110-41cf-9b06-7511b0570f37\", [{\"marker\": {\"opacity\": 0.8, \"line\": {\"color\": \"rgba(200,200,200)\", \"width\": 0.5}, \"size\": 5}, \"mode\": \"markers\", \"y\": [-0.004758286109104563, 0.05263970600168458, 0.14553981382644, 0.03688253965062686, 0.10054284805174961, 0.11362281267314012], \"x\": [0.14485885836458978, 0.11998540431057461, 0.11097200928297984, 0.147809854302588, 0.22660795582603394, 0.2906536783168699], \"z\": [0.009561483570676245, -0.4702592364451591, -0.9576425222552297, 0.4525141842729296, 0.16514367752642006, -0.10199951626105622], \"type\": \"scatter3d\"}, {\"marker\": {\"opacity\": 0.8, \"color\": \"rgb(27, 27, 27)\", \"line\": {\"color\": \"rgba(200,200,200)\", \"width\": 0.5}, \"size\": 5}, \"mode\": \"markers\", \"y\": [0.05816696982246354], \"x\": [0.0002803083549444211], \"z\": [0.7211696936693173], \"type\": \"scatter3d\"}, {\"marker\": {\"opacity\": 0.8, \"color\": \"rgb(327, 127, 57)\", \"line\": {\"color\": \"rgba(200,200,200)\", \"width\": 0.5}, \"size\": 5}, \"mode\": \"markers\", \"y\": [0.004758286109104563, 0.03222921340608539, 0.10581918177700701, 0.029946653098570326, 0.07977236445942623, 0.0917968706206378], \"x\": [-0.14485911676323981, -0.1334580598610814, -0.14186983614783227, -0.13960001239313266, -0.21128683302921897, -0.27065675692839924], \"z\": [-0.009561483570676245, -0.4925276653472748, -0.9832088597861991, 0.4533498621780787, 0.16143340632928488, -0.10684240708945203], \"type\": \"scatter3d\"}], {\"width\": 500, \"margin\": {\"r\": 0, \"b\": 0, \"t\": 0, \"l\": 0}, \"scene\": {\"yaxis\": {\"range\": [-1, 1], \"nticks\": 4}, \"aspectmode\": \"manual\", \"camera\": {\"eye\": {\"y\": -2, \"x\": 0, \"z\": 0}, \"center\": {\"y\": 0, \"x\": 0, \"z\": 0}, \"up\": {\"y\": 0, \"x\": 0, \"z\": 1}}, \"zaxis\": {\"range\": [-1, 1], \"nticks\": 4}, \"xaxis\": {\"range\": [-1, 1], \"nticks\": 4}, \"aspectratio\": {\"y\": 1, \"x\": 1, \"z\": 1}}, \"title\": \"cam\"}, {\"linkText\": \"Export to plot.ly\", \"showLink\": true})});</script>"
      ],
      "text/vnd.plotly.v1+html": [
       "<div id=\"8b1c5801-c110-41cf-9b06-7511b0570f37\" style=\"height: 525px; width: 500px;\" class=\"plotly-graph-div\"></div><script type=\"text/javascript\">require([\"plotly\"], function(Plotly) { window.PLOTLYENV=window.PLOTLYENV || {};window.PLOTLYENV.BASE_URL=\"https://plot.ly\";Plotly.newPlot(\"8b1c5801-c110-41cf-9b06-7511b0570f37\", [{\"marker\": {\"opacity\": 0.8, \"line\": {\"color\": \"rgba(200,200,200)\", \"width\": 0.5}, \"size\": 5}, \"mode\": \"markers\", \"y\": [-0.004758286109104563, 0.05263970600168458, 0.14553981382644, 0.03688253965062686, 0.10054284805174961, 0.11362281267314012], \"x\": [0.14485885836458978, 0.11998540431057461, 0.11097200928297984, 0.147809854302588, 0.22660795582603394, 0.2906536783168699], \"z\": [0.009561483570676245, -0.4702592364451591, -0.9576425222552297, 0.4525141842729296, 0.16514367752642006, -0.10199951626105622], \"type\": \"scatter3d\"}, {\"marker\": {\"opacity\": 0.8, \"color\": \"rgb(27, 27, 27)\", \"line\": {\"color\": \"rgba(200,200,200)\", \"width\": 0.5}, \"size\": 5}, \"mode\": \"markers\", \"y\": [0.05816696982246354], \"x\": [0.0002803083549444211], \"z\": [0.7211696936693173], \"type\": \"scatter3d\"}, {\"marker\": {\"opacity\": 0.8, \"color\": \"rgb(327, 127, 57)\", \"line\": {\"color\": \"rgba(200,200,200)\", \"width\": 0.5}, \"size\": 5}, \"mode\": \"markers\", \"y\": [0.004758286109104563, 0.03222921340608539, 0.10581918177700701, 0.029946653098570326, 0.07977236445942623, 0.0917968706206378], \"x\": [-0.14485911676323981, -0.1334580598610814, -0.14186983614783227, -0.13960001239313266, -0.21128683302921897, -0.27065675692839924], \"z\": [-0.009561483570676245, -0.4925276653472748, -0.9832088597861991, 0.4533498621780787, 0.16143340632928488, -0.10684240708945203], \"type\": \"scatter3d\"}], {\"width\": 500, \"margin\": {\"r\": 0, \"b\": 0, \"t\": 0, \"l\": 0}, \"scene\": {\"yaxis\": {\"range\": [-1, 1], \"nticks\": 4}, \"aspectmode\": \"manual\", \"camera\": {\"eye\": {\"y\": -2, \"x\": 0, \"z\": 0}, \"center\": {\"y\": 0, \"x\": 0, \"z\": 0}, \"up\": {\"y\": 0, \"x\": 0, \"z\": 1}}, \"zaxis\": {\"range\": [-1, 1], \"nticks\": 4}, \"xaxis\": {\"range\": [-1, 1], \"nticks\": 4}, \"aspectratio\": {\"y\": 1, \"x\": 1, \"z\": 1}}, \"title\": \"cam\"}, {\"linkText\": \"Export to plot.ly\", \"showLink\": true})});</script>"
      ]
     },
     "metadata": {},
     "output_type": "display_data"
    },
    {
     "name": "stdout",
     "output_type": "stream",
     "text": [
      "3d sym + rotation pi/4 => \n"
     ]
    },
    {
     "data": {
      "application/vnd.plotly.v1+json": {
       "data": [
        {
         "marker": {
          "line": {
           "color": "rgba(200,200,200)",
           "width": 0.5
          },
          "opacity": 0.8,
          "size": 5
         },
         "mode": "markers",
         "type": "scatter3d",
         "x": [
          0.04781099429101793,
          0.057594793173052265,
          0.040055942130593825,
          -0.056293925164042934,
          -0.0489887056721653,
          -0.0017390854681971768
         ],
         "y": [
          0.13677888367501692,
          0.10744643739013933,
          0.10366791115947621,
          0.1737074832333922,
          0.2541871006287718,
          0.3061764262081395
         ],
         "z": [
          0.010188125783535026,
          -0.47270422914230426,
          -0.9686197966076041,
          0.4411732834007213,
          0.14738211816725172,
          -0.11851825687427843
         ]
        },
        {
         "marker": {
          "color": "rgb(27, 27, 27)",
          "line": {
           "color": "rgba(200,200,200)",
           "width": 0.5
          },
          "opacity": 0.8,
          "size": 5
         },
         "mode": "markers",
         "type": "scatter3d",
         "x": [
          -0.16184657090417778
         ],
         "y": [
          0.05288187230088542
         ],
         "z": [
          0.7031915792205635
         ]
        },
        {
         "marker": {
          "color": "rgb(327, 127, 57)",
          "line": {
           "color": "rgba(200,200,200)",
           "width": 0.5
          },
          "opacity": 0.8,
          "size": 5
         },
         "mode": "markers",
         "type": "scatter3d",
         "x": [
          -0.04781107414059211,
          0.0017620521458280164,
          0.0030386977407114366,
          -0.13871758160189507,
          -0.1642429299521445,
          -0.15397089075674497
         ],
         "y": [
          -0.13677912942673684,
          -0.14089863391202542,
          -0.15015810621517384,
          -0.10171206505832178,
          -0.16879436050070862,
          -0.23455718059165911
         ],
         "z": [
          -0.010188125783535026,
          -0.49150559224189566,
          -0.9876576942729496,
          0.4430836844264808,
          0.14696674605478732,
          -0.11988719411127782
         ]
        }
       ],
       "layout": {
        "margin": {
         "b": 0,
         "l": 0,
         "r": 0,
         "t": 0
        },
        "scene": {
         "aspectmode": "manual",
         "aspectratio": {
          "x": 1,
          "y": 1,
          "z": 1
         },
         "camera": {
          "center": {
           "x": 0,
           "y": 0,
           "z": 0
          },
          "eye": {
           "x": 0,
           "y": -2,
           "z": 0
          },
          "up": {
           "x": 0,
           "y": 0,
           "z": 1
          }
         },
         "xaxis": {
          "nticks": 4,
          "range": [
           -1,
           1
          ]
         },
         "yaxis": {
          "nticks": 4,
          "range": [
           -1,
           1
          ]
         },
         "zaxis": {
          "nticks": 4,
          "range": [
           -1,
           1
          ]
         }
        },
        "title": "cam",
        "width": 500
       }
      },
      "text/html": [
       "<div id=\"8b778470-97ee-4842-8abd-8bd291738046\" style=\"height: 525px; width: 500px;\" class=\"plotly-graph-div\"></div><script type=\"text/javascript\">require([\"plotly\"], function(Plotly) { window.PLOTLYENV=window.PLOTLYENV || {};window.PLOTLYENV.BASE_URL=\"https://plot.ly\";Plotly.newPlot(\"8b778470-97ee-4842-8abd-8bd291738046\", [{\"marker\": {\"opacity\": 0.8, \"line\": {\"color\": \"rgba(200,200,200)\", \"width\": 0.5}, \"size\": 5}, \"mode\": \"markers\", \"y\": [0.13677888367501692, 0.10744643739013933, 0.10366791115947621, 0.1737074832333922, 0.2541871006287718, 0.3061764262081395], \"x\": [0.04781099429101793, 0.057594793173052265, 0.040055942130593825, -0.056293925164042934, -0.0489887056721653, -0.0017390854681971768], \"z\": [0.010188125783535026, -0.47270422914230426, -0.9686197966076041, 0.4411732834007213, 0.14738211816725172, -0.11851825687427843], \"type\": \"scatter3d\"}, {\"marker\": {\"opacity\": 0.8, \"color\": \"rgb(27, 27, 27)\", \"line\": {\"color\": \"rgba(200,200,200)\", \"width\": 0.5}, \"size\": 5}, \"mode\": \"markers\", \"y\": [0.05288187230088542], \"x\": [-0.16184657090417778], \"z\": [0.7031915792205635], \"type\": \"scatter3d\"}, {\"marker\": {\"opacity\": 0.8, \"color\": \"rgb(327, 127, 57)\", \"line\": {\"color\": \"rgba(200,200,200)\", \"width\": 0.5}, \"size\": 5}, \"mode\": \"markers\", \"y\": [-0.13677912942673684, -0.14089863391202542, -0.15015810621517384, -0.10171206505832178, -0.16879436050070862, -0.23455718059165911], \"x\": [-0.04781107414059211, 0.0017620521458280164, 0.0030386977407114366, -0.13871758160189507, -0.1642429299521445, -0.15397089075674497], \"z\": [-0.010188125783535026, -0.49150559224189566, -0.9876576942729496, 0.4430836844264808, 0.14696674605478732, -0.11988719411127782], \"type\": \"scatter3d\"}], {\"width\": 500, \"margin\": {\"r\": 0, \"b\": 0, \"t\": 0, \"l\": 0}, \"scene\": {\"yaxis\": {\"range\": [-1, 1], \"nticks\": 4}, \"aspectmode\": \"manual\", \"camera\": {\"eye\": {\"y\": -2, \"x\": 0, \"z\": 0}, \"center\": {\"y\": 0, \"x\": 0, \"z\": 0}, \"up\": {\"y\": 0, \"x\": 0, \"z\": 1}}, \"zaxis\": {\"range\": [-1, 1], \"nticks\": 4}, \"xaxis\": {\"range\": [-1, 1], \"nticks\": 4}, \"aspectratio\": {\"y\": 1, \"x\": 1, \"z\": 1}}, \"title\": \"cam\"}, {\"linkText\": \"Export to plot.ly\", \"showLink\": true})});</script>"
      ],
      "text/vnd.plotly.v1+html": [
       "<div id=\"8b778470-97ee-4842-8abd-8bd291738046\" style=\"height: 525px; width: 500px;\" class=\"plotly-graph-div\"></div><script type=\"text/javascript\">require([\"plotly\"], function(Plotly) { window.PLOTLYENV=window.PLOTLYENV || {};window.PLOTLYENV.BASE_URL=\"https://plot.ly\";Plotly.newPlot(\"8b778470-97ee-4842-8abd-8bd291738046\", [{\"marker\": {\"opacity\": 0.8, \"line\": {\"color\": \"rgba(200,200,200)\", \"width\": 0.5}, \"size\": 5}, \"mode\": \"markers\", \"y\": [0.13677888367501692, 0.10744643739013933, 0.10366791115947621, 0.1737074832333922, 0.2541871006287718, 0.3061764262081395], \"x\": [0.04781099429101793, 0.057594793173052265, 0.040055942130593825, -0.056293925164042934, -0.0489887056721653, -0.0017390854681971768], \"z\": [0.010188125783535026, -0.47270422914230426, -0.9686197966076041, 0.4411732834007213, 0.14738211816725172, -0.11851825687427843], \"type\": \"scatter3d\"}, {\"marker\": {\"opacity\": 0.8, \"color\": \"rgb(27, 27, 27)\", \"line\": {\"color\": \"rgba(200,200,200)\", \"width\": 0.5}, \"size\": 5}, \"mode\": \"markers\", \"y\": [0.05288187230088542], \"x\": [-0.16184657090417778], \"z\": [0.7031915792205635], \"type\": \"scatter3d\"}, {\"marker\": {\"opacity\": 0.8, \"color\": \"rgb(327, 127, 57)\", \"line\": {\"color\": \"rgba(200,200,200)\", \"width\": 0.5}, \"size\": 5}, \"mode\": \"markers\", \"y\": [-0.13677912942673684, -0.14089863391202542, -0.15015810621517384, -0.10171206505832178, -0.16879436050070862, -0.23455718059165911], \"x\": [-0.04781107414059211, 0.0017620521458280164, 0.0030386977407114366, -0.13871758160189507, -0.1642429299521445, -0.15397089075674497], \"z\": [-0.010188125783535026, -0.49150559224189566, -0.9876576942729496, 0.4430836844264808, 0.14696674605478732, -0.11988719411127782], \"type\": \"scatter3d\"}], {\"width\": 500, \"margin\": {\"r\": 0, \"b\": 0, \"t\": 0, \"l\": 0}, \"scene\": {\"yaxis\": {\"range\": [-1, 1], \"nticks\": 4}, \"aspectmode\": \"manual\", \"camera\": {\"eye\": {\"y\": -2, \"x\": 0, \"z\": 0}, \"center\": {\"y\": 0, \"x\": 0, \"z\": 0}, \"up\": {\"y\": 0, \"x\": 0, \"z\": 1}}, \"zaxis\": {\"range\": [-1, 1], \"nticks\": 4}, \"xaxis\": {\"range\": [-1, 1], \"nticks\": 4}, \"aspectratio\": {\"y\": 1, \"x\": 1, \"z\": 1}}, \"title\": \"cam\"}, {\"linkText\": \"Export to plot.ly\", \"showLink\": true})});</script>"
      ]
     },
     "metadata": {},
     "output_type": "display_data"
    }
   ],
   "source": [
    "key = next(iter(trainset_init.keys()))\n",
    "frameId = 0\n",
    "rotZ = 0.0*math.pi\n",
    "rotY = 0.0*math.pi\n",
    "symetry = False\n",
    "print(key)\n",
    "print(\"frame : \"+str(frameId) +\" / \"+str(trainset_init[key].shape[0]))\n",
    "\n",
    "data = h36m.processRecord(trainset_init[key][frameId], rotZ, rotY, symetry)\n",
    "print(\"2d => \")\n",
    "h36m.visualize_2D(data)\n",
    "print(\"3d => \")\n",
    "h36m.visualize_3D(data)\n",
    "\n",
    "symetry = True\n",
    "data = h36m.processRecord(trainset_init[key][frameId], rotZ, rotY, symetry)\n",
    "print(\"3d sym => \")\n",
    "h36m.visualize_3D(data)\n",
    "\n",
    "rotZ = 0.8*math.pi/2\n",
    "rotY = -0.1*math.pi/2\n",
    "data = h36m.processRecord(trainset_init[key][frameId], rotZ, rotY, symetry)\n",
    "print(\"3d sym + rotation pi/4 => \")\n",
    "h36m.visualize_3D(data)\n",
    "\n"
   ]
  },
  {
   "cell_type": "markdown",
   "metadata": {},
   "source": [
    "## Build the dataset"
   ]
  },
  {
   "cell_type": "code",
   "execution_count": 5,
   "metadata": {},
   "outputs": [],
   "source": [
    "# jump between frame\n",
    "def processDataset(initData, jumpingWindow = 10, totalRotation = 30, symetricRatio = 0.7):\n",
    "\n",
    "    data = []\n",
    "\n",
    "    for scenes in initData.values():\n",
    "\n",
    "        for frameId in range(0, scenes.shape[0], jumpingWindow):\n",
    "\n",
    "            scene = scenes[frameId]\n",
    "            \n",
    "            data.append(h36m.processRecord(scene, 0, False))\n",
    "            if random.random() < symetricRatio:\n",
    "                data.append(h36m.processRecord(scene, 0, True))\n",
    "                    \n",
    "            for i in range(totalRotation):\n",
    "                rot = random.random()*(2*math.pi)\n",
    "\n",
    "                data.append(h36m.processRecord(scene, rot, False))\n",
    "\n",
    "                if random.random() < symetricRatio:\n",
    "                    data.append(h36m.processRecord(scene, rot, True))\n",
    "                    \n",
    "    return np.array(data)\n",
    "            "
   ]
  },
  {
   "cell_type": "code",
   "execution_count": 11,
   "metadata": {},
   "outputs": [],
   "source": [
    "trainset = processDataset(trainset_init)"
   ]
  },
  {
   "cell_type": "code",
   "execution_count": 12,
   "metadata": {},
   "outputs": [],
   "source": [
    "testset = processDataset(testset_init)"
   ]
  },
  {
   "cell_type": "code",
   "execution_count": 13,
   "metadata": {},
   "outputs": [],
   "source": [
    "np.save(\"dataset/human36M/processed_data/trainset\", trainset)"
   ]
  },
  {
   "cell_type": "code",
   "execution_count": 14,
   "metadata": {},
   "outputs": [],
   "source": [
    "np.save(\"dataset/human36M/processed_data/testset\", testset)"
   ]
  },
  {
   "cell_type": "markdown",
   "metadata": {},
   "source": [
    "## Verify Dataset"
   ]
  },
  {
   "cell_type": "code",
   "execution_count": 16,
   "metadata": {},
   "outputs": [],
   "source": [
    "trainset = np.load(\"dataset/human36M/processed_data/trainset.npy\")"
   ]
  },
  {
   "cell_type": "code",
   "execution_count": 16,
   "metadata": {},
   "outputs": [
    {
     "data": {
      "text/plain": [
       "(2059652, 13, 3)"
      ]
     },
     "execution_count": 16,
     "metadata": {},
     "output_type": "execute_result"
    }
   ],
   "source": [
    "trainset.shape"
   ]
  },
  {
   "cell_type": "code",
   "execution_count": 8,
   "metadata": {},
   "outputs": [
    {
     "data": {
      "text/plain": [
       "(1574837, 13, 3)"
      ]
     },
     "execution_count": 8,
     "metadata": {},
     "output_type": "execute_result"
    }
   ],
   "source": [
    "trainset.shape"
   ]
  },
  {
   "cell_type": "code",
   "execution_count": 17,
   "metadata": {},
   "outputs": [
    {
     "data": {
      "application/vnd.plotly.v1+json": {
       "data": [
        {
         "marker": {
          "line": {
           "color": "rgba(200,200,200)",
           "width": 0.5
          },
          "opacity": 0.8,
          "size": 5
         },
         "mode": "markers",
         "type": "scatter3d",
         "x": [
          -0.13537415304635866,
          -0.06916490274121663,
          0.010338644941085665,
          -0.10641042603891783,
          -0.3144098735327603,
          -0.13763358228386804
         ],
         "y": [
          -0.06149150823485325,
          -0.03539811539589236,
          -0.06395156789080905,
          -0.1048106697138684,
          -0.23394799498346316,
          -0.14926088349839844
         ],
         "z": [
          0.012862449128453761,
          -0.47918585485501436,
          -0.9820055555910023,
          0.46090393608171326,
          0.2658013845170991,
          0.06225625988884964
         ]
        },
        {
         "marker": {
          "color": "rgb(27, 27, 27)",
          "line": {
           "color": "rgba(200,200,200)",
           "width": 0.5
          },
          "opacity": 0.8,
          "size": 5
         },
         "mode": "markers",
         "type": "scatter3d",
         "x": [
          0.06843662272350724
         ],
         "y": [
          -0.06429803970967292
         ],
         "z": [
          0.7012838049370841
         ]
        },
        {
         "marker": {
          "color": "rgb(327, 127, 57)",
          "line": {
           "color": "rgba(200,200,200)",
           "width": 0.5
          },
          "opacity": 0.8,
          "size": 5
         },
         "mode": "markers",
         "type": "scatter3d",
         "x": [
          0.1353739097398638,
          0.12107488958077042,
          0.2974104047071236,
          0.16233069338946918,
          0.19548890186586929,
          0.11119901613062835
         ],
         "y": [
          0.06149139892265251,
          0.23876127034121414,
          0.26485308324269663,
          0.037321598111125225,
          0.12098430359675078,
          0.2559683906405627
         ],
         "z": [
          -0.012862449128453761,
          -0.47713302077263814,
          -0.9548239601166306,
          0.461218281010955,
          0.16136254275792028,
          0.39486587648506977
         ]
        }
       ],
       "layout": {
        "margin": {
         "b": 0,
         "l": 0,
         "r": 0,
         "t": 0
        },
        "scene": {
         "aspectmode": "manual",
         "aspectratio": {
          "x": 1,
          "y": 1,
          "z": 1
         },
         "camera": {
          "center": {
           "x": 0,
           "y": 0,
           "z": 0
          },
          "eye": {
           "x": 0,
           "y": -2,
           "z": 0
          },
          "up": {
           "x": 0,
           "y": 0,
           "z": 1
          }
         },
         "xaxis": {
          "nticks": 4,
          "range": [
           -1,
           1
          ]
         },
         "yaxis": {
          "nticks": 4,
          "range": [
           -1,
           1
          ]
         },
         "zaxis": {
          "nticks": 4,
          "range": [
           -1,
           1
          ]
         }
        },
        "title": "cam",
        "width": 500
       }
      },
      "text/html": [
       "<div id=\"d27e965d-311b-471e-be3a-6a2c6cb35bb3\" style=\"height: 525px; width: 500px;\" class=\"plotly-graph-div\"></div><script type=\"text/javascript\">require([\"plotly\"], function(Plotly) { window.PLOTLYENV=window.PLOTLYENV || {};window.PLOTLYENV.BASE_URL=\"https://plot.ly\";Plotly.newPlot(\"d27e965d-311b-471e-be3a-6a2c6cb35bb3\", [{\"marker\": {\"opacity\": 0.8, \"line\": {\"color\": \"rgba(200,200,200)\", \"width\": 0.5}, \"size\": 5}, \"mode\": \"markers\", \"y\": [-0.06149150823485325, -0.03539811539589236, -0.06395156789080905, -0.1048106697138684, -0.23394799498346316, -0.14926088349839844], \"x\": [-0.13537415304635866, -0.06916490274121663, 0.010338644941085665, -0.10641042603891783, -0.3144098735327603, -0.13763358228386804], \"z\": [0.012862449128453761, -0.47918585485501436, -0.9820055555910023, 0.46090393608171326, 0.2658013845170991, 0.06225625988884964], \"type\": \"scatter3d\"}, {\"marker\": {\"opacity\": 0.8, \"color\": \"rgb(27, 27, 27)\", \"line\": {\"color\": \"rgba(200,200,200)\", \"width\": 0.5}, \"size\": 5}, \"mode\": \"markers\", \"y\": [-0.06429803970967292], \"x\": [0.06843662272350724], \"z\": [0.7012838049370841], \"type\": \"scatter3d\"}, {\"marker\": {\"opacity\": 0.8, \"color\": \"rgb(327, 127, 57)\", \"line\": {\"color\": \"rgba(200,200,200)\", \"width\": 0.5}, \"size\": 5}, \"mode\": \"markers\", \"y\": [0.06149139892265251, 0.23876127034121414, 0.26485308324269663, 0.037321598111125225, 0.12098430359675078, 0.2559683906405627], \"x\": [0.1353739097398638, 0.12107488958077042, 0.2974104047071236, 0.16233069338946918, 0.19548890186586929, 0.11119901613062835], \"z\": [-0.012862449128453761, -0.47713302077263814, -0.9548239601166306, 0.461218281010955, 0.16136254275792028, 0.39486587648506977], \"type\": \"scatter3d\"}], {\"width\": 500, \"margin\": {\"r\": 0, \"b\": 0, \"t\": 0, \"l\": 0}, \"scene\": {\"yaxis\": {\"range\": [-1, 1], \"nticks\": 4}, \"aspectmode\": \"manual\", \"camera\": {\"eye\": {\"y\": -2, \"x\": 0, \"z\": 0}, \"center\": {\"y\": 0, \"x\": 0, \"z\": 0}, \"up\": {\"y\": 0, \"x\": 0, \"z\": 1}}, \"zaxis\": {\"range\": [-1, 1], \"nticks\": 4}, \"xaxis\": {\"range\": [-1, 1], \"nticks\": 4}, \"aspectratio\": {\"y\": 1, \"x\": 1, \"z\": 1}}, \"title\": \"cam\"}, {\"linkText\": \"Export to plot.ly\", \"showLink\": true})});</script>"
      ],
      "text/vnd.plotly.v1+html": [
       "<div id=\"d27e965d-311b-471e-be3a-6a2c6cb35bb3\" style=\"height: 525px; width: 500px;\" class=\"plotly-graph-div\"></div><script type=\"text/javascript\">require([\"plotly\"], function(Plotly) { window.PLOTLYENV=window.PLOTLYENV || {};window.PLOTLYENV.BASE_URL=\"https://plot.ly\";Plotly.newPlot(\"d27e965d-311b-471e-be3a-6a2c6cb35bb3\", [{\"marker\": {\"opacity\": 0.8, \"line\": {\"color\": \"rgba(200,200,200)\", \"width\": 0.5}, \"size\": 5}, \"mode\": \"markers\", \"y\": [-0.06149150823485325, -0.03539811539589236, -0.06395156789080905, -0.1048106697138684, -0.23394799498346316, -0.14926088349839844], \"x\": [-0.13537415304635866, -0.06916490274121663, 0.010338644941085665, -0.10641042603891783, -0.3144098735327603, -0.13763358228386804], \"z\": [0.012862449128453761, -0.47918585485501436, -0.9820055555910023, 0.46090393608171326, 0.2658013845170991, 0.06225625988884964], \"type\": \"scatter3d\"}, {\"marker\": {\"opacity\": 0.8, \"color\": \"rgb(27, 27, 27)\", \"line\": {\"color\": \"rgba(200,200,200)\", \"width\": 0.5}, \"size\": 5}, \"mode\": \"markers\", \"y\": [-0.06429803970967292], \"x\": [0.06843662272350724], \"z\": [0.7012838049370841], \"type\": \"scatter3d\"}, {\"marker\": {\"opacity\": 0.8, \"color\": \"rgb(327, 127, 57)\", \"line\": {\"color\": \"rgba(200,200,200)\", \"width\": 0.5}, \"size\": 5}, \"mode\": \"markers\", \"y\": [0.06149139892265251, 0.23876127034121414, 0.26485308324269663, 0.037321598111125225, 0.12098430359675078, 0.2559683906405627], \"x\": [0.1353739097398638, 0.12107488958077042, 0.2974104047071236, 0.16233069338946918, 0.19548890186586929, 0.11119901613062835], \"z\": [-0.012862449128453761, -0.47713302077263814, -0.9548239601166306, 0.461218281010955, 0.16136254275792028, 0.39486587648506977], \"type\": \"scatter3d\"}], {\"width\": 500, \"margin\": {\"r\": 0, \"b\": 0, \"t\": 0, \"l\": 0}, \"scene\": {\"yaxis\": {\"range\": [-1, 1], \"nticks\": 4}, \"aspectmode\": \"manual\", \"camera\": {\"eye\": {\"y\": -2, \"x\": 0, \"z\": 0}, \"center\": {\"y\": 0, \"x\": 0, \"z\": 0}, \"up\": {\"y\": 0, \"x\": 0, \"z\": 1}}, \"zaxis\": {\"range\": [-1, 1], \"nticks\": 4}, \"xaxis\": {\"range\": [-1, 1], \"nticks\": 4}, \"aspectratio\": {\"y\": 1, \"x\": 1, \"z\": 1}}, \"title\": \"cam\"}, {\"linkText\": \"Export to plot.ly\", \"showLink\": true})});</script>"
      ]
     },
     "metadata": {},
     "output_type": "display_data"
    }
   ],
   "source": [
    "h36m.visualize_3D(trainset[3002])"
   ]
  },
  {
   "cell_type": "code",
   "execution_count": 17,
   "metadata": {},
   "outputs": [
    {
     "data": {
      "text/plain": [
       "(13, 3)"
      ]
     },
     "execution_count": 17,
     "metadata": {},
     "output_type": "execute_result"
    }
   ],
   "source": [
    "trainset[0,:].shape"
   ]
  },
  {
   "cell_type": "code",
   "execution_count": 6,
   "metadata": {},
   "outputs": [],
   "source": [
    "class GaussianNoise:\n",
    "    \n",
    "    def __init__(self, std):\n",
    "        self.std = std\n",
    "        \n",
    "    def get(self):\n",
    "        return np.vectorize(lambda std : np.random.normal(0, std))(self.std)\n",
    "    \n",
    "    def getBatch(self, batchSize):\n",
    "        return np.concatenate([np.expand_dims(self.get(),0) for _ in range(batchSize)],0)\n",
    "        "
   ]
  },
  {
   "cell_type": "code",
   "execution_count": 118,
   "metadata": {},
   "outputs": [],
   "source": [
    "\"\"\"\n",
    "Last trained stacked hourglass has the following std dev for input (27/04).\n",
    "Note : my testset was a bit tricky to predict, therefore i will divide those values by factor 2\n",
    "0     0.076789\n",
    "1     0.052730\n",
    "2     0.187345\n",
    "3     0.162503\n",
    "4     0.254326\n",
    "5     0.222007\n",
    "6     0.078331\n",
    "7     0.052955\n",
    "8     0.188823\n",
    "9     0.157332\n",
    "10    0.249365\n",
    "11    0.218437\n",
    "12    0.185493\n",
    "13    0.162686\n",
    "14    0.153359\n",
    "15    0.126821\n",
    "16    0.204631\n",
    "17    0.166545\n",
    "18    0.253328\n",
    "19    0.238201\n",
    "20    0.152116\n",
    "21    0.131163\n",
    "22    0.206065\n",
    "23    0.166147\n",
    "24    0.251844\n",
    "25    0.241080\n",
    "\"\"\"\n",
    "divideByFactor = 2.0\n",
    "stdDev = [0.076789,0.052730,0.187345,0.162503,0.254326,0.222007,0.078331,0.052955,0.188823,0.157332,0.249365,0.218437,0.185493,0.162686,0.153359,0.126821,0.204631,0.166545,0.253328,0.238201,0.152116,0.131163,0.206065,0.166147,0.251844,0.241080]\n",
    "stdDev = np.array(stdDev)\n",
    "stdDev[:] = 0.025\n",
    "isXJoints = np.array([i%2 == 0 for i in range(13*2)])\n",
    "joints_x = stdDev[isXJoints]\n",
    "joints_y = stdDev[~isXJoints]\n",
    "curr_res = np.zeros((13,2))\n",
    "curr_res[:,0] = joints_x.copy()\n",
    "curr_res[:,1] = joints_y.copy()\n",
    "stdDev = curr_res \n",
    "stdDev = stdDev/divideByFactor\n",
    "gNoise = GaussianNoise([0.04/2 for _ in range(13*2)])"
   ]
  },
  {
   "cell_type": "code",
   "execution_count": 119,
   "metadata": {},
   "outputs": [
    {
     "data": {
      "application/vnd.plotly.v1+json": {
       "data": [
        {
         "marker": {
          "line": {
           "color": "rgba(200,200,200)",
           "width": 0.5
          },
          "opacity": 0.8,
          "size": 5
         },
         "mode": "markers",
         "type": "scatter3d",
         "x": [
          -0.13537415304635866,
          -0.06916490274121663,
          0.010338644941085665,
          -0.10641042603891783,
          -0.3144098735327603,
          -0.13763358228386804
         ],
         "y": [
          -0.06149150823485325,
          -0.03539811539589236,
          -0.06395156789080905,
          -0.1048106697138684,
          -0.23394799498346316,
          -0.14926088349839844
         ],
         "z": [
          0.012862449128453761,
          -0.47918585485501436,
          -0.9820055555910023,
          0.46090393608171326,
          0.2658013845170991,
          0.06225625988884964
         ]
        },
        {
         "marker": {
          "color": "rgb(27, 27, 27)",
          "line": {
           "color": "rgba(200,200,200)",
           "width": 0.5
          },
          "opacity": 0.8,
          "size": 5
         },
         "mode": "markers",
         "type": "scatter3d",
         "x": [
          0.06843662272350724
         ],
         "y": [
          -0.06429803970967292
         ],
         "z": [
          0.7012838049370841
         ]
        },
        {
         "marker": {
          "color": "rgb(327, 127, 57)",
          "line": {
           "color": "rgba(200,200,200)",
           "width": 0.5
          },
          "opacity": 0.8,
          "size": 5
         },
         "mode": "markers",
         "type": "scatter3d",
         "x": [
          0.1353739097398638,
          0.12107488958077042,
          0.2974104047071236,
          0.16233069338946918,
          0.19548890186586929,
          0.11119901613062835
         ],
         "y": [
          0.06149139892265251,
          0.23876127034121414,
          0.26485308324269663,
          0.037321598111125225,
          0.12098430359675078,
          0.2559683906405627
         ],
         "z": [
          -0.012862449128453761,
          -0.47713302077263814,
          -0.9548239601166306,
          0.461218281010955,
          0.16136254275792028,
          0.39486587648506977
         ]
        }
       ],
       "layout": {
        "margin": {
         "b": 0,
         "l": 0,
         "r": 0,
         "t": 0
        },
        "scene": {
         "aspectmode": "manual",
         "aspectratio": {
          "x": 1,
          "y": 1,
          "z": 1
         },
         "camera": {
          "center": {
           "x": 0,
           "y": 0,
           "z": 0
          },
          "eye": {
           "x": 0,
           "y": -2,
           "z": 0
          },
          "up": {
           "x": 0,
           "y": 0,
           "z": 1
          }
         },
         "xaxis": {
          "nticks": 4,
          "range": [
           -1,
           1
          ]
         },
         "yaxis": {
          "nticks": 4,
          "range": [
           -1,
           1
          ]
         },
         "zaxis": {
          "nticks": 4,
          "range": [
           -1,
           1
          ]
         }
        },
        "title": "cam",
        "width": 500
       }
      },
      "text/html": [
       "<div id=\"738b51c5-1be0-4b06-80ed-2e235d3e99c7\" style=\"height: 525px; width: 500px;\" class=\"plotly-graph-div\"></div><script type=\"text/javascript\">require([\"plotly\"], function(Plotly) { window.PLOTLYENV=window.PLOTLYENV || {};window.PLOTLYENV.BASE_URL=\"https://plot.ly\";Plotly.newPlot(\"738b51c5-1be0-4b06-80ed-2e235d3e99c7\", [{\"marker\": {\"opacity\": 0.8, \"line\": {\"color\": \"rgba(200,200,200)\", \"width\": 0.5}, \"size\": 5}, \"mode\": \"markers\", \"y\": [-0.06149150823485325, -0.03539811539589236, -0.06395156789080905, -0.1048106697138684, -0.23394799498346316, -0.14926088349839844], \"x\": [-0.13537415304635866, -0.06916490274121663, 0.010338644941085665, -0.10641042603891783, -0.3144098735327603, -0.13763358228386804], \"z\": [0.012862449128453761, -0.47918585485501436, -0.9820055555910023, 0.46090393608171326, 0.2658013845170991, 0.06225625988884964], \"type\": \"scatter3d\"}, {\"marker\": {\"opacity\": 0.8, \"color\": \"rgb(27, 27, 27)\", \"line\": {\"color\": \"rgba(200,200,200)\", \"width\": 0.5}, \"size\": 5}, \"mode\": \"markers\", \"y\": [-0.06429803970967292], \"x\": [0.06843662272350724], \"z\": [0.7012838049370841], \"type\": \"scatter3d\"}, {\"marker\": {\"opacity\": 0.8, \"color\": \"rgb(327, 127, 57)\", \"line\": {\"color\": \"rgba(200,200,200)\", \"width\": 0.5}, \"size\": 5}, \"mode\": \"markers\", \"y\": [0.06149139892265251, 0.23876127034121414, 0.26485308324269663, 0.037321598111125225, 0.12098430359675078, 0.2559683906405627], \"x\": [0.1353739097398638, 0.12107488958077042, 0.2974104047071236, 0.16233069338946918, 0.19548890186586929, 0.11119901613062835], \"z\": [-0.012862449128453761, -0.47713302077263814, -0.9548239601166306, 0.461218281010955, 0.16136254275792028, 0.39486587648506977], \"type\": \"scatter3d\"}], {\"width\": 500, \"margin\": {\"r\": 0, \"b\": 0, \"t\": 0, \"l\": 0}, \"scene\": {\"yaxis\": {\"range\": [-1, 1], \"nticks\": 4}, \"aspectmode\": \"manual\", \"camera\": {\"eye\": {\"y\": -2, \"x\": 0, \"z\": 0}, \"center\": {\"y\": 0, \"x\": 0, \"z\": 0}, \"up\": {\"y\": 0, \"x\": 0, \"z\": 1}}, \"zaxis\": {\"range\": [-1, 1], \"nticks\": 4}, \"xaxis\": {\"range\": [-1, 1], \"nticks\": 4}, \"aspectratio\": {\"y\": 1, \"x\": 1, \"z\": 1}}, \"title\": \"cam\"}, {\"linkText\": \"Export to plot.ly\", \"showLink\": true})});</script>"
      ],
      "text/vnd.plotly.v1+html": [
       "<div id=\"738b51c5-1be0-4b06-80ed-2e235d3e99c7\" style=\"height: 525px; width: 500px;\" class=\"plotly-graph-div\"></div><script type=\"text/javascript\">require([\"plotly\"], function(Plotly) { window.PLOTLYENV=window.PLOTLYENV || {};window.PLOTLYENV.BASE_URL=\"https://plot.ly\";Plotly.newPlot(\"738b51c5-1be0-4b06-80ed-2e235d3e99c7\", [{\"marker\": {\"opacity\": 0.8, \"line\": {\"color\": \"rgba(200,200,200)\", \"width\": 0.5}, \"size\": 5}, \"mode\": \"markers\", \"y\": [-0.06149150823485325, -0.03539811539589236, -0.06395156789080905, -0.1048106697138684, -0.23394799498346316, -0.14926088349839844], \"x\": [-0.13537415304635866, -0.06916490274121663, 0.010338644941085665, -0.10641042603891783, -0.3144098735327603, -0.13763358228386804], \"z\": [0.012862449128453761, -0.47918585485501436, -0.9820055555910023, 0.46090393608171326, 0.2658013845170991, 0.06225625988884964], \"type\": \"scatter3d\"}, {\"marker\": {\"opacity\": 0.8, \"color\": \"rgb(27, 27, 27)\", \"line\": {\"color\": \"rgba(200,200,200)\", \"width\": 0.5}, \"size\": 5}, \"mode\": \"markers\", \"y\": [-0.06429803970967292], \"x\": [0.06843662272350724], \"z\": [0.7012838049370841], \"type\": \"scatter3d\"}, {\"marker\": {\"opacity\": 0.8, \"color\": \"rgb(327, 127, 57)\", \"line\": {\"color\": \"rgba(200,200,200)\", \"width\": 0.5}, \"size\": 5}, \"mode\": \"markers\", \"y\": [0.06149139892265251, 0.23876127034121414, 0.26485308324269663, 0.037321598111125225, 0.12098430359675078, 0.2559683906405627], \"x\": [0.1353739097398638, 0.12107488958077042, 0.2974104047071236, 0.16233069338946918, 0.19548890186586929, 0.11119901613062835], \"z\": [-0.012862449128453761, -0.47713302077263814, -0.9548239601166306, 0.461218281010955, 0.16136254275792028, 0.39486587648506977], \"type\": \"scatter3d\"}], {\"width\": 500, \"margin\": {\"r\": 0, \"b\": 0, \"t\": 0, \"l\": 0}, \"scene\": {\"yaxis\": {\"range\": [-1, 1], \"nticks\": 4}, \"aspectmode\": \"manual\", \"camera\": {\"eye\": {\"y\": -2, \"x\": 0, \"z\": 0}, \"center\": {\"y\": 0, \"x\": 0, \"z\": 0}, \"up\": {\"y\": 0, \"x\": 0, \"z\": 1}}, \"zaxis\": {\"range\": [-1, 1], \"nticks\": 4}, \"xaxis\": {\"range\": [-1, 1], \"nticks\": 4}, \"aspectratio\": {\"y\": 1, \"x\": 1, \"z\": 1}}, \"title\": \"cam\"}, {\"linkText\": \"Export to plot.ly\", \"showLink\": true})});</script>"
      ]
     },
     "metadata": {},
     "output_type": "display_data"
    },
    {
     "data": {
      "application/vnd.plotly.v1+json": {
       "data": [
        {
         "marker": {
          "line": {
           "color": "rgba(200,200,200)",
           "width": 0.5
          },
          "opacity": 0.8,
          "size": 5
         },
         "mode": "markers",
         "type": "scatter3d",
         "x": [
          -0.11633081596850844,
          -0.006726354891374034,
          -0.006112161581278815,
          -0.11665500565857673,
          -0.32487318452593217,
          -0.11397046975155055
         ],
         "y": [
          -0.06149150823485325,
          -0.03539811539589236,
          -0.06395156789080905,
          -0.1048106697138684,
          -0.23394799498346316,
          -0.14926088349839844
         ],
         "z": [
          0.005767668249282288,
          -0.4675095520442282,
          -0.9620839534346621,
          0.43078643397812133,
          0.27264738404399136,
          0.054321249099676276
         ]
        },
        {
         "marker": {
          "color": "rgb(27, 27, 27)",
          "line": {
           "color": "rgba(200,200,200)",
           "width": 0.5
          },
          "opacity": 0.8,
          "size": 5
         },
         "mode": "markers",
         "type": "scatter3d",
         "x": [
          0.0663342137433458
         ],
         "y": [
          -0.06429803970967292
         ],
         "z": [
          0.6877140472186779
         ]
        },
        {
         "marker": {
          "color": "rgb(327, 127, 57)",
          "line": {
           "color": "rgba(200,200,200)",
           "width": 0.5
          },
          "opacity": 0.8,
          "size": 5
         },
         "mode": "markers",
         "type": "scatter3d",
         "x": [
          0.1780256229434525,
          0.14791744970318327,
          0.29272696222988936,
          0.1765523546653548,
          0.1895088824870357,
          0.13045877368509182
         ],
         "y": [
          0.06149139892265251,
          0.23876127034121414,
          0.26485308324269663,
          0.037321598111125225,
          0.12098430359675078,
          0.2559683906405627
         ],
         "z": [
          -0.017424971344492154,
          -0.44263013827360587,
          -0.9361322595824342,
          0.402469557214414,
          0.15120773677132412,
          0.3798651478051028
         ]
        }
       ],
       "layout": {
        "margin": {
         "b": 0,
         "l": 0,
         "r": 0,
         "t": 0
        },
        "scene": {
         "aspectmode": "manual",
         "aspectratio": {
          "x": 1,
          "y": 1,
          "z": 1
         },
         "camera": {
          "center": {
           "x": 0,
           "y": 0,
           "z": 0
          },
          "eye": {
           "x": 0,
           "y": -2,
           "z": 0
          },
          "up": {
           "x": 0,
           "y": 0,
           "z": 1
          }
         },
         "xaxis": {
          "nticks": 4,
          "range": [
           -1,
           1
          ]
         },
         "yaxis": {
          "nticks": 4,
          "range": [
           -1,
           1
          ]
         },
         "zaxis": {
          "nticks": 4,
          "range": [
           -1,
           1
          ]
         }
        },
        "title": "cam",
        "width": 500
       }
      },
      "text/html": [
       "<div id=\"faf4ade3-b98e-42b1-9c76-7eddab218673\" style=\"height: 525px; width: 500px;\" class=\"plotly-graph-div\"></div><script type=\"text/javascript\">require([\"plotly\"], function(Plotly) { window.PLOTLYENV=window.PLOTLYENV || {};window.PLOTLYENV.BASE_URL=\"https://plot.ly\";Plotly.newPlot(\"faf4ade3-b98e-42b1-9c76-7eddab218673\", [{\"marker\": {\"opacity\": 0.8, \"line\": {\"color\": \"rgba(200,200,200)\", \"width\": 0.5}, \"size\": 5}, \"mode\": \"markers\", \"y\": [-0.06149150823485325, -0.03539811539589236, -0.06395156789080905, -0.1048106697138684, -0.23394799498346316, -0.14926088349839844], \"x\": [-0.11633081596850844, -0.006726354891374034, -0.006112161581278815, -0.11665500565857673, -0.32487318452593217, -0.11397046975155055], \"z\": [0.005767668249282288, -0.4675095520442282, -0.9620839534346621, 0.43078643397812133, 0.27264738404399136, 0.054321249099676276], \"type\": \"scatter3d\"}, {\"marker\": {\"opacity\": 0.8, \"color\": \"rgb(27, 27, 27)\", \"line\": {\"color\": \"rgba(200,200,200)\", \"width\": 0.5}, \"size\": 5}, \"mode\": \"markers\", \"y\": [-0.06429803970967292], \"x\": [0.0663342137433458], \"z\": [0.6877140472186779], \"type\": \"scatter3d\"}, {\"marker\": {\"opacity\": 0.8, \"color\": \"rgb(327, 127, 57)\", \"line\": {\"color\": \"rgba(200,200,200)\", \"width\": 0.5}, \"size\": 5}, \"mode\": \"markers\", \"y\": [0.06149139892265251, 0.23876127034121414, 0.26485308324269663, 0.037321598111125225, 0.12098430359675078, 0.2559683906405627], \"x\": [0.1780256229434525, 0.14791744970318327, 0.29272696222988936, 0.1765523546653548, 0.1895088824870357, 0.13045877368509182], \"z\": [-0.017424971344492154, -0.44263013827360587, -0.9361322595824342, 0.402469557214414, 0.15120773677132412, 0.3798651478051028], \"type\": \"scatter3d\"}], {\"width\": 500, \"margin\": {\"r\": 0, \"b\": 0, \"t\": 0, \"l\": 0}, \"scene\": {\"yaxis\": {\"range\": [-1, 1], \"nticks\": 4}, \"aspectmode\": \"manual\", \"camera\": {\"eye\": {\"y\": -2, \"x\": 0, \"z\": 0}, \"center\": {\"y\": 0, \"x\": 0, \"z\": 0}, \"up\": {\"y\": 0, \"x\": 0, \"z\": 1}}, \"zaxis\": {\"range\": [-1, 1], \"nticks\": 4}, \"xaxis\": {\"range\": [-1, 1], \"nticks\": 4}, \"aspectratio\": {\"y\": 1, \"x\": 1, \"z\": 1}}, \"title\": \"cam\"}, {\"linkText\": \"Export to plot.ly\", \"showLink\": true})});</script>"
      ],
      "text/vnd.plotly.v1+html": [
       "<div id=\"faf4ade3-b98e-42b1-9c76-7eddab218673\" style=\"height: 525px; width: 500px;\" class=\"plotly-graph-div\"></div><script type=\"text/javascript\">require([\"plotly\"], function(Plotly) { window.PLOTLYENV=window.PLOTLYENV || {};window.PLOTLYENV.BASE_URL=\"https://plot.ly\";Plotly.newPlot(\"faf4ade3-b98e-42b1-9c76-7eddab218673\", [{\"marker\": {\"opacity\": 0.8, \"line\": {\"color\": \"rgba(200,200,200)\", \"width\": 0.5}, \"size\": 5}, \"mode\": \"markers\", \"y\": [-0.06149150823485325, -0.03539811539589236, -0.06395156789080905, -0.1048106697138684, -0.23394799498346316, -0.14926088349839844], \"x\": [-0.11633081596850844, -0.006726354891374034, -0.006112161581278815, -0.11665500565857673, -0.32487318452593217, -0.11397046975155055], \"z\": [0.005767668249282288, -0.4675095520442282, -0.9620839534346621, 0.43078643397812133, 0.27264738404399136, 0.054321249099676276], \"type\": \"scatter3d\"}, {\"marker\": {\"opacity\": 0.8, \"color\": \"rgb(27, 27, 27)\", \"line\": {\"color\": \"rgba(200,200,200)\", \"width\": 0.5}, \"size\": 5}, \"mode\": \"markers\", \"y\": [-0.06429803970967292], \"x\": [0.0663342137433458], \"z\": [0.6877140472186779], \"type\": \"scatter3d\"}, {\"marker\": {\"opacity\": 0.8, \"color\": \"rgb(327, 127, 57)\", \"line\": {\"color\": \"rgba(200,200,200)\", \"width\": 0.5}, \"size\": 5}, \"mode\": \"markers\", \"y\": [0.06149139892265251, 0.23876127034121414, 0.26485308324269663, 0.037321598111125225, 0.12098430359675078, 0.2559683906405627], \"x\": [0.1780256229434525, 0.14791744970318327, 0.29272696222988936, 0.1765523546653548, 0.1895088824870357, 0.13045877368509182], \"z\": [-0.017424971344492154, -0.44263013827360587, -0.9361322595824342, 0.402469557214414, 0.15120773677132412, 0.3798651478051028], \"type\": \"scatter3d\"}], {\"width\": 500, \"margin\": {\"r\": 0, \"b\": 0, \"t\": 0, \"l\": 0}, \"scene\": {\"yaxis\": {\"range\": [-1, 1], \"nticks\": 4}, \"aspectmode\": \"manual\", \"camera\": {\"eye\": {\"y\": -2, \"x\": 0, \"z\": 0}, \"center\": {\"y\": 0, \"x\": 0, \"z\": 0}, \"up\": {\"y\": 0, \"x\": 0, \"z\": 1}}, \"zaxis\": {\"range\": [-1, 1], \"nticks\": 4}, \"xaxis\": {\"range\": [-1, 1], \"nticks\": 4}, \"aspectratio\": {\"y\": 1, \"x\": 1, \"z\": 1}}, \"title\": \"cam\"}, {\"linkText\": \"Export to plot.ly\", \"showLink\": true})});</script>"
      ]
     },
     "metadata": {},
     "output_type": "display_data"
    },
    {
     "data": {
      "application/vnd.plotly.v1+json": {
       "data": [
        {
         "marker": {
          "line": {
           "color": "rgba(200,200,200)",
           "width": 0.5
          },
          "opacity": 0.8,
          "size": 5
         },
         "mode": "markers",
         "type": "scatter3d",
         "x": [
          -0.11955693281369253,
          -0.01813401401016626,
          0.015796986024973595,
          -0.09820908554297017,
          -0.29055132465544053,
          -0.13808703920282536
         ],
         "y": [
          -0.06149150823485325,
          -0.03539811539589236,
          -0.06395156789080905,
          -0.1048106697138684,
          -0.23394799498346316,
          -0.14926088349839844
         ],
         "z": [
          0.007423975991204991,
          -0.4352469633604661,
          -0.9674279239378656,
          0.47075284080352503,
          0.28050798402377425,
          0.048295553820374953
         ]
        },
        {
         "marker": {
          "color": "rgb(27, 27, 27)",
          "line": {
           "color": "rgba(200,200,200)",
           "width": 0.5
          },
          "opacity": 0.8,
          "size": 5
         },
         "mode": "markers",
         "type": "scatter3d",
         "x": [
          0.05071416563008052
         ],
         "y": [
          -0.06429803970967292
         ],
         "z": [
          0.7105220055668546
         ]
        },
        {
         "marker": {
          "color": "rgb(327, 127, 57)",
          "line": {
           "color": "rgba(200,200,200)",
           "width": 0.5
          },
          "opacity": 0.8,
          "size": 5
         },
         "mode": "markers",
         "type": "scatter3d",
         "x": [
          0.14541598280556017,
          0.12181824334281045,
          0.29476854283986814,
          0.13238547370861972,
          0.20553183800322,
          0.16070954345781616
         ],
         "y": [
          0.06149139892265251,
          0.23876127034121414,
          0.26485308324269663,
          0.037321598111125225,
          0.12098430359675078,
          0.2559683906405627
         ],
         "z": [
          0.010336753414510161,
          -0.48261310081387004,
          -0.9304127332839695,
          0.4468195040333941,
          0.20145854380797706,
          0.3736737613488993
         ]
        }
       ],
       "layout": {
        "margin": {
         "b": 0,
         "l": 0,
         "r": 0,
         "t": 0
        },
        "scene": {
         "aspectmode": "manual",
         "aspectratio": {
          "x": 1,
          "y": 1,
          "z": 1
         },
         "camera": {
          "center": {
           "x": 0,
           "y": 0,
           "z": 0
          },
          "eye": {
           "x": 0,
           "y": -2,
           "z": 0
          },
          "up": {
           "x": 0,
           "y": 0,
           "z": 1
          }
         },
         "xaxis": {
          "nticks": 4,
          "range": [
           -1,
           1
          ]
         },
         "yaxis": {
          "nticks": 4,
          "range": [
           -1,
           1
          ]
         },
         "zaxis": {
          "nticks": 4,
          "range": [
           -1,
           1
          ]
         }
        },
        "title": "cam",
        "width": 500
       }
      },
      "text/html": [
       "<div id=\"4513a431-6d35-474c-8945-3b9915a823b3\" style=\"height: 525px; width: 500px;\" class=\"plotly-graph-div\"></div><script type=\"text/javascript\">require([\"plotly\"], function(Plotly) { window.PLOTLYENV=window.PLOTLYENV || {};window.PLOTLYENV.BASE_URL=\"https://plot.ly\";Plotly.newPlot(\"4513a431-6d35-474c-8945-3b9915a823b3\", [{\"marker\": {\"opacity\": 0.8, \"line\": {\"color\": \"rgba(200,200,200)\", \"width\": 0.5}, \"size\": 5}, \"mode\": \"markers\", \"y\": [-0.06149150823485325, -0.03539811539589236, -0.06395156789080905, -0.1048106697138684, -0.23394799498346316, -0.14926088349839844], \"x\": [-0.11955693281369253, -0.01813401401016626, 0.015796986024973595, -0.09820908554297017, -0.29055132465544053, -0.13808703920282536], \"z\": [0.007423975991204991, -0.4352469633604661, -0.9674279239378656, 0.47075284080352503, 0.28050798402377425, 0.048295553820374953], \"type\": \"scatter3d\"}, {\"marker\": {\"opacity\": 0.8, \"color\": \"rgb(27, 27, 27)\", \"line\": {\"color\": \"rgba(200,200,200)\", \"width\": 0.5}, \"size\": 5}, \"mode\": \"markers\", \"y\": [-0.06429803970967292], \"x\": [0.05071416563008052], \"z\": [0.7105220055668546], \"type\": \"scatter3d\"}, {\"marker\": {\"opacity\": 0.8, \"color\": \"rgb(327, 127, 57)\", \"line\": {\"color\": \"rgba(200,200,200)\", \"width\": 0.5}, \"size\": 5}, \"mode\": \"markers\", \"y\": [0.06149139892265251, 0.23876127034121414, 0.26485308324269663, 0.037321598111125225, 0.12098430359675078, 0.2559683906405627], \"x\": [0.14541598280556017, 0.12181824334281045, 0.29476854283986814, 0.13238547370861972, 0.20553183800322, 0.16070954345781616], \"z\": [0.010336753414510161, -0.48261310081387004, -0.9304127332839695, 0.4468195040333941, 0.20145854380797706, 0.3736737613488993], \"type\": \"scatter3d\"}], {\"width\": 500, \"margin\": {\"r\": 0, \"b\": 0, \"t\": 0, \"l\": 0}, \"scene\": {\"yaxis\": {\"range\": [-1, 1], \"nticks\": 4}, \"aspectmode\": \"manual\", \"camera\": {\"eye\": {\"y\": -2, \"x\": 0, \"z\": 0}, \"center\": {\"y\": 0, \"x\": 0, \"z\": 0}, \"up\": {\"y\": 0, \"x\": 0, \"z\": 1}}, \"zaxis\": {\"range\": [-1, 1], \"nticks\": 4}, \"xaxis\": {\"range\": [-1, 1], \"nticks\": 4}, \"aspectratio\": {\"y\": 1, \"x\": 1, \"z\": 1}}, \"title\": \"cam\"}, {\"linkText\": \"Export to plot.ly\", \"showLink\": true})});</script>"
      ],
      "text/vnd.plotly.v1+html": [
       "<div id=\"4513a431-6d35-474c-8945-3b9915a823b3\" style=\"height: 525px; width: 500px;\" class=\"plotly-graph-div\"></div><script type=\"text/javascript\">require([\"plotly\"], function(Plotly) { window.PLOTLYENV=window.PLOTLYENV || {};window.PLOTLYENV.BASE_URL=\"https://plot.ly\";Plotly.newPlot(\"4513a431-6d35-474c-8945-3b9915a823b3\", [{\"marker\": {\"opacity\": 0.8, \"line\": {\"color\": \"rgba(200,200,200)\", \"width\": 0.5}, \"size\": 5}, \"mode\": \"markers\", \"y\": [-0.06149150823485325, -0.03539811539589236, -0.06395156789080905, -0.1048106697138684, -0.23394799498346316, -0.14926088349839844], \"x\": [-0.11955693281369253, -0.01813401401016626, 0.015796986024973595, -0.09820908554297017, -0.29055132465544053, -0.13808703920282536], \"z\": [0.007423975991204991, -0.4352469633604661, -0.9674279239378656, 0.47075284080352503, 0.28050798402377425, 0.048295553820374953], \"type\": \"scatter3d\"}, {\"marker\": {\"opacity\": 0.8, \"color\": \"rgb(27, 27, 27)\", \"line\": {\"color\": \"rgba(200,200,200)\", \"width\": 0.5}, \"size\": 5}, \"mode\": \"markers\", \"y\": [-0.06429803970967292], \"x\": [0.05071416563008052], \"z\": [0.7105220055668546], \"type\": \"scatter3d\"}, {\"marker\": {\"opacity\": 0.8, \"color\": \"rgb(327, 127, 57)\", \"line\": {\"color\": \"rgba(200,200,200)\", \"width\": 0.5}, \"size\": 5}, \"mode\": \"markers\", \"y\": [0.06149139892265251, 0.23876127034121414, 0.26485308324269663, 0.037321598111125225, 0.12098430359675078, 0.2559683906405627], \"x\": [0.14541598280556017, 0.12181824334281045, 0.29476854283986814, 0.13238547370861972, 0.20553183800322, 0.16070954345781616], \"z\": [0.010336753414510161, -0.48261310081387004, -0.9304127332839695, 0.4468195040333941, 0.20145854380797706, 0.3736737613488993], \"type\": \"scatter3d\"}], {\"width\": 500, \"margin\": {\"r\": 0, \"b\": 0, \"t\": 0, \"l\": 0}, \"scene\": {\"yaxis\": {\"range\": [-1, 1], \"nticks\": 4}, \"aspectmode\": \"manual\", \"camera\": {\"eye\": {\"y\": -2, \"x\": 0, \"z\": 0}, \"center\": {\"y\": 0, \"x\": 0, \"z\": 0}, \"up\": {\"y\": 0, \"x\": 0, \"z\": 1}}, \"zaxis\": {\"range\": [-1, 1], \"nticks\": 4}, \"xaxis\": {\"range\": [-1, 1], \"nticks\": 4}, \"aspectratio\": {\"y\": 1, \"x\": 1, \"z\": 1}}, \"title\": \"cam\"}, {\"linkText\": \"Export to plot.ly\", \"showLink\": true})});</script>"
      ]
     },
     "metadata": {},
     "output_type": "display_data"
    },
    {
     "data": {
      "application/vnd.plotly.v1+json": {
       "data": [
        {
         "marker": {
          "line": {
           "color": "rgba(200,200,200)",
           "width": 0.5
          },
          "opacity": 0.8,
          "size": 5
         },
         "mode": "markers",
         "type": "scatter3d",
         "x": [
          -0.1461448594899595,
          -0.07438934256427314,
          0.018528216486099584,
          -0.07996657129151268,
          -0.2877458968508608,
          -0.10873974062974032
         ],
         "y": [
          -0.06149150823485325,
          -0.03539811539589236,
          -0.06395156789080905,
          -0.1048106697138684,
          -0.23394799498346316,
          -0.14926088349839844
         ],
         "z": [
          0.0112679204782063,
          -0.46640138123998076,
          -0.9624539581463712,
          0.4519789212531312,
          0.29041751203661514,
          0.0874370330134542
         ]
        },
        {
         "marker": {
          "color": "rgb(27, 27, 27)",
          "line": {
           "color": "rgba(200,200,200)",
           "width": 0.5
          },
          "opacity": 0.8,
          "size": 5
         },
         "mode": "markers",
         "type": "scatter3d",
         "x": [
          0.06684293443119783
         ],
         "y": [
          -0.06429803970967292
         ],
         "z": [
          0.6718051644243498
         ]
        },
        {
         "marker": {
          "color": "rgb(327, 127, 57)",
          "line": {
           "color": "rgba(200,200,200)",
           "width": 0.5
          },
          "opacity": 0.8,
          "size": 5
         },
         "mode": "markers",
         "type": "scatter3d",
         "x": [
          0.19836336944594457,
          0.1239022827082559,
          0.3329355527051438,
          0.17719713199183645,
          0.19675696041581048,
          0.08478709296020344
         ],
         "y": [
          0.06149139892265251,
          0.23876127034121414,
          0.26485308324269663,
          0.037321598111125225,
          0.12098430359675078,
          0.2559683906405627
         ],
         "z": [
          -0.014437685876935339,
          -0.4675245531180099,
          -0.9262060014444778,
          0.4607244377308952,
          0.15585826956620702,
          0.3802226151667322
         ]
        }
       ],
       "layout": {
        "margin": {
         "b": 0,
         "l": 0,
         "r": 0,
         "t": 0
        },
        "scene": {
         "aspectmode": "manual",
         "aspectratio": {
          "x": 1,
          "y": 1,
          "z": 1
         },
         "camera": {
          "center": {
           "x": 0,
           "y": 0,
           "z": 0
          },
          "eye": {
           "x": 0,
           "y": -2,
           "z": 0
          },
          "up": {
           "x": 0,
           "y": 0,
           "z": 1
          }
         },
         "xaxis": {
          "nticks": 4,
          "range": [
           -1,
           1
          ]
         },
         "yaxis": {
          "nticks": 4,
          "range": [
           -1,
           1
          ]
         },
         "zaxis": {
          "nticks": 4,
          "range": [
           -1,
           1
          ]
         }
        },
        "title": "cam",
        "width": 500
       }
      },
      "text/html": [
       "<div id=\"c734962b-7126-48ce-8e79-5b2c0595f450\" style=\"height: 525px; width: 500px;\" class=\"plotly-graph-div\"></div><script type=\"text/javascript\">require([\"plotly\"], function(Plotly) { window.PLOTLYENV=window.PLOTLYENV || {};window.PLOTLYENV.BASE_URL=\"https://plot.ly\";Plotly.newPlot(\"c734962b-7126-48ce-8e79-5b2c0595f450\", [{\"marker\": {\"opacity\": 0.8, \"line\": {\"color\": \"rgba(200,200,200)\", \"width\": 0.5}, \"size\": 5}, \"mode\": \"markers\", \"y\": [-0.06149150823485325, -0.03539811539589236, -0.06395156789080905, -0.1048106697138684, -0.23394799498346316, -0.14926088349839844], \"x\": [-0.1461448594899595, -0.07438934256427314, 0.018528216486099584, -0.07996657129151268, -0.2877458968508608, -0.10873974062974032], \"z\": [0.0112679204782063, -0.46640138123998076, -0.9624539581463712, 0.4519789212531312, 0.29041751203661514, 0.0874370330134542], \"type\": \"scatter3d\"}, {\"marker\": {\"opacity\": 0.8, \"color\": \"rgb(27, 27, 27)\", \"line\": {\"color\": \"rgba(200,200,200)\", \"width\": 0.5}, \"size\": 5}, \"mode\": \"markers\", \"y\": [-0.06429803970967292], \"x\": [0.06684293443119783], \"z\": [0.6718051644243498], \"type\": \"scatter3d\"}, {\"marker\": {\"opacity\": 0.8, \"color\": \"rgb(327, 127, 57)\", \"line\": {\"color\": \"rgba(200,200,200)\", \"width\": 0.5}, \"size\": 5}, \"mode\": \"markers\", \"y\": [0.06149139892265251, 0.23876127034121414, 0.26485308324269663, 0.037321598111125225, 0.12098430359675078, 0.2559683906405627], \"x\": [0.19836336944594457, 0.1239022827082559, 0.3329355527051438, 0.17719713199183645, 0.19675696041581048, 0.08478709296020344], \"z\": [-0.014437685876935339, -0.4675245531180099, -0.9262060014444778, 0.4607244377308952, 0.15585826956620702, 0.3802226151667322], \"type\": \"scatter3d\"}], {\"width\": 500, \"margin\": {\"r\": 0, \"b\": 0, \"t\": 0, \"l\": 0}, \"scene\": {\"yaxis\": {\"range\": [-1, 1], \"nticks\": 4}, \"aspectmode\": \"manual\", \"camera\": {\"eye\": {\"y\": -2, \"x\": 0, \"z\": 0}, \"center\": {\"y\": 0, \"x\": 0, \"z\": 0}, \"up\": {\"y\": 0, \"x\": 0, \"z\": 1}}, \"zaxis\": {\"range\": [-1, 1], \"nticks\": 4}, \"xaxis\": {\"range\": [-1, 1], \"nticks\": 4}, \"aspectratio\": {\"y\": 1, \"x\": 1, \"z\": 1}}, \"title\": \"cam\"}, {\"linkText\": \"Export to plot.ly\", \"showLink\": true})});</script>"
      ],
      "text/vnd.plotly.v1+html": [
       "<div id=\"c734962b-7126-48ce-8e79-5b2c0595f450\" style=\"height: 525px; width: 500px;\" class=\"plotly-graph-div\"></div><script type=\"text/javascript\">require([\"plotly\"], function(Plotly) { window.PLOTLYENV=window.PLOTLYENV || {};window.PLOTLYENV.BASE_URL=\"https://plot.ly\";Plotly.newPlot(\"c734962b-7126-48ce-8e79-5b2c0595f450\", [{\"marker\": {\"opacity\": 0.8, \"line\": {\"color\": \"rgba(200,200,200)\", \"width\": 0.5}, \"size\": 5}, \"mode\": \"markers\", \"y\": [-0.06149150823485325, -0.03539811539589236, -0.06395156789080905, -0.1048106697138684, -0.23394799498346316, -0.14926088349839844], \"x\": [-0.1461448594899595, -0.07438934256427314, 0.018528216486099584, -0.07996657129151268, -0.2877458968508608, -0.10873974062974032], \"z\": [0.0112679204782063, -0.46640138123998076, -0.9624539581463712, 0.4519789212531312, 0.29041751203661514, 0.0874370330134542], \"type\": \"scatter3d\"}, {\"marker\": {\"opacity\": 0.8, \"color\": \"rgb(27, 27, 27)\", \"line\": {\"color\": \"rgba(200,200,200)\", \"width\": 0.5}, \"size\": 5}, \"mode\": \"markers\", \"y\": [-0.06429803970967292], \"x\": [0.06684293443119783], \"z\": [0.6718051644243498], \"type\": \"scatter3d\"}, {\"marker\": {\"opacity\": 0.8, \"color\": \"rgb(327, 127, 57)\", \"line\": {\"color\": \"rgba(200,200,200)\", \"width\": 0.5}, \"size\": 5}, \"mode\": \"markers\", \"y\": [0.06149139892265251, 0.23876127034121414, 0.26485308324269663, 0.037321598111125225, 0.12098430359675078, 0.2559683906405627], \"x\": [0.19836336944594457, 0.1239022827082559, 0.3329355527051438, 0.17719713199183645, 0.19675696041581048, 0.08478709296020344], \"z\": [-0.014437685876935339, -0.4675245531180099, -0.9262060014444778, 0.4607244377308952, 0.15585826956620702, 0.3802226151667322], \"type\": \"scatter3d\"}], {\"width\": 500, \"margin\": {\"r\": 0, \"b\": 0, \"t\": 0, \"l\": 0}, \"scene\": {\"yaxis\": {\"range\": [-1, 1], \"nticks\": 4}, \"aspectmode\": \"manual\", \"camera\": {\"eye\": {\"y\": -2, \"x\": 0, \"z\": 0}, \"center\": {\"y\": 0, \"x\": 0, \"z\": 0}, \"up\": {\"y\": 0, \"x\": 0, \"z\": 1}}, \"zaxis\": {\"range\": [-1, 1], \"nticks\": 4}, \"xaxis\": {\"range\": [-1, 1], \"nticks\": 4}, \"aspectratio\": {\"y\": 1, \"x\": 1, \"z\": 1}}, \"title\": \"cam\"}, {\"linkText\": \"Export to plot.ly\", \"showLink\": true})});</script>"
      ]
     },
     "metadata": {},
     "output_type": "display_data"
    }
   ],
   "source": [
    "def viz_(ex):\n",
    "    a = ex.copy()\n",
    "    noise = gNoise.get()\n",
    "    a[:,0] = a[:,0] + noise[:13]\n",
    "    a[:,2] = a[:,2] + noise[13:]\n",
    "    h36m.visualize_3D(a)\n",
    "\n",
    "h36m.visualize_3D(trainset[3002])\n",
    "viz_(trainset[3002])\n",
    "viz_(trainset[3002])\n",
    "viz_(trainset[3002])"
   ]
  },
  {
   "cell_type": "code",
   "execution_count": 59,
   "metadata": {},
   "outputs": [
    {
     "data": {
      "text/plain": [
       "array([[ 0.01068972,  0.00693554],\n",
       "       [-0.00903008,  0.0045361 ],\n",
       "       [-0.00775534, -0.00744019],\n",
       "       [ 0.02035905,  0.01531951],\n",
       "       [-0.00924975,  0.01209586],\n",
       "       [ 0.00542581,  0.00016571],\n",
       "       [ 0.02161704, -0.02186013],\n",
       "       [ 0.00011806, -0.0072451 ],\n",
       "       [-0.00567606,  0.00498873],\n",
       "       [ 0.00738159,  0.00132023],\n",
       "       [-0.00320918,  0.02041446],\n",
       "       [ 0.01870406,  0.00493997],\n",
       "       [-0.00325145, -0.01310843]])"
      ]
     },
     "execution_count": 59,
     "metadata": {},
     "output_type": "execute_result"
    }
   ],
   "source": [
    "gNoise.get()"
   ]
  },
  {
   "cell_type": "markdown",
   "metadata": {},
   "source": [
    "## Train the model"
   ]
  },
  {
   "cell_type": "code",
   "execution_count": 3,
   "metadata": {},
   "outputs": [],
   "source": [
    "trainset = np.load(\"dataset/human36M/processed_data/trainset.npy\")\n",
    "testset = np.load(\"dataset/human36M/processed_data/testset.npy\")"
   ]
  },
  {
   "cell_type": "code",
   "execution_count": 4,
   "metadata": {},
   "outputs": [],
   "source": [
    "from src.models.modelFactory import ModelFactory"
   ]
  },
  {
   "cell_type": "code",
   "execution_count": 5,
   "metadata": {},
   "outputs": [
    {
     "name": "stdout",
     "output_type": "stream",
     "text": [
      "INFO:tensorflow:Restoring parameters from parameters/pose3d/v1/checkpoint-113577\n"
     ]
    }
   ],
   "source": [
    "model3d = ModelFactory.buildPose3DInterface()"
   ]
  },
  {
   "cell_type": "code",
   "execution_count": 65,
   "metadata": {},
   "outputs": [],
   "source": [
    "class BatchProvider:\n",
    "    \n",
    "    def __init__(self, features, values, batchSize, gaussianNoise = None):\n",
    "        \n",
    "        off = features.shape[0]%batchSize\n",
    "        \n",
    "        features = features[:-off,:]\n",
    "        values = values[:-off,:]\n",
    "        \n",
    "        self.features = features\n",
    "        self.values = values\n",
    "        self.batchSize = batchSize\n",
    "        self.gaussianNoise = gaussianNoise\n",
    "        \n",
    "    def shuffle(self):\n",
    "        \n",
    "        rndId = [i for i in range(self.features.shape[0])]\n",
    "        random.shuffle(rndId)          \n",
    "        self.features = self.features[rndId, :]\n",
    "        self.values = self.values[rndId, :]\n",
    "        \n",
    "    def size(self):\n",
    "        return int(self.features.shape[0]/self.batchSize)\n",
    "    \n",
    "    def getBatch(self, batchId):\n",
    "        features = self.features[(batchId*self.batchSize):((batchId+1)*self.batchSize),:]\n",
    "        features = features + self.gaussianNoise.getBatch(self.batchSize) if self.gaussianNoise != None else features\n",
    "        values = self.values[(batchId*self.batchSize):((batchId+1)*self.batchSize),:]\n",
    "        return (features,values)\n",
    "        "
   ]
  },
  {
   "cell_type": "code",
   "execution_count": 7,
   "metadata": {},
   "outputs": [],
   "source": [
    "train_features = np.hstack([trainset[:,:,0], trainset[:,:,2]])\n",
    "train_values = trainset[:,:,1]\n",
    "\n",
    "test_features = np.hstack([testset[:,:,0], testset[:,:,2]])\n",
    "test_values = testset[:,:,1]"
   ]
  },
  {
   "cell_type": "code",
   "execution_count": 201,
   "metadata": {},
   "outputs": [],
   "source": [
    "gNoise = GaussianNoise([0.028/2 for _ in range(13*2)])"
   ]
  },
  {
   "cell_type": "code",
   "execution_count": 202,
   "metadata": {},
   "outputs": [],
   "source": [
    "bProv = BatchProvider(train_features, train_values, 16, gNoise)"
   ]
  },
  {
   "cell_type": "code",
   "execution_count": 214,
   "metadata": {},
   "outputs": [
    {
     "data": {
      "application/vnd.plotly.v1+json": {
       "data": [
        {
         "marker": {
          "line": {
           "color": "rgba(217, 217, 217, 0.14)",
           "width": 0.5
          },
          "opacity": 0.8,
          "size": 5
         },
         "mode": "markers",
         "type": "scatter3d",
         "x": [
          -0.16192137336123064,
          -0.13212306318403694,
          -0.09954877212971969,
          0.1732354486720125,
          0.1319755143925102,
          0.14704656011944256,
          -0.0018922289428996305,
          0.15091015430175464,
          0.2169019897357849,
          0.27424820042487785,
          -0.1329779149283514,
          -0.23816129653185897,
          -0.2842602512619134
         ],
         "y": [
          -0.004758286109104563,
          0.05263970600168458,
          0.14553981382644,
          0.004758286109104563,
          0.03222921340608539,
          0.10581918177700701,
          0.05816696982246354,
          0.029946653098570326,
          0.07977236445942623,
          0.0917968706206378,
          0.03688253965062686,
          0.10054284805174961,
          0.11362281267314012
         ],
         "z": [
          0.007919507141399555,
          -0.4753328757549699,
          -0.9477806575827887,
          -0.008475230068627309,
          -0.5019919477202887,
          -0.9871009728365004,
          0.7291288805614519,
          0.45032106924938814,
          0.17066426956478492,
          -0.11577237017186698,
          0.46106414292476394,
          0.15431188439660018,
          -0.10578876550577891
         ]
        },
        {
         "marker": {
          "color": "rgb(327, 127, 57)",
          "line": {
           "color": "rgba(217, 217, 217, 0.14)",
           "width": 0.5
          },
          "opacity": 0.8,
          "size": 5
         },
         "mode": "markers",
         "type": "scatter3d",
         "x": [
          -0.16192137336123064,
          -0.13212306318403694,
          -0.09954877212971969,
          0.1732354486720125,
          0.1319755143925102,
          0.14704656011944256,
          -0.0018922289428996305,
          0.15091015430175464,
          0.2169019897357849,
          0.27424820042487785,
          -0.1329779149283514,
          -0.23816129653185897,
          -0.2842602512619134
         ],
         "y": [
          -0.004758286109104563,
          0.05263970600168458,
          0.14553981382644,
          0.004758286109104563,
          0.03222921340608539,
          0.10581918177700701,
          0.05816696982246354,
          0.029946653098570326,
          0.07977236445942623,
          0.0917968706206378,
          0.03688253965062686,
          0.10054284805174961,
          0.11362281267314012
         ],
         "z": [
          0.007919507141399555,
          -0.4753328757549699,
          -0.9477806575827887,
          -0.008475230068627309,
          -0.5019919477202887,
          -0.9871009728365004,
          0.7291288805614519,
          0.45032106924938814,
          0.17066426956478492,
          -0.11577237017186698,
          0.46106414292476394,
          0.15431188439660018,
          -0.10578876550577891
         ]
        }
       ],
       "layout": {
        "margin": {
         "b": 0,
         "l": 0,
         "r": 0,
         "t": 0
        },
        "scene": {
         "aspectmode": "manual",
         "aspectratio": {
          "x": 1,
          "y": 1,
          "z": 1
         },
         "camera": {
          "center": {
           "x": 0,
           "y": 0,
           "z": 0
          },
          "eye": {
           "x": 0,
           "y": -2,
           "z": 0
          },
          "up": {
           "x": 0,
           "y": 0,
           "z": 1
          }
         },
         "xaxis": {
          "nticks": 4,
          "range": [
           -1,
           1
          ]
         },
         "yaxis": {
          "nticks": 4,
          "range": [
           -1,
           1
          ]
         },
         "zaxis": {
          "nticks": 4,
          "range": [
           -1,
           1
          ]
         }
        },
        "title": "cam",
        "width": 500
       }
      },
      "text/html": [
       "<div id=\"98bc5b4d-87e5-41a4-ba02-a75c97776183\" style=\"height: 525px; width: 500px;\" class=\"plotly-graph-div\"></div><script type=\"text/javascript\">require([\"plotly\"], function(Plotly) { window.PLOTLYENV=window.PLOTLYENV || {};window.PLOTLYENV.BASE_URL=\"https://plot.ly\";Plotly.newPlot(\"98bc5b4d-87e5-41a4-ba02-a75c97776183\", [{\"marker\": {\"opacity\": 0.8, \"line\": {\"color\": \"rgba(217, 217, 217, 0.14)\", \"width\": 0.5}, \"size\": 5}, \"mode\": \"markers\", \"y\": [-0.004758286109104563, 0.05263970600168458, 0.14553981382644, 0.004758286109104563, 0.03222921340608539, 0.10581918177700701, 0.05816696982246354, 0.029946653098570326, 0.07977236445942623, 0.0917968706206378, 0.03688253965062686, 0.10054284805174961, 0.11362281267314012], \"x\": [-0.16192137336123064, -0.13212306318403694, -0.09954877212971969, 0.1732354486720125, 0.1319755143925102, 0.14704656011944256, -0.0018922289428996305, 0.15091015430175464, 0.2169019897357849, 0.27424820042487785, -0.1329779149283514, -0.23816129653185897, -0.2842602512619134], \"z\": [0.007919507141399555, -0.4753328757549699, -0.9477806575827887, -0.008475230068627309, -0.5019919477202887, -0.9871009728365004, 0.7291288805614519, 0.45032106924938814, 0.17066426956478492, -0.11577237017186698, 0.46106414292476394, 0.15431188439660018, -0.10578876550577891], \"type\": \"scatter3d\"}, {\"marker\": {\"opacity\": 0.8, \"color\": \"rgb(327, 127, 57)\", \"line\": {\"color\": \"rgba(217, 217, 217, 0.14)\", \"width\": 0.5}, \"size\": 5}, \"mode\": \"markers\", \"y\": [-0.004758286109104563, 0.05263970600168458, 0.14553981382644, 0.004758286109104563, 0.03222921340608539, 0.10581918177700701, 0.05816696982246354, 0.029946653098570326, 0.07977236445942623, 0.0917968706206378, 0.03688253965062686, 0.10054284805174961, 0.11362281267314012], \"x\": [-0.16192137336123064, -0.13212306318403694, -0.09954877212971969, 0.1732354486720125, 0.1319755143925102, 0.14704656011944256, -0.0018922289428996305, 0.15091015430175464, 0.2169019897357849, 0.27424820042487785, -0.1329779149283514, -0.23816129653185897, -0.2842602512619134], \"z\": [0.007919507141399555, -0.4753328757549699, -0.9477806575827887, -0.008475230068627309, -0.5019919477202887, -0.9871009728365004, 0.7291288805614519, 0.45032106924938814, 0.17066426956478492, -0.11577237017186698, 0.46106414292476394, 0.15431188439660018, -0.10578876550577891], \"type\": \"scatter3d\"}], {\"width\": 500, \"margin\": {\"r\": 0, \"b\": 0, \"t\": 0, \"l\": 0}, \"scene\": {\"yaxis\": {\"range\": [-1, 1], \"nticks\": 4}, \"aspectmode\": \"manual\", \"camera\": {\"eye\": {\"y\": -2, \"x\": 0, \"z\": 0}, \"center\": {\"y\": 0, \"x\": 0, \"z\": 0}, \"up\": {\"y\": 0, \"x\": 0, \"z\": 1}}, \"zaxis\": {\"range\": [-1, 1], \"nticks\": 4}, \"xaxis\": {\"range\": [-1, 1], \"nticks\": 4}, \"aspectratio\": {\"y\": 1, \"x\": 1, \"z\": 1}}, \"title\": \"cam\"}, {\"linkText\": \"Export to plot.ly\", \"showLink\": true})});</script>"
      ],
      "text/vnd.plotly.v1+html": [
       "<div id=\"98bc5b4d-87e5-41a4-ba02-a75c97776183\" style=\"height: 525px; width: 500px;\" class=\"plotly-graph-div\"></div><script type=\"text/javascript\">require([\"plotly\"], function(Plotly) { window.PLOTLYENV=window.PLOTLYENV || {};window.PLOTLYENV.BASE_URL=\"https://plot.ly\";Plotly.newPlot(\"98bc5b4d-87e5-41a4-ba02-a75c97776183\", [{\"marker\": {\"opacity\": 0.8, \"line\": {\"color\": \"rgba(217, 217, 217, 0.14)\", \"width\": 0.5}, \"size\": 5}, \"mode\": \"markers\", \"y\": [-0.004758286109104563, 0.05263970600168458, 0.14553981382644, 0.004758286109104563, 0.03222921340608539, 0.10581918177700701, 0.05816696982246354, 0.029946653098570326, 0.07977236445942623, 0.0917968706206378, 0.03688253965062686, 0.10054284805174961, 0.11362281267314012], \"x\": [-0.16192137336123064, -0.13212306318403694, -0.09954877212971969, 0.1732354486720125, 0.1319755143925102, 0.14704656011944256, -0.0018922289428996305, 0.15091015430175464, 0.2169019897357849, 0.27424820042487785, -0.1329779149283514, -0.23816129653185897, -0.2842602512619134], \"z\": [0.007919507141399555, -0.4753328757549699, -0.9477806575827887, -0.008475230068627309, -0.5019919477202887, -0.9871009728365004, 0.7291288805614519, 0.45032106924938814, 0.17066426956478492, -0.11577237017186698, 0.46106414292476394, 0.15431188439660018, -0.10578876550577891], \"type\": \"scatter3d\"}, {\"marker\": {\"opacity\": 0.8, \"color\": \"rgb(327, 127, 57)\", \"line\": {\"color\": \"rgba(217, 217, 217, 0.14)\", \"width\": 0.5}, \"size\": 5}, \"mode\": \"markers\", \"y\": [-0.004758286109104563, 0.05263970600168458, 0.14553981382644, 0.004758286109104563, 0.03222921340608539, 0.10581918177700701, 0.05816696982246354, 0.029946653098570326, 0.07977236445942623, 0.0917968706206378, 0.03688253965062686, 0.10054284805174961, 0.11362281267314012], \"x\": [-0.16192137336123064, -0.13212306318403694, -0.09954877212971969, 0.1732354486720125, 0.1319755143925102, 0.14704656011944256, -0.0018922289428996305, 0.15091015430175464, 0.2169019897357849, 0.27424820042487785, -0.1329779149283514, -0.23816129653185897, -0.2842602512619134], \"z\": [0.007919507141399555, -0.4753328757549699, -0.9477806575827887, -0.008475230068627309, -0.5019919477202887, -0.9871009728365004, 0.7291288805614519, 0.45032106924938814, 0.17066426956478492, -0.11577237017186698, 0.46106414292476394, 0.15431188439660018, -0.10578876550577891], \"type\": \"scatter3d\"}], {\"width\": 500, \"margin\": {\"r\": 0, \"b\": 0, \"t\": 0, \"l\": 0}, \"scene\": {\"yaxis\": {\"range\": [-1, 1], \"nticks\": 4}, \"aspectmode\": \"manual\", \"camera\": {\"eye\": {\"y\": -2, \"x\": 0, \"z\": 0}, \"center\": {\"y\": 0, \"x\": 0, \"z\": 0}, \"up\": {\"y\": 0, \"x\": 0, \"z\": 1}}, \"zaxis\": {\"range\": [-1, 1], \"nticks\": 4}, \"xaxis\": {\"range\": [-1, 1], \"nticks\": 4}, \"aspectratio\": {\"y\": 1, \"x\": 1, \"z\": 1}}, \"title\": \"cam\"}, {\"linkText\": \"Export to plot.ly\", \"showLink\": true})});</script>"
      ]
     },
     "metadata": {},
     "output_type": "display_data"
    }
   ],
   "source": [
    "feat,val = bProv.getBatch(0)\n",
    "\n",
    "visualize_prediction(feat[0],val[0],val[0])"
   ]
  },
  {
   "cell_type": "markdown",
   "metadata": {},
   "source": [
    "// TODO : try feature normalization"
   ]
  },
  {
   "cell_type": "code",
   "execution_count": 215,
   "metadata": {},
   "outputs": [],
   "source": [
    "def train(session, model, trainFeat, trainValues, testFeat, testValues, totalEpochs, dropout, saveDir, trainGaussianNoise=None, loadSavedModel=-1):\n",
    "    \n",
    "    log_every_n_batches = 50\n",
    "    test_every_n_batches = 10000\n",
    "    \n",
    "    batchTrainPro = BatchProvider(trainFeat, trainValues, model.batch_size, trainGaussianNoise)\n",
    "    \n",
    "    batchTestPro = BatchProvider(testFeat, testValues, model.batch_size)\n",
    "    \n",
    "    current_step = 0 if loadSavedModel <= 0 else loadSavedModel + 1\n",
    "    print(current_step)\n",
    "    \n",
    "    for epoch in range(totalEpochs):\n",
    "\n",
    "        loss = 0.\n",
    "        \n",
    "        for batchId in range(batchTrainPro.size()):\n",
    "            \n",
    "            feat, values = batchTrainPro.getBatch(batchId)\n",
    "            step_loss, loss_summary, lr_summary, _ = model.step(session, feat, values, dropout)\n",
    "            \n",
    "            if (batchId+1) % log_every_n_batches == 0:\n",
    "                # Log and print progress every log_every_n_batches batches\n",
    "                model.train_writer.add_summary( loss_summary, current_step )\n",
    "                model.train_writer.add_summary( lr_summary, current_step )    \n",
    "                print( str(loss/(batchId+1)) +\"     =at=> \" +str((batchId+1)) +\"/\" +str((batchTrainPro.size())))\n",
    "                \n",
    "                \n",
    "            if (batchId+1)% test_every_n_batches == 0: \n",
    "                testLoss = 0\n",
    "                for batchTestId in range(batchTestPro.size()):\n",
    "                    feat, values = batchTestPro.getBatch(batchTestId)\n",
    "                    test_step_loss, _,  _ = model.step(session, feat, values, 1.0, False)\n",
    "                    testLoss += test_step_loss\n",
    "                print(\"================================= TEST  : \"+str(testLoss/batchTestPro.size()))\n",
    "                \n",
    "                    \n",
    "            loss += step_loss\n",
    "            current_step += 1\n",
    "            \n",
    "        model.saver.save(session, os.path.join(saveDir, 'checkpoint'), global_step=current_step )"
   ]
  },
  {
   "cell_type": "code",
   "execution_count": 217,
   "metadata": {},
   "outputs": [
    {
     "name": "stdout",
     "output_type": "stream",
     "text": [
      "49213\n",
      "0.0061833903566002844     =at=> 50/32182\n",
      "0.006976122288033366     =at=> 100/32182\n",
      "0.010149829977502425     =at=> 150/32182\n",
      "0.013239217237569392     =at=> 200/32182\n",
      "0.01337860163860023     =at=> 250/32182\n",
      "0.012726634923989575     =at=> 300/32182\n",
      "0.012516843443736434     =at=> 350/32182\n",
      "0.01251583237259183     =at=> 400/32182\n",
      "0.011906484676421516     =at=> 450/32182\n",
      "0.012057123446371406     =at=> 500/32182\n",
      "0.011791637643579055     =at=> 550/32182\n",
      "0.016148191284155473     =at=> 600/32182\n",
      "0.01631516095573226     =at=> 650/32182\n",
      "0.016478680292743124     =at=> 700/32182\n",
      "0.016213297148856023     =at=> 750/32182\n",
      "0.015720543085772077     =at=> 800/32182\n",
      "0.015311337011208867     =at=> 850/32182\n",
      "0.014904904483248375     =at=> 900/32182\n",
      "0.01446042635012418     =at=> 950/32182\n",
      "0.01414120240160264     =at=> 1000/32182\n",
      "0.01382799332052292     =at=> 1050/32182\n",
      "0.01383894958046519     =at=> 1100/32182\n",
      "0.01367649519674318     =at=> 1150/32182\n",
      "0.013468979058088734     =at=> 1200/32182\n",
      "0.013273516541160643     =at=> 1250/32182\n",
      "0.013125919885396098     =at=> 1300/32182\n",
      "0.013110791390796227     =at=> 1350/32182\n",
      "0.013037292787505846     =at=> 1400/32182\n",
      "0.012860693390770206     =at=> 1450/32182\n",
      "0.012842049586276213     =at=> 1500/32182\n",
      "0.012693258407976358     =at=> 1550/32182\n",
      "0.012520947875163984     =at=> 1600/32182\n",
      "0.012356351365504618     =at=> 1650/32182\n",
      "0.012177882754271303     =at=> 1700/32182\n",
      "0.012067137331036584     =at=> 1750/32182\n",
      "0.012381480540821535     =at=> 1800/32182\n",
      "0.012670808344122928     =at=> 1850/32182\n",
      "0.012821550973151859     =at=> 1900/32182\n",
      "0.012987004550747     =at=> 1950/32182\n",
      "0.014198199319187551     =at=> 2000/32182\n",
      "0.01673304785542735     =at=> 2050/32182\n",
      "0.01991886909385877     =at=> 2100/32182\n",
      "0.02052093975679126     =at=> 2150/32182\n",
      "0.02031248228074136     =at=> 2200/32182\n",
      "0.020042934202692576     =at=> 2250/32182\n",
      "0.019839355410886522     =at=> 2300/32182\n",
      "0.019587278326953502     =at=> 2350/32182\n",
      "0.0194629514060216     =at=> 2400/32182\n",
      "0.019309448396825062     =at=> 2450/32182\n",
      "0.01913896122146398     =at=> 2500/32182\n",
      "0.019116782600644464     =at=> 2550/32182\n",
      "0.01902592877445456     =at=> 2600/32182\n",
      "0.018796057824115708     =at=> 2650/32182\n",
      "0.018574521440357247     =at=> 2700/32182\n",
      "0.01845781699813564     =at=> 2750/32182\n",
      "0.018390685974736698     =at=> 2800/32182\n",
      "0.018487079517278623     =at=> 2850/32182\n",
      "0.01850382436283639     =at=> 2900/32182\n",
      "0.018698073253588025     =at=> 2950/32182\n",
      "0.018536969053791836     =at=> 3000/32182\n",
      "0.018371749207011012     =at=> 3050/32182\n",
      "0.01815146797291574     =at=> 3100/32182\n",
      "0.017989022961581155     =at=> 3150/32182\n",
      "0.01788119492048281     =at=> 3200/32182\n",
      "0.018282660673300807     =at=> 3250/32182\n",
      "0.018222939344546333     =at=> 3300/32182\n",
      "0.018134704288929257     =at=> 3350/32182\n",
      "0.018353089001440608     =at=> 3400/32182\n",
      "0.01818003100876197     =at=> 3450/32182\n",
      "0.01802979185132842     =at=> 3500/32182\n",
      "0.017855610200531887     =at=> 3550/32182\n",
      "0.01769286119825362     =at=> 3600/32182\n",
      "0.017551866456075278     =at=> 3650/32182\n",
      "0.017380807790653527     =at=> 3700/32182\n",
      "0.017231633856582145     =at=> 3750/32182\n",
      "0.01709170701748103     =at=> 3800/32182\n",
      "0.017152924526591676     =at=> 3850/32182\n",
      "0.017120130804833024     =at=> 3900/32182\n",
      "0.017132985835034354     =at=> 3950/32182\n",
      "0.017023344261397143     =at=> 4000/32182\n",
      "0.016937450849980024     =at=> 4050/32182\n",
      "0.016907787107601307     =at=> 4100/32182\n",
      "0.01684302038036242     =at=> 4150/32182\n",
      "0.01670767295989208     =at=> 4200/32182\n",
      "0.01657815476219334     =at=> 4250/32182\n",
      "0.016442563681034805     =at=> 4300/32182\n",
      "0.016328515272143285     =at=> 4350/32182\n",
      "0.016209858361636922     =at=> 4400/32182\n",
      "0.016090869077957454     =at=> 4450/32182\n",
      "0.01598181020667673     =at=> 4500/32182\n",
      "0.015892563741782086     =at=> 4550/32182\n",
      "0.01579831013109272     =at=> 4600/32182\n",
      "0.015718159615187355     =at=> 4650/32182\n",
      "0.015617263529206962     =at=> 4700/32182\n",
      "0.015518115331982508     =at=> 4750/32182\n",
      "0.015446491738427236     =at=> 4800/32182\n",
      "0.015487809846076884     =at=> 4850/32182\n",
      "0.015451719619747136     =at=> 4900/32182\n",
      "0.015419576553077522     =at=> 4950/32182\n",
      "0.015347427826258354     =at=> 5000/32182\n",
      "0.015258629629780345     =at=> 5050/32182\n",
      "0.015167506069387765     =at=> 5100/32182\n",
      "0.01519350513375084     =at=> 5150/32182\n",
      "0.015160540300533355     =at=> 5200/32182\n",
      "0.015128530289999963     =at=> 5250/32182\n",
      "0.015209396002695563     =at=> 5300/32182\n",
      "0.015229184717553555     =at=> 5350/32182\n",
      "0.015156355073515981     =at=> 5400/32182\n",
      "0.015101655271959516     =at=> 5450/32182\n",
      "0.015023437143747948     =at=> 5500/32182\n",
      "0.014953963081037776     =at=> 5550/32182\n",
      "0.014895244740743822     =at=> 5600/32182\n",
      "0.014813331737104737     =at=> 5650/32182\n",
      "0.014731327359576857     =at=> 5700/32182\n",
      "0.014701898624209444     =at=> 5750/32182\n",
      "0.01470237492894802     =at=> 5800/32182\n",
      "0.014711822930178167     =at=> 5850/32182\n",
      "0.01465387357361378     =at=> 5900/32182\n",
      "0.014624730319336464     =at=> 5950/32182\n",
      "0.014635754915672199     =at=> 6000/32182\n",
      "0.01467452774696006     =at=> 6050/32182\n",
      "0.015023192582503115     =at=> 6100/32182\n",
      "0.015281415649791952     =at=> 6150/32182\n",
      "0.015267646346380183     =at=> 6200/32182\n",
      "0.015230944049116225     =at=> 6250/32182\n",
      "0.015191713171098234     =at=> 6300/32182\n",
      "0.015213828135050804     =at=> 6350/32182\n",
      "0.01517335344260573     =at=> 6400/32182\n",
      "0.015130993752188028     =at=> 6450/32182\n",
      "0.015074673710910317     =at=> 6500/32182\n",
      "0.015040400451251825     =at=> 6550/32182\n",
      "0.014989728181301898     =at=> 6600/32182\n",
      "0.014940868387492444     =at=> 6650/32182\n",
      "0.014985708853511363     =at=> 6700/32182\n",
      "0.014959978890277583     =at=> 6750/32182\n",
      "0.014918834107760202     =at=> 6800/32182\n",
      "0.015088014043374735     =at=> 6850/32182\n",
      "0.015093218226751744     =at=> 6900/32182\n",
      "0.015122170514417076     =at=> 6950/32182\n",
      "0.015105844326766342     =at=> 7000/32182\n",
      "0.015059056495999958     =at=> 7050/32182\n",
      "0.015008167398152349     =at=> 7100/32182\n",
      "0.015066227223805536     =at=> 7150/32182\n",
      "0.015118357405768217     =at=> 7200/32182\n",
      "0.015110752511271757     =at=> 7250/32182\n",
      "0.015090040899063652     =at=> 7300/32182\n",
      "0.015044821801414827     =at=> 7350/32182\n",
      "0.015007430691778584     =at=> 7400/32182\n",
      "0.014960377635543653     =at=> 7450/32182\n",
      "0.014909145417669788     =at=> 7500/32182\n",
      "0.014899440177959938     =at=> 7550/32182\n",
      "0.014844203407946656     =at=> 7600/32182\n",
      "0.014796816129739597     =at=> 7650/32182\n",
      "0.014742561504894915     =at=> 7700/32182\n",
      "0.01480211188420353     =at=> 7750/32182\n",
      "0.014881456958485218     =at=> 7800/32182\n",
      "0.014986086135810229     =at=> 7850/32182\n",
      "0.015017957841620863     =at=> 7900/32182\n",
      "0.015032515616123945     =at=> 7950/32182\n",
      "0.015007520920757089     =at=> 8000/32182\n",
      "0.015008204249644896     =at=> 8050/32182\n",
      "0.01504589836425033     =at=> 8100/32182\n",
      "0.0150884303836969     =at=> 8150/32182\n",
      "0.015127705345285215     =at=> 8200/32182\n",
      "0.01509062792096908     =at=> 8250/32182\n",
      "0.015044088641543458     =at=> 8300/32182\n",
      "0.015042003933410021     =at=> 8350/32182\n",
      "0.015018795814733798     =at=> 8400/32182\n",
      "0.014987425201575233     =at=> 8450/32182\n",
      "0.01493591517876998     =at=> 8500/32182\n",
      "0.014905113038724037     =at=> 8550/32182\n",
      "0.014868040336309498     =at=> 8600/32182\n",
      "0.014816074010827228     =at=> 8650/32182\n",
      "0.014775157443303936     =at=> 8700/32182\n",
      "0.014724916282708623     =at=> 8750/32182\n",
      "0.01468081164910638     =at=> 8800/32182\n",
      "0.014641534193474168     =at=> 8850/32182\n",
      "0.014592046121676881     =at=> 8900/32182\n",
      "0.014543158600884672     =at=> 8950/32182\n",
      "0.014500860022497364     =at=> 9000/32182\n",
      "0.01446447198535187     =at=> 9050/32182\n",
      "0.014445675620489375     =at=> 9100/32182\n",
      "0.014422122235829773     =at=> 9150/32182\n",
      "0.014394558190213739     =at=> 9200/32182\n",
      "0.014368983108084649     =at=> 9250/32182\n",
      "0.01433637623746519     =at=> 9300/32182\n",
      "0.014321033338291501     =at=> 9350/32182\n",
      "0.014388440513792646     =at=> 9400/32182\n",
      "0.014338730737855214     =at=> 9450/32182\n",
      "0.014301137343870084     =at=> 9500/32182\n",
      "0.014253631511432514     =at=> 9550/32182\n",
      "0.014202143527096875     =at=> 9600/32182\n",
      "0.014160313233395392     =at=> 9650/32182\n",
      "0.014129059427878675     =at=> 9700/32182\n",
      "0.014084408124216283     =at=> 9750/32182\n",
      "0.01403435100532821     =at=> 9800/32182\n",
      "0.013990891064129542     =at=> 9850/32182\n"
     ]
    },
    {
     "name": "stdout",
     "output_type": "stream",
     "text": [
      "0.013983724349921551     =at=> 9900/32182\n",
      "0.014035789364078387     =at=> 9950/32182\n",
      "0.01403236506744288     =at=> 10000/32182\n",
      "================================= TEST  : 0.035373401076669614\n",
      "0.014009707127049083     =at=> 10050/32182\n",
      "0.013988532983896202     =at=> 10100/32182\n",
      "0.013963618312269596     =at=> 10150/32182\n",
      "0.013957783127746854     =at=> 10200/32182\n",
      "0.013942202835252918     =at=> 10250/32182\n",
      "0.013923524832466021     =at=> 10300/32182\n",
      "0.013897012667595476     =at=> 10350/32182\n",
      "0.013863929893973713     =at=> 10400/32182\n",
      "0.013840111763412623     =at=> 10450/32182\n",
      "0.013850004306617415     =at=> 10500/32182\n",
      "0.013893704685665031     =at=> 10550/32182\n",
      "0.014320599765556354     =at=> 10600/32182\n",
      "0.014806536973733892     =at=> 10650/32182\n",
      "0.014975570159698793     =at=> 10700/32182\n",
      "0.015289604838092833     =at=> 10750/32182\n",
      "0.015675388285825546     =at=> 10800/32182\n",
      "0.016005050476387245     =at=> 10850/32182\n",
      "0.016277729408460916     =at=> 10900/32182\n",
      "0.016580018947373005     =at=> 10950/32182\n",
      "0.01658452229322442     =at=> 11000/32182\n",
      "0.016608887515157225     =at=> 11050/32182\n",
      "0.01664212414871079     =at=> 11100/32182\n",
      "0.016695790288514655     =at=> 11150/32182\n",
      "0.01667636624581064     =at=> 11200/32182\n",
      "0.016662594583816828     =at=> 11250/32182\n",
      "0.016630634059779246     =at=> 11300/32182\n",
      "0.016599740036886333     =at=> 11350/32182\n",
      "0.016574840891366956     =at=> 11400/32182\n",
      "0.016564474301148352     =at=> 11450/32182\n",
      "0.016559270326149365     =at=> 11500/32182\n",
      "0.016520994782097058     =at=> 11550/32182\n",
      "0.016483629988225435     =at=> 11600/32182\n",
      "0.016451615075552796     =at=> 11650/32182\n",
      "0.01641176782649918     =at=> 11700/32182\n",
      "0.01645752465655591     =at=> 11750/32182\n",
      "0.01655121871043328     =at=> 11800/32182\n",
      "0.016700761705766655     =at=> 11850/32182\n",
      "0.01668404406607699     =at=> 11900/32182\n",
      "0.016754931111461542     =at=> 11950/32182\n",
      "0.016799107211312125     =at=> 12000/32182\n",
      "0.01676254378962118     =at=> 12050/32182\n",
      "0.0168018020010815     =at=> 12100/32182\n",
      "0.016777021811159764     =at=> 12150/32182\n",
      "0.016760358891171237     =at=> 12200/32182\n",
      "0.016729015739520594     =at=> 12250/32182\n",
      "0.016685159392465603     =at=> 12300/32182\n",
      "0.016640848280213442     =at=> 12350/32182\n",
      "0.01659785912022926     =at=> 12400/32182\n",
      "0.016573195845920995     =at=> 12450/32182\n",
      "0.01655708526480943     =at=> 12500/32182\n",
      "0.016523853055242285     =at=> 12550/32182\n",
      "0.01650960593096291     =at=> 12600/32182\n",
      "0.01649005793344244     =at=> 12650/32182\n",
      "0.016462498697980242     =at=> 12700/32182\n",
      "0.016418609872222968     =at=> 12750/32182\n",
      "0.016374881810133957     =at=> 12800/32182\n",
      "0.016352983646091175     =at=> 12850/32182\n",
      "0.016324496041070093     =at=> 12900/32182\n",
      "0.0162950657843702     =at=> 12950/32182\n",
      "0.016262842797136936     =at=> 13000/32182\n",
      "0.01622819310528765     =at=> 13050/32182\n",
      "0.016189256622207188     =at=> 13100/32182\n",
      "0.016146460720939924     =at=> 13150/32182\n",
      "0.016126342483489268     =at=> 13200/32182\n",
      "0.016093686299908132     =at=> 13250/32182\n",
      "0.01612177343841264     =at=> 13300/32182\n",
      "0.016166187299063172     =at=> 13350/32182\n",
      "0.016179032207435388     =at=> 13400/32182\n",
      "0.01622546234370649     =at=> 13450/32182\n",
      "0.016237693456915656     =at=> 13500/32182\n",
      "0.016245492082106367     =at=> 13550/32182\n",
      "0.01625708816040595     =at=> 13600/32182\n",
      "0.01629041845048863     =at=> 13650/32182\n",
      "0.016305374759300374     =at=> 13700/32182\n",
      "0.016323511406796224     =at=> 13750/32182\n",
      "0.01630949754229126     =at=> 13800/32182\n",
      "0.016287326562984945     =at=> 13850/32182\n",
      "0.016255617025995078     =at=> 13900/32182\n",
      "0.01625750543112369     =at=> 13950/32182\n",
      "0.01637330166200575     =at=> 14000/32182\n",
      "0.016612782327630606     =at=> 14050/32182\n",
      "0.0167151033364778     =at=> 14100/32182\n",
      "0.01684092112672071     =at=> 14150/32182\n",
      "0.016838785136039827     =at=> 14200/32182\n",
      "0.016907130832310047     =at=> 14250/32182\n",
      "0.016903421612801617     =at=> 14300/32182\n",
      "0.016893760587741013     =at=> 14350/32182\n",
      "0.0168767272274191     =at=> 14400/32182\n",
      "0.016837828410708806     =at=> 14450/32182\n",
      "0.01680721222363605     =at=> 14500/32182\n",
      "0.016771366753426616     =at=> 14550/32182\n",
      "0.01673999624403372     =at=> 14600/32182\n",
      "0.016706164510723574     =at=> 14650/32182\n",
      "0.016667262385583477     =at=> 14700/32182\n",
      "0.016630678053219185     =at=> 14750/32182\n",
      "0.016600188027085686     =at=> 14800/32182\n",
      "0.016570449376585406     =at=> 14850/32182\n",
      "0.016585908464653003     =at=> 14900/32182\n",
      "0.016606929652925494     =at=> 14950/32182\n",
      "0.016612110111971074     =at=> 15000/32182\n",
      "0.016606614354400712     =at=> 15050/32182\n",
      "0.016587359211268828     =at=> 15100/32182\n",
      "0.016565657394643097     =at=> 15150/32182\n",
      "0.016578600482852812     =at=> 15200/32182\n",
      "0.01657589263485775     =at=> 15250/32182\n",
      "0.016595132672060524     =at=> 15300/32182\n",
      "0.016631459427818487     =at=> 15350/32182\n",
      "0.016680141305898667     =at=> 15400/32182\n",
      "0.016649200685599573     =at=> 15450/32182\n",
      "0.01662161424584807     =at=> 15500/32182\n",
      "0.016595408825736815     =at=> 15550/32182\n",
      "0.01656833855727783     =at=> 15600/32182\n",
      "0.01654154341165036     =at=> 15650/32182\n",
      "0.016521945468025507     =at=> 15700/32182\n",
      "0.016518158453324484     =at=> 15750/32182\n",
      "0.016545991693458318     =at=> 15800/32182\n",
      "0.016542674407586222     =at=> 15850/32182\n",
      "0.016575788075701807     =at=> 15900/32182\n",
      "0.016571137371113914     =at=> 15950/32182\n",
      "0.01657751545557403     =at=> 16000/32182\n",
      "0.016563719462435053     =at=> 16050/32182\n",
      "0.016546207377368942     =at=> 16100/32182\n",
      "0.0165210246317227     =at=> 16150/32182\n",
      "0.01650838153284434     =at=> 16200/32182\n",
      "0.016485475102181617     =at=> 16250/32182\n",
      "0.016470880658320076     =at=> 16300/32182\n",
      "0.016456578144866302     =at=> 16350/32182\n",
      "0.016431583870605497     =at=> 16400/32182\n",
      "0.016402636741692806     =at=> 16450/32182\n",
      "0.016410941764585334     =at=> 16500/32182\n",
      "0.016419078819664742     =at=> 16550/32182\n",
      "0.016520054485741443     =at=> 16600/32182\n",
      "0.016525165726285283     =at=> 16650/32182\n",
      "0.016505207893003648     =at=> 16700/32182\n",
      "0.01648485081716538     =at=> 16750/32182\n",
      "0.01646209520564991     =at=> 16800/32182\n",
      "0.016439872349886007     =at=> 16850/32182\n",
      "0.0164193097988871     =at=> 16900/32182\n",
      "0.01638684523896284     =at=> 16950/32182\n",
      "0.016361866336781532     =at=> 17000/32182\n",
      "0.01636237531905868     =at=> 17050/32182\n",
      "0.016357005666396772     =at=> 17100/32182\n",
      "0.01637913887299402     =at=> 17150/32182\n",
      "0.016472996325979313     =at=> 17200/32182\n",
      "0.016486107441448215     =at=> 17250/32182\n",
      "0.01649585716297172     =at=> 17300/32182\n",
      "0.016510021860069817     =at=> 17350/32182\n",
      "0.016503484357836197     =at=> 17400/32182\n",
      "0.016481374562424433     =at=> 17450/32182\n",
      "0.016537686879387392     =at=> 17500/32182\n",
      "0.01653867035535061     =at=> 17550/32182\n",
      "0.01655411743846013     =at=> 17600/32182\n",
      "0.01657476222407727     =at=> 17650/32182\n",
      "0.016552693137733297     =at=> 17700/32182\n",
      "0.01653152306038152     =at=> 17750/32182\n",
      "0.016521414602188436     =at=> 17800/32182\n",
      "0.016525084685797723     =at=> 17850/32182\n",
      "0.01651696874391985     =at=> 17900/32182\n",
      "0.016494236081024023     =at=> 17950/32182\n",
      "0.016470985142682266     =at=> 18000/32182\n",
      "0.016446351609373376     =at=> 18050/32182\n",
      "0.016420530785281644     =at=> 18100/32182\n",
      "0.01640029897342485     =at=> 18150/32182\n",
      "0.0163802235381253     =at=> 18200/32182\n",
      "0.016355815422159862     =at=> 18250/32182\n",
      "0.01633114156238175     =at=> 18300/32182\n",
      "0.016305035373363492     =at=> 18350/32182\n",
      "0.016277849732926016     =at=> 18400/32182\n",
      "0.01624865394942513     =at=> 18450/32182\n",
      "0.016230735439945618     =at=> 18500/32182\n",
      "0.016211774836801435     =at=> 18550/32182\n",
      "0.01619601477329339     =at=> 18600/32182\n",
      "0.01618383292040111     =at=> 18650/32182\n",
      "0.016182760446429512     =at=> 18700/32182\n",
      "0.01617096639962246     =at=> 18750/32182\n",
      "0.016149414045689134     =at=> 18800/32182\n",
      "0.016156558776756043     =at=> 18850/32182\n",
      "0.01613604415320205     =at=> 18900/32182\n",
      "0.016116136944629152     =at=> 18950/32182\n",
      "0.016100609923590366     =at=> 19000/32182\n",
      "0.016080116984688645     =at=> 19050/32182\n",
      "0.01609015668207214     =at=> 19100/32182\n",
      "0.016081570946397478     =at=> 19150/32182\n",
      "0.01606515312340586     =at=> 19200/32182\n",
      "0.016043915855093533     =at=> 19250/32182\n",
      "0.01606479603584875     =at=> 19300/32182\n",
      "0.016070783680884857     =at=> 19350/32182\n",
      "0.016049348365397856     =at=> 19400/32182\n"
     ]
    },
    {
     "name": "stdout",
     "output_type": "stream",
     "text": [
      "0.01603182557254436     =at=> 19450/32182\n",
      "0.01600515572231215     =at=> 19500/32182\n",
      "0.01600660435251577     =at=> 19550/32182\n",
      "0.016024186846845288     =at=> 19600/32182\n",
      "0.016025502013727436     =at=> 19650/32182\n",
      "0.016018092754346597     =at=> 19700/32182\n",
      "0.01603286430403543     =at=> 19750/32182\n",
      "0.01623133947591843     =at=> 19800/32182\n",
      "0.016538882869699272     =at=> 19850/32182\n",
      "0.016714555763033448     =at=> 19900/32182\n",
      "0.016745841055816706     =at=> 19950/32182\n",
      "0.016740331288811285     =at=> 20000/32182\n",
      "================================= TEST  : 0.041151955806532615\n",
      "0.016734939910009263     =at=> 20050/32182\n",
      "0.016729961806683527     =at=> 20100/32182\n",
      "0.01672224069461365     =at=> 20150/32182\n",
      "0.01670038769120756     =at=> 20200/32182\n",
      "0.016673279977760014     =at=> 20250/32182\n",
      "0.016653551237871     =at=> 20300/32182\n",
      "0.01672527484686162     =at=> 20350/32182\n",
      "0.01672280657119985     =at=> 20400/32182\n",
      "0.016708304521691482     =at=> 20450/32182\n",
      "0.016725456939748966     =at=> 20500/32182\n",
      "0.016732792601073184     =at=> 20550/32182\n",
      "0.016740650573770235     =at=> 20600/32182\n",
      "0.016800101873843724     =at=> 20650/32182\n",
      "0.016792017863084818     =at=> 20700/32182\n",
      "0.01677766817192132     =at=> 20750/32182\n",
      "0.01676811878405995     =at=> 20800/32182\n",
      "0.01676434888506679     =at=> 20850/32182\n",
      "0.016750455553393863     =at=> 20900/32182\n",
      "0.016731910160553767     =at=> 20950/32182\n",
      "0.01672463221522048     =at=> 21000/32182\n",
      "0.016721186278533907     =at=> 21050/32182\n",
      "0.016826987067740676     =at=> 21100/32182\n",
      "0.016891283380928896     =at=> 21150/32182\n",
      "0.016910578400942164     =at=> 21200/32182\n",
      "0.01694718324708588     =at=> 21250/32182\n",
      "0.016923083379294095     =at=> 21300/32182\n",
      "0.01690101542574434     =at=> 21350/32182\n",
      "0.0169063424228399     =at=> 21400/32182\n",
      "0.01690478437468366     =at=> 21450/32182\n",
      "0.01689602496092706     =at=> 21500/32182\n",
      "0.01687537996501396     =at=> 21550/32182\n",
      "0.016850394754351496     =at=> 21600/32182\n",
      "0.016841416705924563     =at=> 21650/32182\n",
      "0.016832536001633938     =at=> 21700/32182\n",
      "0.016816440853065457     =at=> 21750/32182\n",
      "0.016811834604825413     =at=> 21800/32182\n",
      "0.016794101555151885     =at=> 21850/32182\n",
      "0.016775949147751035     =at=> 21900/32182\n",
      "0.016756930937205605     =at=> 21950/32182\n",
      "0.01673946552327834     =at=> 22000/32182\n",
      "0.0167169010886593     =at=> 22050/32182\n",
      "0.016696732717922286     =at=> 22100/32182\n",
      "0.01668114658881349     =at=> 22150/32182\n",
      "0.016675820725556748     =at=> 22200/32182\n",
      "0.016654905652616885     =at=> 22250/32182\n",
      "0.01663895186163159     =at=> 22300/32182\n",
      "0.016614834734872068     =at=> 22350/32182\n",
      "0.016601698032671787     =at=> 22400/32182\n",
      "0.01658550891107392     =at=> 22450/32182\n",
      "0.016563627739385186     =at=> 22500/32182\n",
      "0.016547264359672523     =at=> 22550/32182\n",
      "0.0165254448353214     =at=> 22600/32182\n",
      "0.016502653131894685     =at=> 22650/32182\n",
      "0.016478028930692896     =at=> 22700/32182\n",
      "0.016459749014341978     =at=> 22750/32182\n",
      "0.016467109825145536     =at=> 22800/32182\n",
      "0.01646871765257273     =at=> 22850/32182\n",
      "0.01646403147360131     =at=> 22900/32182\n",
      "0.016549729098269638     =at=> 22950/32182\n",
      "0.016558440128108486     =at=> 23000/32182\n",
      "0.016543370336748724     =at=> 23050/32182\n",
      "0.016614057987825583     =at=> 23100/32182\n",
      "0.01661497916022545     =at=> 23150/32182\n",
      "0.01660868643574288     =at=> 23200/32182\n",
      "0.01659555771813718     =at=> 23250/32182\n",
      "0.01658214930376006     =at=> 23300/32182\n",
      "0.016566918833925123     =at=> 23350/32182\n",
      "0.0165513758694964     =at=> 23400/32182\n",
      "0.01653329146304118     =at=> 23450/32182\n",
      "0.01657118193766578     =at=> 23500/32182\n",
      "0.016557953260441544     =at=> 23550/32182\n",
      "0.01658294537375973     =at=> 23600/32182\n",
      "0.016577277723040202     =at=> 23650/32182\n",
      "0.01658478862430138     =at=> 23700/32182\n",
      "0.016575154054704073     =at=> 23750/32182\n",
      "0.016559397637983     =at=> 23800/32182\n",
      "0.016544423297319005     =at=> 23850/32182\n",
      "0.01652798875927668     =at=> 23900/32182\n",
      "0.016515260580606324     =at=> 23950/32182\n",
      "0.016498684644087915     =at=> 24000/32182\n",
      "0.016536816180114423     =at=> 24050/32182\n",
      "0.01659134817428508     =at=> 24100/32182\n",
      "0.0166306961847153     =at=> 24150/32182\n",
      "0.016644253906715     =at=> 24200/32182\n",
      "0.016662064971296672     =at=> 24250/32182\n",
      "0.016735569985397544     =at=> 24300/32182\n",
      "0.01679083685946194     =at=> 24350/32182\n",
      "0.01689477422601948     =at=> 24400/32182\n",
      "0.01697301866222889     =at=> 24450/32182\n",
      "0.017072896026331476     =at=> 24500/32182\n",
      "0.017409692836950045     =at=> 24550/32182\n",
      "0.017424236663675874     =at=> 24600/32182\n",
      "0.017420662077376147     =at=> 24650/32182\n",
      "0.017410084504967834     =at=> 24700/32182\n",
      "0.017403306187055254     =at=> 24750/32182\n",
      "0.017389723725247032     =at=> 24800/32182\n",
      "0.017377934856106052     =at=> 24850/32182\n",
      "0.017489841740950567     =at=> 24900/32182\n",
      "0.017638870888456837     =at=> 24950/32182\n",
      "0.017783077455339955     =at=> 25000/32182\n",
      "0.017910465564971004     =at=> 25050/32182\n",
      "0.01805980030353556     =at=> 25100/32182\n",
      "0.01836899655146217     =at=> 25150/32182\n",
      "0.019032216905052624     =at=> 25200/32182\n",
      "0.019053944203440136     =at=> 25250/32182\n",
      "0.01905598260369336     =at=> 25300/32182\n",
      "0.019056032637870802     =at=> 25350/32182\n",
      "0.019038893352070176     =at=> 25400/32182\n",
      "0.01902404372433058     =at=> 25450/32182\n",
      "0.01903396528779401     =at=> 25500/32182\n",
      "0.01902866829448214     =at=> 25550/32182\n",
      "0.019018036904371913     =at=> 25600/32182\n",
      "0.01900651052339115     =at=> 25650/32182\n",
      "0.018990237036573154     =at=> 25700/32182\n",
      "0.018969947576730792     =at=> 25750/32182\n",
      "0.018950534523636205     =at=> 25800/32182\n",
      "0.018939857063427698     =at=> 25850/32182\n",
      "0.01895177005436883     =at=> 25900/32182\n",
      "0.018943037255828653     =at=> 25950/32182\n",
      "0.01892945975205825     =at=> 26000/32182\n",
      "0.018910337705334967     =at=> 26050/32182\n",
      "0.01889853669731018     =at=> 26100/32182\n",
      "0.018882087875472783     =at=> 26150/32182\n",
      "0.018862284891714362     =at=> 26200/32182\n",
      "0.018844462921692146     =at=> 26250/32182\n",
      "0.018822011598483252     =at=> 26300/32182\n",
      "0.018807186638773815     =at=> 26350/32182\n",
      "0.018795982835881384     =at=> 26400/32182\n",
      "0.018794589671667222     =at=> 26450/32182\n",
      "0.01879905230137256     =at=> 26500/32182\n",
      "0.01882497843653104     =at=> 26550/32182\n",
      "0.018854738537299173     =at=> 26600/32182\n",
      "0.01900666421170977     =at=> 26650/32182\n",
      "0.019088730747577793     =at=> 26700/32182\n",
      "0.01920652099235732     =at=> 26750/32182\n",
      "0.019283446585655267     =at=> 26800/32182\n",
      "0.01946181824201895     =at=> 26850/32182\n",
      "0.01955574800177273     =at=> 26900/32182\n",
      "0.019770858370092504     =at=> 26950/32182\n",
      "0.019833034825304317     =at=> 27000/32182\n",
      "0.019931593867545592     =at=> 27050/32182\n",
      "0.019962449797989314     =at=> 27100/32182\n",
      "0.019994906608811126     =at=> 27150/32182\n",
      "0.01999712108042064     =at=> 27200/32182\n",
      "0.019984229317259624     =at=> 27250/32182\n",
      "0.019969407914226855     =at=> 27300/32182\n",
      "0.019947178410332125     =at=> 27350/32182\n",
      "0.019930266088221467     =at=> 27400/32182\n",
      "0.019910593796300894     =at=> 27450/32182\n",
      "0.01989049954327162     =at=> 27500/32182\n",
      "0.019872289887298163     =at=> 27550/32182\n",
      "0.01986002849763347     =at=> 27600/32182\n",
      "0.019851300805347347     =at=> 27650/32182\n",
      "0.019836331091943913     =at=> 27700/32182\n",
      "0.019825461798498558     =at=> 27750/32182\n",
      "0.01981903663927709     =at=> 27800/32182\n",
      "0.019809790845396903     =at=> 27850/32182\n",
      "0.019799931802892037     =at=> 27900/32182\n",
      "0.019789445678443582     =at=> 27950/32182\n",
      "0.019771741807203008     =at=> 28000/32182\n",
      "0.01975239846738364     =at=> 28050/32182\n",
      "0.019735656486023746     =at=> 28100/32182\n",
      "0.019749279212294274     =at=> 28150/32182\n",
      "0.01977241998436821     =at=> 28200/32182\n",
      "0.01977302485947555     =at=> 28250/32182\n",
      "0.019754482083073604     =at=> 28300/32182\n",
      "0.01973690693213307     =at=> 28350/32182\n",
      "0.019719356018287445     =at=> 28400/32182\n",
      "0.019708017269615904     =at=> 28450/32182\n",
      "0.019699703477216852     =at=> 28500/32182\n",
      "0.019699226338930113     =at=> 28550/32182\n",
      "0.019685457559860918     =at=> 28600/32182\n",
      "0.019676576653961907     =at=> 28650/32182\n",
      "0.019661043527518247     =at=> 28700/32182\n",
      "0.019646462744190966     =at=> 28750/32182\n",
      "0.019626707518044795     =at=> 28800/32182\n",
      "0.019602651929715244     =at=> 28850/32182\n",
      "0.01957661020970713     =at=> 28900/32182\n",
      "0.019554402804346387     =at=> 28950/32182\n"
     ]
    },
    {
     "name": "stdout",
     "output_type": "stream",
     "text": [
      "0.01954440503154785     =at=> 29000/32182\n",
      "0.019528767916248878     =at=> 29050/32182\n",
      "0.019511624551866256     =at=> 29100/32182\n",
      "0.019489453952127707     =at=> 29150/32182\n",
      "0.019473636908610575     =at=> 29200/32182\n",
      "0.019452558033602137     =at=> 29250/32182\n",
      "0.019431320386934778     =at=> 29300/32182\n",
      "0.019408725152895635     =at=> 29350/32182\n",
      "0.019389334479437945     =at=> 29400/32182\n",
      "0.019382987538196863     =at=> 29450/32182\n",
      "0.019370512507015335     =at=> 29500/32182\n",
      "0.019351190595675652     =at=> 29550/32182\n",
      "0.019330491788966134     =at=> 29600/32182\n",
      "0.019312473039349312     =at=> 29650/32182\n",
      "0.0193148338586219     =at=> 29700/32182\n",
      "0.01930711869413753     =at=> 29750/32182\n",
      "0.0193229915990827     =at=> 29800/32182\n",
      "0.019321127721585077     =at=> 29850/32182\n",
      "0.01934259484385383     =at=> 29900/32182\n",
      "0.01935115475019048     =at=> 29950/32182\n",
      "0.019336298283480574     =at=> 30000/32182\n",
      "================================= TEST  : 0.020549072164413297\n",
      "0.019321939239829326     =at=> 30050/32182\n",
      "0.019310356944631568     =at=> 30100/32182\n",
      "0.019299852508463885     =at=> 30150/32182\n",
      "0.01928250537019158     =at=> 30200/32182\n",
      "0.019272341500117234     =at=> 30250/32182\n",
      "0.019302325936894182     =at=> 30300/32182\n",
      "0.019338859391534513     =at=> 30350/32182\n",
      "0.019358602236465423     =at=> 30400/32182\n",
      "0.019375735809869777     =at=> 30450/32182\n",
      "0.01939361307410844     =at=> 30500/32182\n",
      "0.01941660324024317     =at=> 30550/32182\n",
      "0.019533614021086047     =at=> 30600/32182\n",
      "0.019634607863695273     =at=> 30650/32182\n",
      "0.01969538096558069     =at=> 30700/32182\n",
      "0.019771998920178842     =at=> 30750/32182\n",
      "0.019753008958919113     =at=> 30800/32182\n",
      "0.019734073596764237     =at=> 30850/32182\n",
      "0.01972191464203006     =at=> 30900/32182\n",
      "0.019705907402026747     =at=> 30950/32182\n",
      "0.019702967063505054     =at=> 31000/32182\n",
      "0.01970174399577606     =at=> 31050/32182\n",
      "0.019685777842072424     =at=> 31100/32182\n",
      "0.019669310371320466     =at=> 31150/32182\n",
      "0.019664830787943895     =at=> 31200/32182\n",
      "0.0196588743144013     =at=> 31250/32182\n",
      "0.019668858922581328     =at=> 31300/32182\n",
      "0.01965811006649452     =at=> 31350/32182\n",
      "0.0196916543654571     =at=> 31400/32182\n",
      "0.019739770597851553     =at=> 31450/32182\n",
      "0.01973112048902401     =at=> 31500/32182\n",
      "0.019713861570725286     =at=> 31550/32182\n",
      "0.01970643367867731     =at=> 31600/32182\n",
      "0.019701297922581462     =at=> 31650/32182\n",
      "0.01969803034551574     =at=> 31700/32182\n",
      "0.01968349130501912     =at=> 31750/32182\n",
      "0.019673526812459742     =at=> 31800/32182\n",
      "0.01965772515132488     =at=> 31850/32182\n",
      "0.01963929611553444     =at=> 31900/32182\n",
      "0.019624739625277682     =at=> 31950/32182\n",
      "0.019611953082876426     =at=> 32000/32182\n",
      "0.01962587539319097     =at=> 32050/32182\n",
      "0.01961720345365217     =at=> 32100/32182\n",
      "0.01962098975044141     =at=> 32150/32182\n",
      "0.006492776502855122     =at=> 50/32182\n",
      "0.00734347929013893     =at=> 100/32182\n",
      "0.012347693084739148     =at=> 150/32182\n",
      "0.017407791354926302     =at=> 200/32182\n",
      "0.017981492904014885     =at=> 250/32182\n",
      "0.016681751779591043     =at=> 300/32182\n",
      "0.01631945303907352     =at=> 350/32182\n",
      "0.01628225064254366     =at=> 400/32182\n",
      "0.01540110305417329     =at=> 450/32182\n",
      "0.015195462455507368     =at=> 500/32182\n",
      "0.014629985108040273     =at=> 550/32182\n",
      "0.01824886201065965     =at=> 600/32182\n",
      "0.0183205479881368     =at=> 650/32182\n",
      "0.018410905856040438     =at=> 700/32182\n",
      "0.018162254902534185     =at=> 750/32182\n",
      "0.01762534014036646     =at=> 800/32182\n",
      "0.017158297135165947     =at=> 850/32182\n",
      "0.016725485684712313     =at=> 900/32182\n",
      "0.016259896852027035     =at=> 950/32182\n",
      "0.01596930798026733     =at=> 1000/32182\n",
      "0.01564319420849816     =at=> 1050/32182\n",
      "0.015663819397080014     =at=> 1100/32182\n",
      "0.015468004038354948     =at=> 1150/32182\n",
      "0.015186320126328307     =at=> 1200/32182\n",
      "0.014958233785443007     =at=> 1250/32182\n",
      "0.014765233047700558     =at=> 1300/32182\n",
      "0.014695636918595819     =at=> 1350/32182\n",
      "0.014589506237534806     =at=> 1400/32182\n",
      "0.014399886098369185     =at=> 1450/32182\n",
      "0.01432572134071961     =at=> 1500/32182\n",
      "0.014094458984421385     =at=> 1550/32182\n",
      "0.013850658018491231     =at=> 1600/32182\n",
      "0.013641748559153215     =at=> 1650/32182\n",
      "0.013465141459395561     =at=> 1700/32182\n",
      "0.013339604124160749     =at=> 1750/32182\n",
      "0.013676027383707049     =at=> 1800/32182\n",
      "0.01395433511723437     =at=> 1850/32182\n",
      "0.01410542530142457     =at=> 1900/32182\n",
      "0.01424158589902501     =at=> 1950/32182\n",
      "0.01524754687177483     =at=> 2000/32182\n",
      "0.017647803054736337     =at=> 2050/32182\n",
      "0.02077290243302871     =at=> 2100/32182\n",
      "0.021210762960727998     =at=> 2150/32182\n",
      "0.021004429629220712     =at=> 2200/32182\n",
      "0.020727329862717952     =at=> 2250/32182\n",
      "0.020508542388940797     =at=> 2300/32182\n",
      "0.020238778881154003     =at=> 2350/32182\n",
      "0.02003750065487111     =at=> 2400/32182\n",
      "0.01987553216564488     =at=> 2450/32182\n",
      "0.019679864412080496     =at=> 2500/32182\n",
      "0.019641611500387537     =at=> 2550/32182\n",
      "0.01952654579000619     =at=> 2600/32182\n",
      "0.01929225375638607     =at=> 2650/32182\n",
      "0.01907010970585462     =at=> 2700/32182\n",
      "0.018938495074229483     =at=> 2750/32182\n",
      "0.018895654275797175     =at=> 2800/32182\n",
      "0.019061921932244378     =at=> 2850/32182\n",
      "0.01906015832290246     =at=> 2900/32182\n",
      "0.019231930722608783     =at=> 2950/32182\n",
      "0.019061860997695475     =at=> 3000/32182\n",
      "0.018893468944416916     =at=> 3050/32182\n",
      "0.01866979501345345     =at=> 3100/32182\n",
      "0.01849463979942754     =at=> 3150/32182\n",
      "0.01837654242022836     =at=> 3200/32182\n",
      "0.018725854071215367     =at=> 3250/32182\n",
      "0.018673399766892983     =at=> 3300/32182\n",
      "0.018589365471001547     =at=> 3350/32182\n",
      "0.01877864681999199     =at=> 3400/32182\n",
      "0.01859823464078532     =at=> 3450/32182\n",
      "0.018446068819878356     =at=> 3500/32182\n",
      "0.018270917317541446     =at=> 3550/32182\n",
      "0.018103371881362466     =at=> 3600/32182\n",
      "0.017964404346229992     =at=> 3650/32182\n",
      "0.01778759014390006     =at=> 3700/32182\n",
      "0.017637514141450327     =at=> 3750/32182\n",
      "0.017497320748975892     =at=> 3800/32182\n",
      "0.017541870416819372     =at=> 3850/32182\n",
      "0.017499987489293115     =at=> 3900/32182\n",
      "0.01752260757875452     =at=> 3950/32182\n",
      "0.017407715419714805     =at=> 4000/32182\n",
      "0.017326668438409673     =at=> 4050/32182\n",
      "0.017305991537925766     =at=> 4100/32182\n",
      "0.0172318176190784     =at=> 4150/32182\n",
      "0.017095162433439066     =at=> 4200/32182\n",
      "0.016960614146774307     =at=> 4250/32182\n",
      "0.016827204911265697     =at=> 4300/32182\n",
      "0.016710913837833824     =at=> 4350/32182\n",
      "0.016590347407565622     =at=> 4400/32182\n",
      "0.0164690007686908     =at=> 4450/32182\n",
      "0.016360836412602414     =at=> 4500/32182\n",
      "0.016280026399162036     =at=> 4550/32182\n",
      "0.01618931265588364     =at=> 4600/32182\n",
      "0.0161085429180774     =at=> 4650/32182\n",
      "0.016006613573544916     =at=> 4700/32182\n",
      "0.01590905774041618     =at=> 4750/32182\n",
      "0.015842836687030893     =at=> 4800/32182\n",
      "0.015889830436874374     =at=> 4850/32182\n",
      "0.015855907527492285     =at=> 4900/32182\n",
      "0.015833450861115272     =at=> 4950/32182\n",
      "0.015761808942491188     =at=> 5000/32182\n",
      "0.015674595637062545     =at=> 5050/32182\n",
      "0.01558506138791677     =at=> 5100/32182\n",
      "0.015591644600476816     =at=> 5150/32182\n",
      "0.015547169321440518     =at=> 5200/32182\n",
      "0.01551546815086511     =at=> 5250/32182\n",
      "0.015615217526100646     =at=> 5300/32182\n",
      "0.01562858239360258     =at=> 5350/32182\n",
      "0.01554806994455349     =at=> 5400/32182\n",
      "0.01549842661968646     =at=> 5450/32182\n",
      "0.015427219607147642     =at=> 5500/32182\n",
      "0.015376412286674855     =at=> 5550/32182\n",
      "0.015326247271275082     =at=> 5600/32182\n",
      "0.015253644798700986     =at=> 5650/32182\n",
      "0.015179842008204249     =at=> 5700/32182\n",
      "0.015159139285876375     =at=> 5750/32182\n",
      "0.015160127560294973     =at=> 5800/32182\n",
      "0.015164376980879813     =at=> 5850/32182\n",
      "0.015103451857398564     =at=> 5900/32182\n",
      "0.015071811526778991     =at=> 5950/32182\n",
      "0.015086360428715124     =at=> 6000/32182\n",
      "0.015144164051229427     =at=> 6050/32182\n",
      "0.015464342821190958     =at=> 6100/32182\n",
      "0.01572218960188935     =at=> 6150/32182\n",
      "0.015701111950010303     =at=> 6200/32182\n",
      "0.015661886369213462     =at=> 6250/32182\n",
      "0.015621028987188187     =at=> 6300/32182\n",
      "0.015643887998257566     =at=> 6350/32182\n",
      "0.015599468584041461     =at=> 6400/32182\n",
      "0.015558354915661174     =at=> 6450/32182\n",
      "0.015506695781834423     =at=> 6500/32182\n",
      "0.015474592958797367     =at=> 6550/32182\n"
     ]
    },
    {
     "name": "stdout",
     "output_type": "stream",
     "text": [
      "0.015426610042341053     =at=> 6600/32182\n",
      "0.015375311434535044     =at=> 6650/32182\n",
      "0.015433739604664716     =at=> 6700/32182\n",
      "0.015410498018238555     =at=> 6750/32182\n",
      "0.015366675287574147     =at=> 6800/32182\n",
      "0.0155173041998837     =at=> 6850/32182\n",
      "0.01551895335185058     =at=> 6900/32182\n",
      "0.01553958266501134     =at=> 6950/32182\n",
      "0.015522338485844167     =at=> 7000/32182\n",
      "0.01547331757295269     =at=> 7050/32182\n",
      "0.015419540173426585     =at=> 7100/32182\n",
      "0.015466849862539269     =at=> 7150/32182\n",
      "0.015532076831829424     =at=> 7200/32182\n",
      "0.015524199940713829     =at=> 7250/32182\n",
      "0.01551034775179849     =at=> 7300/32182\n",
      "0.01546061398353757     =at=> 7350/32182\n",
      "0.0154233718954807     =at=> 7400/32182\n",
      "0.015381456263325858     =at=> 7450/32182\n",
      "0.015332440886646509     =at=> 7500/32182\n",
      "0.015335536523697442     =at=> 7550/32182\n",
      "0.015285823630493772     =at=> 7600/32182\n",
      "0.015244976870892143     =at=> 7650/32182\n",
      "0.015197758318027844     =at=> 7700/32182\n",
      "0.015249306541747384     =at=> 7750/32182\n",
      "0.01534213468274221     =at=> 7800/32182\n",
      "0.015433342790403136     =at=> 7850/32182\n",
      "0.01546726254696215     =at=> 7900/32182\n",
      "0.01548269236404683     =at=> 7950/32182\n",
      "0.015455651363095967     =at=> 8000/32182\n",
      "0.01544718523223462     =at=> 8050/32182\n",
      "0.015488589905909504     =at=> 8100/32182\n",
      "0.01552490037594539     =at=> 8150/32182\n",
      "0.01556002322558836     =at=> 8200/32182\n",
      "0.015524466677343078     =at=> 8250/32182\n",
      "0.015480905816783703     =at=> 8300/32182\n",
      "0.015498376220916425     =at=> 8350/32182\n",
      "0.015486905476150458     =at=> 8400/32182\n",
      "0.015455427643920145     =at=> 8450/32182\n",
      "0.01540350846672321     =at=> 8500/32182\n",
      "0.015374907701336153     =at=> 8550/32182\n",
      "0.015345543353049475     =at=> 8600/32182\n",
      "0.015296999442988651     =at=> 8650/32182\n",
      "0.015260955661845705     =at=> 8700/32182\n",
      "0.015214702548139862     =at=> 8750/32182\n",
      "0.015177190301209604     =at=> 8800/32182\n",
      "0.015143797661698724     =at=> 8850/32182\n",
      "0.015097625597819603     =at=> 8900/32182\n",
      "0.015054489161673538     =at=> 8950/32182\n",
      "0.01501146498692429     =at=> 9000/32182\n",
      "0.014974988570040638     =at=> 9050/32182\n",
      "0.014953700887233756     =at=> 9100/32182\n",
      "0.01492977360571363     =at=> 9150/32182\n",
      "0.014902256612043382     =at=> 9200/32182\n",
      "0.01487465780042112     =at=> 9250/32182\n",
      "0.01484115604338767     =at=> 9300/32182\n",
      "0.014827453001840588     =at=> 9350/32182\n",
      "0.014904469066680944     =at=> 9400/32182\n",
      "0.014853562108467692     =at=> 9450/32182\n",
      "0.014811270119928705     =at=> 9500/32182\n",
      "0.014762960609733687     =at=> 9550/32182\n",
      "0.014711225742782214     =at=> 9600/32182\n",
      "0.01466867172872223     =at=> 9650/32182\n",
      "0.014636630377907441     =at=> 9700/32182\n",
      "0.01459155651032686     =at=> 9750/32182\n",
      "0.014541706590502218     =at=> 9800/32182\n",
      "0.014499702398029397     =at=> 9850/32182\n",
      "0.014492204185149567     =at=> 9900/32182\n",
      "0.014543794036629943     =at=> 9950/32182\n",
      "0.014538939115952235     =at=> 10000/32182\n",
      "================================= TEST  : 0.031366015300062014\n",
      "0.01451562760225196     =at=> 10050/32182\n",
      "0.014493519592082754     =at=> 10100/32182\n",
      "0.014466170425643786     =at=> 10150/32182\n",
      "0.014457711712240388     =at=> 10200/32182\n",
      "0.014439807762789381     =at=> 10250/32182\n",
      "0.014418727888067895     =at=> 10300/32182\n",
      "0.014391265212375994     =at=> 10350/32182\n",
      "0.014356968907713263     =at=> 10400/32182\n",
      "0.014335271809283538     =at=> 10450/32182\n",
      "0.014343295311721575     =at=> 10500/32182\n",
      "0.014382608204150917     =at=> 10550/32182\n",
      "0.014873264161419597     =at=> 10600/32182\n",
      "0.015327821138430772     =at=> 10650/32182\n",
      "0.015488593785220618     =at=> 10700/32182\n",
      "0.015813718076871146     =at=> 10750/32182\n",
      "0.016133316150441748     =at=> 10800/32182\n",
      "0.01646021095339492     =at=> 10850/32182\n",
      "0.01671952143395875     =at=> 10900/32182\n",
      "0.01703547390746633     =at=> 10950/32182\n",
      "0.017033222486169754     =at=> 11000/32182\n",
      "0.017056737848171938     =at=> 11050/32182\n",
      "0.017091205712934317     =at=> 11100/32182\n",
      "0.01715333815938647     =at=> 11150/32182\n",
      "0.017137118430722954     =at=> 11200/32182\n",
      "0.01712289528320026     =at=> 11250/32182\n",
      "0.017086696092160913     =at=> 11300/32182\n",
      "0.01704992395623624     =at=> 11350/32182\n",
      "0.01702156339566787     =at=> 11400/32182\n",
      "0.017006951176254365     =at=> 11450/32182\n",
      "0.016996014638186393     =at=> 11500/32182\n",
      "0.016956042222410553     =at=> 11550/32182\n",
      "0.01691725022005969     =at=> 11600/32182\n",
      "0.01688369261191822     =at=> 11650/32182\n",
      "0.016842794621385174     =at=> 11700/32182\n",
      "0.01687426218508366     =at=> 11750/32182\n",
      "0.016964266649437516     =at=> 11800/32182\n",
      "0.01710132520605578     =at=> 11850/32182\n",
      "0.017087031054347675     =at=> 11900/32182\n",
      "0.017162222769530295     =at=> 11950/32182\n",
      "0.017194527976593234     =at=> 12000/32182\n",
      "0.017155032017262446     =at=> 12050/32182\n",
      "0.017183752348675384     =at=> 12100/32182\n",
      "0.01715714513330908     =at=> 12150/32182\n",
      "0.017136004203577436     =at=> 12200/32182\n",
      "0.017102760822103567     =at=> 12250/32182\n",
      "0.01705773209762093     =at=> 12300/32182\n",
      "0.017012663587375434     =at=> 12350/32182\n",
      "0.016967926347720243     =at=> 12400/32182\n",
      "0.016942540882706986     =at=> 12450/32182\n",
      "0.016924994951216504     =at=> 12500/32182\n",
      "0.016890528072478747     =at=> 12550/32182\n",
      "0.016878475162065736     =at=> 12600/32182\n",
      "0.01685830718100535     =at=> 12650/32182\n",
      "0.01683019939468125     =at=> 12700/32182\n",
      "0.01678654497619901     =at=> 12750/32182\n",
      "0.01674205660449843     =at=> 12800/32182\n",
      "0.016719198187728004     =at=> 12850/32182\n",
      "0.016690919873017688     =at=> 12900/32182\n",
      "0.016660935804724306     =at=> 12950/32182\n",
      "0.01662932792697281     =at=> 13000/32182\n",
      "0.016593891449881024     =at=> 13050/32182\n",
      "0.01655391441045848     =at=> 13100/32182\n",
      "0.016510648386005824     =at=> 13150/32182\n",
      "0.016492099476842364     =at=> 13200/32182\n",
      "0.016460555217343048     =at=> 13250/32182\n",
      "0.01648793517115624     =at=> 13300/32182\n",
      "0.01652466441188112     =at=> 13350/32182\n",
      "0.016541839430513513     =at=> 13400/32182\n",
      "0.016587893904842867     =at=> 13450/32182\n",
      "0.016602792835871998     =at=> 13500/32182\n",
      "0.016612822380083582     =at=> 13550/32182\n",
      "0.01661828587839195     =at=> 13600/32182\n",
      "0.016637424498723116     =at=> 13650/32182\n",
      "0.01664926864622317     =at=> 13700/32182\n",
      "0.01666353259737688     =at=> 13750/32182\n",
      "0.016643656169349475     =at=> 13800/32182\n",
      "0.016618799484319758     =at=> 13850/32182\n",
      "0.016585589448105637     =at=> 13900/32182\n",
      "0.016583796110977236     =at=> 13950/32182\n",
      "0.01668475623251704     =at=> 14000/32182\n",
      "0.01691674835087559     =at=> 14050/32182\n",
      "0.017017191175382966     =at=> 14100/32182\n",
      "0.017125624819706413     =at=> 14150/32182\n",
      "0.017123589622156866     =at=> 14200/32182\n",
      "0.017182084489213465     =at=> 14250/32182\n",
      "0.017176858494115238     =at=> 14300/32182\n",
      "0.017164763412543797     =at=> 14350/32182\n",
      "0.01714709143848773     =at=> 14400/32182\n",
      "0.01710859410555801     =at=> 14450/32182\n",
      "0.017077512340307043     =at=> 14500/32182\n",
      "0.01704163012423639     =at=> 14550/32182\n",
      "0.017010354383933127     =at=> 14600/32182\n",
      "0.016976515899035673     =at=> 14650/32182\n",
      "0.016937723476526827     =at=> 14700/32182\n",
      "0.016901556015290888     =at=> 14750/32182\n",
      "0.01687127761807878     =at=> 14800/32182\n",
      "0.01684114061353214     =at=> 14850/32182\n",
      "0.016857323850756636     =at=> 14900/32182\n",
      "0.016878079960417052     =at=> 14950/32182\n",
      "0.016884994172436805     =at=> 15000/32182\n",
      "0.016880200812508014     =at=> 15050/32182\n",
      "0.016861125595677977     =at=> 15100/32182\n",
      "0.016837872944014582     =at=> 15150/32182\n",
      "0.016847940316495766     =at=> 15200/32182\n",
      "0.016842726460879393     =at=> 15250/32182\n",
      "0.01685221883257565     =at=> 15300/32182\n",
      "0.01688815939048281     =at=> 15350/32182\n",
      "0.016932609058915058     =at=> 15400/32182\n",
      "0.01690172148067474     =at=> 15450/32182\n",
      "0.01687340209690944     =at=> 15500/32182\n",
      "0.016846965004748388     =at=> 15550/32182\n",
      "0.016819971748396383     =at=> 15600/32182\n",
      "0.016793874005077425     =at=> 15650/32182\n",
      "0.016775424487667848     =at=> 15700/32182\n",
      "0.016770437757166783     =at=> 15750/32182\n",
      "0.01679322700428075     =at=> 15800/32182\n",
      "0.0167899883487585     =at=> 15850/32182\n",
      "0.016823362648251333     =at=> 15900/32182\n",
      "0.016816738987667047     =at=> 15950/32182\n",
      "0.016818587942419982     =at=> 16000/32182\n",
      "0.01680491509823407     =at=> 16050/32182\n",
      "0.016786486193073498     =at=> 16100/32182\n",
      "0.016762343832852473     =at=> 16150/32182\n",
      "0.016748090395754214     =at=> 16200/32182\n"
     ]
    },
    {
     "name": "stdout",
     "output_type": "stream",
     "text": [
      "0.016724770694791984     =at=> 16250/32182\n",
      "0.016709024669006867     =at=> 16300/32182\n",
      "0.01669319504264611     =at=> 16350/32182\n",
      "0.01666798794023812     =at=> 16400/32182\n",
      "0.01663839234581987     =at=> 16450/32182\n",
      "0.016643876627193424     =at=> 16500/32182\n",
      "0.01664641079154524     =at=> 16550/32182\n",
      "0.016741810548561064     =at=> 16600/32182\n",
      "0.016750209100898243     =at=> 16650/32182\n",
      "0.016731403480056663     =at=> 16700/32182\n",
      "0.01671113201918136     =at=> 16750/32182\n",
      "0.016688136984046736     =at=> 16800/32182\n",
      "0.016664753109762495     =at=> 16850/32182\n",
      "0.016641669240249762     =at=> 16900/32182\n",
      "0.016608771402780297     =at=> 16950/32182\n",
      "0.01658318247801542     =at=> 17000/32182\n",
      "0.016582827188212513     =at=> 17050/32182\n",
      "0.016574581178941367     =at=> 17100/32182\n",
      "0.01659141440925381     =at=> 17150/32182\n",
      "0.016688295182708358     =at=> 17200/32182\n",
      "0.016702875840686856     =at=> 17250/32182\n",
      "0.016711554502176033     =at=> 17300/32182\n",
      "0.016724618254155617     =at=> 17350/32182\n",
      "0.016718772150751408     =at=> 17400/32182\n",
      "0.016697249426833358     =at=> 17450/32182\n",
      "0.016751405392474095     =at=> 17500/32182\n",
      "0.016748047037112482     =at=> 17550/32182\n",
      "0.016765862000300495     =at=> 17600/32182\n",
      "0.01678773545385035     =at=> 17650/32182\n",
      "0.01676660462829158     =at=> 17700/32182\n",
      "0.016744106055138975     =at=> 17750/32182\n",
      "0.016733163037315125     =at=> 17800/32182\n",
      "0.01673720084983172     =at=> 17850/32182\n",
      "0.016727797648649633     =at=> 17900/32182\n",
      "0.016704593599251208     =at=> 17950/32182\n",
      "0.016681000334100745     =at=> 18000/32182\n",
      "0.016656332276174617     =at=> 18050/32182\n",
      "0.016630847571097385     =at=> 18100/32182\n",
      "0.01661092672232133     =at=> 18150/32182\n",
      "0.0165903400705045     =at=> 18200/32182\n",
      "0.016565720827223043     =at=> 18250/32182\n",
      "0.016541103706027183     =at=> 18300/32182\n",
      "0.016514804253325487     =at=> 18350/32182\n",
      "0.01648793247370834     =at=> 18400/32182\n",
      "0.016458079768489883     =at=> 18450/32182\n",
      "0.016440501720839606     =at=> 18500/32182\n",
      "0.016421838886075655     =at=> 18550/32182\n",
      "0.016406024881727464     =at=> 18600/32182\n",
      "0.016394092806011947     =at=> 18650/32182\n",
      "0.016387275413573935     =at=> 18700/32182\n",
      "0.016371643937149395     =at=> 18750/32182\n",
      "0.01634937676934877     =at=> 18800/32182\n",
      "0.016353692835269728     =at=> 18850/32182\n",
      "0.016332178041455953     =at=> 18900/32182\n",
      "0.016311017792053906     =at=> 18950/32182\n",
      "0.016295701764750686     =at=> 19000/32182\n",
      "0.016274819031126767     =at=> 19050/32182\n",
      "0.01628732745320517     =at=> 19100/32182\n",
      "0.01627803415159133     =at=> 19150/32182\n",
      "0.016262063957904804     =at=> 19200/32182\n",
      "0.016240138019223443     =at=> 19250/32182\n",
      "0.01625484228867029     =at=> 19300/32182\n",
      "0.016261708086918444     =at=> 19350/32182\n",
      "0.01623853124497511     =at=> 19400/32182\n",
      "0.01622067198549352     =at=> 19450/32182\n",
      "0.01619412377037896     =at=> 19500/32182\n",
      "0.016194782514712246     =at=> 19550/32182\n",
      "0.01620902177436415     =at=> 19600/32182\n",
      "0.01621048871136884     =at=> 19650/32182\n",
      "0.016201251213312347     =at=> 19700/32182\n",
      "0.016216382062823005     =at=> 19750/32182\n",
      "0.016451872467431426     =at=> 19800/32182\n",
      "0.016731457928604955     =at=> 19850/32182\n",
      "0.01693880735623332     =at=> 19900/32182\n",
      "0.01696239882577701     =at=> 19950/32182\n",
      "0.016957209890295054     =at=> 20000/32182\n",
      "================================= TEST  : 0.03734267766077078\n",
      "0.016948005471807068     =at=> 20050/32182\n",
      "0.016940188649028253     =at=> 20100/32182\n",
      "0.016928611124753627     =at=> 20150/32182\n",
      "0.016905461935479756     =at=> 20200/32182\n",
      "0.0168778849339837     =at=> 20250/32182\n",
      "0.016856948248026984     =at=> 20300/32182\n",
      "0.016918874556668954     =at=> 20350/32182\n",
      "0.016916168275689845     =at=> 20400/32182\n",
      "0.016901216054702985     =at=> 20450/32182\n",
      "0.016916846433512458     =at=> 20500/32182\n",
      "0.016923721746474715     =at=> 20550/32182\n",
      "0.016930765884954402     =at=> 20600/32182\n",
      "0.016989632791836157     =at=> 20650/32182\n",
      "0.01698095504844062     =at=> 20700/32182\n",
      "0.016967473028783115     =at=> 20750/32182\n",
      "0.01695679353475638     =at=> 20800/32182\n",
      "0.016948820005748332     =at=> 20850/32182\n",
      "0.016932527675269992     =at=> 20900/32182\n",
      "0.016913929050182592     =at=> 20950/32182\n",
      "0.016903943134399708     =at=> 21000/32182\n",
      "0.016898777900643053     =at=> 21050/32182\n",
      "0.016981534921377675     =at=> 21100/32182\n",
      "0.017024338065022404     =at=> 21150/32182\n",
      "0.017037898776344384     =at=> 21200/32182\n",
      "0.017074106328928952     =at=> 21250/32182\n",
      "0.01704979508255495     =at=> 21300/32182\n",
      "0.017027281357899125     =at=> 21350/32182\n",
      "0.01703188241672132     =at=> 21400/32182\n",
      "0.017032310267110377     =at=> 21450/32182\n",
      "0.017024293518121635     =at=> 21500/32182\n",
      "0.017001434000346188     =at=> 21550/32182\n",
      "0.01697512706706658     =at=> 21600/32182\n",
      "0.016967294978501607     =at=> 21650/32182\n",
      "0.016958480833397648     =at=> 21700/32182\n",
      "0.016942280765553274     =at=> 21750/32182\n",
      "0.016936768229122684     =at=> 21800/32182\n",
      "0.016917210226868932     =at=> 21850/32182\n",
      "0.016897060488723855     =at=> 21900/32182\n",
      "0.016876332428839888     =at=> 21950/32182\n",
      "0.016858795702515635     =at=> 22000/32182\n",
      "0.016835398750021723     =at=> 22050/32182\n",
      "0.01681503636876808     =at=> 22100/32182\n",
      "0.016800057150851345     =at=> 22150/32182\n",
      "0.016795009860075667     =at=> 22200/32182\n",
      "0.016773192888957688     =at=> 22250/32182\n",
      "0.016756566428039597     =at=> 22300/32182\n",
      "0.01673246842597026     =at=> 22350/32182\n",
      "0.016719025757613835     =at=> 22400/32182\n",
      "0.016702208231957234     =at=> 22450/32182\n",
      "0.016679809024883436     =at=> 22500/32182\n",
      "0.016662013700181316     =at=> 22550/32182\n",
      "0.016639513372123216     =at=> 22600/32182\n",
      "0.016616481499284894     =at=> 22650/32182\n",
      "0.01659158464487322     =at=> 22700/32182\n",
      "0.016572148191261585     =at=> 22750/32182\n",
      "0.016577774670134347     =at=> 22800/32182\n",
      "0.01657712338869287     =at=> 22850/32182\n",
      "0.016572813522009643     =at=> 22900/32182\n",
      "0.016652308614023663     =at=> 22950/32182\n",
      "0.0166599115663532     =at=> 23000/32182\n",
      "0.01664457761718934     =at=> 23050/32182\n",
      "0.016692991887110393     =at=> 23100/32182\n",
      "0.016690620054233392     =at=> 23150/32182\n",
      "0.016681078051624353     =at=> 23200/32182\n",
      "0.016667189129748412     =at=> 23250/32182\n",
      "0.01665366365511346     =at=> 23300/32182\n",
      "0.016637125443537546     =at=> 23350/32182\n",
      "0.016621639381757834     =at=> 23400/32182\n",
      "0.01660413745473991     =at=> 23450/32182\n",
      "0.016632313420292623     =at=> 23500/32182\n",
      "0.016618985196282878     =at=> 23550/32182\n",
      "0.016645554035519233     =at=> 23600/32182\n",
      "0.01664059825722979     =at=> 23650/32182\n",
      "0.016646878362214783     =at=> 23700/32182\n",
      "0.016636699241380157     =at=> 23750/32182\n",
      "0.01662092902971541     =at=> 23800/32182\n",
      "0.016606529931941966     =at=> 23850/32182\n",
      "0.016591350197534868     =at=> 23900/32182\n",
      "0.016579540013831443     =at=> 23950/32182\n",
      "0.016563188707261967     =at=> 24000/32182\n",
      "0.01659052298530131     =at=> 24050/32182\n",
      "0.016641466390936638     =at=> 24100/32182\n",
      "0.016679409167056375     =at=> 24150/32182\n",
      "0.0166913714994915     =at=> 24200/32182\n",
      "0.016708065854097457     =at=> 24250/32182\n",
      "0.01677588264162771     =at=> 24300/32182\n",
      "0.016826361387172518     =at=> 24350/32182\n",
      "0.016919211485636895     =at=> 24400/32182\n",
      "0.016993324884988656     =at=> 24450/32182\n",
      "0.017091028506772556     =at=> 24500/32182\n",
      "0.0174351021694873     =at=> 24550/32182\n",
      "0.017452464421143437     =at=> 24600/32182\n",
      "0.01744794373988017     =at=> 24650/32182\n",
      "0.017438937517991554     =at=> 24700/32182\n",
      "0.01743254319429774     =at=> 24750/32182\n",
      "0.017418439066649655     =at=> 24800/32182\n",
      "0.017405054389613435     =at=> 24850/32182\n",
      "0.01749070444671684     =at=> 24900/32182\n",
      "0.017633809380770804     =at=> 24950/32182\n",
      "0.017777569608017803     =at=> 25000/32182\n",
      "0.0179101397314977     =at=> 25050/32182\n",
      "0.0180791566278266     =at=> 25100/32182\n",
      "0.018351320623536827     =at=> 25150/32182\n",
      "0.018987890395690644     =at=> 25200/32182\n",
      "0.019012645266802596     =at=> 25250/32182\n",
      "0.019017400336543856     =at=> 25300/32182\n",
      "0.01901639088455595     =at=> 25350/32182\n",
      "0.01899873211404206     =at=> 25400/32182\n",
      "0.018982762103453864     =at=> 25450/32182\n",
      "0.018987609620589544     =at=> 25500/32182\n",
      "0.018981203370182657     =at=> 25550/32182\n",
      "0.018969701408732362     =at=> 25600/32182\n",
      "0.018955962577431696     =at=> 25650/32182\n",
      "0.01893800185661734     =at=> 25700/32182\n",
      "0.01891640956     =at=> 25750/32182\n"
     ]
    },
    {
     "name": "stdout",
     "output_type": "stream",
     "text": [
      "0.01889551302750212     =at=> 25800/32182\n",
      "0.01888258299323761     =at=> 25850/32182\n",
      "0.018888053459485698     =at=> 25900/32182\n",
      "0.018878492232491054     =at=> 25950/32182\n",
      "0.018864890626166017     =at=> 26000/32182\n",
      "0.018844933760622355     =at=> 26050/32182\n",
      "0.018830741786440813     =at=> 26100/32182\n",
      "0.018813323409690115     =at=> 26150/32182\n",
      "0.01879289015389993     =at=> 26200/32182\n",
      "0.01877413031316939     =at=> 26250/32182\n",
      "0.018751203111946554     =at=> 26300/32182\n",
      "0.018735324715138668     =at=> 26350/32182\n",
      "0.018723280095595825     =at=> 26400/32182\n",
      "0.018721564237762504     =at=> 26450/32182\n",
      "0.018726092740357414     =at=> 26500/32182\n",
      "0.018744784220132326     =at=> 26550/32182\n",
      "0.018770465472375247     =at=> 26600/32182\n",
      "0.01892511328796753     =at=> 26650/32182\n",
      "0.019012954012213507     =at=> 26700/32182\n",
      "0.01911288416040104     =at=> 26750/32182\n",
      "0.019185095278210867     =at=> 26800/32182\n",
      "0.019343814686161     =at=> 26850/32182\n",
      "0.0194402847427539     =at=> 26900/32182\n",
      "0.01965362905352748     =at=> 26950/32182\n",
      "0.019710526225010485     =at=> 27000/32182\n",
      "0.019800219300285655     =at=> 27050/32182\n",
      "0.019827300543438064     =at=> 27100/32182\n",
      "0.01986211049103763     =at=> 27150/32182\n",
      "0.019865375092220562     =at=> 27200/32182\n",
      "0.019850922528799587     =at=> 27250/32182\n",
      "0.019833180226979184     =at=> 27300/32182\n",
      "0.01981009455808903     =at=> 27350/32182\n",
      "0.01979327341387844     =at=> 27400/32182\n",
      "0.019773380312150878     =at=> 27450/32182\n",
      "0.019753018431230025     =at=> 27500/32182\n",
      "0.019734157852426226     =at=> 27550/32182\n",
      "0.01972210715977016     =at=> 27600/32182\n",
      "0.019713058971259304     =at=> 27650/32182\n",
      "0.01969773536255509     =at=> 27700/32182\n",
      "0.01968575524073933     =at=> 27750/32182\n",
      "0.019679538405135193     =at=> 27800/32182\n",
      "0.019671024990968632     =at=> 27850/32182\n",
      "0.019660139087634327     =at=> 27900/32182\n",
      "0.019647779927450718     =at=> 27950/32182\n",
      "0.019628336568629102     =at=> 28000/32182\n",
      "0.019608027334150704     =at=> 28050/32182\n",
      "0.019590803618357248     =at=> 28100/32182\n",
      "0.01960247892388482     =at=> 28150/32182\n",
      "0.01962366710243588     =at=> 28200/32182\n",
      "0.019619994411277954     =at=> 28250/32182\n",
      "0.019600692938917808     =at=> 28300/32182\n",
      "0.019582658924385776     =at=> 28350/32182\n",
      "0.01956510509038016     =at=> 28400/32182\n",
      "0.019552051786027248     =at=> 28450/32182\n",
      "0.019545632153120416     =at=> 28500/32182\n",
      "0.019546796722091316     =at=> 28550/32182\n",
      "0.019533728739919168     =at=> 28600/32182\n",
      "0.01952508494925131     =at=> 28650/32182\n",
      "0.01951085932832698     =at=> 28700/32182\n",
      "0.019496158142460755     =at=> 28750/32182\n",
      "0.01947632060362796     =at=> 28800/32182\n",
      "0.019453122316943596     =at=> 28850/32182\n",
      "0.019427325152550343     =at=> 28900/32182\n",
      "0.019405316565530004     =at=> 28950/32182\n",
      "0.019395609984848777     =at=> 29000/32182\n",
      "0.0193799933784348     =at=> 29050/32182\n",
      "0.01936254864628987     =at=> 29100/32182\n",
      "0.019340619484867618     =at=> 29150/32182\n",
      "0.019323711072916822     =at=> 29200/32182\n",
      "0.019302308533503874     =at=> 29250/32182\n",
      "0.01928095335114204     =at=> 29300/32182\n",
      "0.01925825386505266     =at=> 29350/32182\n",
      "0.0192388457822143     =at=> 29400/32182\n",
      "0.0192308297486152     =at=> 29450/32182\n",
      "0.019218640924545827     =at=> 29500/32182\n",
      "0.019200151348254105     =at=> 29550/32182\n",
      "0.01917928495614654     =at=> 29600/32182\n",
      "0.019160985219159633     =at=> 29650/32182\n",
      "0.01916350083306874     =at=> 29700/32182\n",
      "0.01915578850694079     =at=> 29750/32182\n",
      "0.01917070484398661     =at=> 29800/32182\n",
      "0.019168005145846757     =at=> 29850/32182\n",
      "0.019186239471961977     =at=> 29900/32182\n",
      "0.019194290141900768     =at=> 29950/32182\n",
      "0.019179200002275562     =at=> 30000/32182\n",
      "================================= TEST  : 0.019420044391168175\n",
      "0.019164758036319885     =at=> 30050/32182\n",
      "0.019152816064950492     =at=> 30100/32182\n",
      "0.019142411300672332     =at=> 30150/32182\n",
      "0.019124769004580676     =at=> 30200/32182\n",
      "0.019114287351046436     =at=> 30250/32182\n",
      "0.019140412383094253     =at=> 30300/32182\n",
      "0.0191774780347236     =at=> 30350/32182\n",
      "0.01919380086910295     =at=> 30400/32182\n",
      "0.019215426413363     =at=> 30450/32182\n",
      "0.019239097856485178     =at=> 30500/32182\n",
      "0.019261392800334794     =at=> 30550/32182\n",
      "0.01938223036095497     =at=> 30600/32182\n",
      "0.01948035226236546     =at=> 30650/32182\n",
      "0.01954501332161138     =at=> 30700/32182\n",
      "0.019620306200109332     =at=> 30750/32182\n",
      "0.01960089127154788     =at=> 30800/32182\n",
      "0.019581609132697405     =at=> 30850/32182\n",
      "0.019569087873064554     =at=> 30900/32182\n",
      "0.019552218623708345     =at=> 30950/32182\n",
      "0.019549100087711498     =at=> 31000/32182\n",
      "0.019546327322384795     =at=> 31050/32182\n",
      "0.019530366017027245     =at=> 31100/32182\n",
      "0.01951343381954925     =at=> 31150/32182\n",
      "0.019508433406534516     =at=> 31200/32182\n",
      "0.019502777344379572     =at=> 31250/32182\n",
      "0.019511788057661007     =at=> 31300/32182\n",
      "0.01950013721703761     =at=> 31350/32182\n",
      "0.01952961297756562     =at=> 31400/32182\n",
      "0.019580893812405718     =at=> 31450/32182\n",
      "0.01957191856206572     =at=> 31500/32182\n",
      "0.019555444333982017     =at=> 31550/32182\n",
      "0.01954682305964709     =at=> 31600/32182\n",
      "0.019540955193092867     =at=> 31650/32182\n",
      "0.019534932028451548     =at=> 31700/32182\n",
      "0.0195199198581711     =at=> 31750/32182\n",
      "0.01950942553642408     =at=> 31800/32182\n",
      "0.01949363570056163     =at=> 31850/32182\n",
      "0.019475776856983384     =at=> 31900/32182\n",
      "0.019461150281229647     =at=> 31950/32182\n",
      "0.01944774560554288     =at=> 32000/32182\n",
      "0.019460461494391536     =at=> 32050/32182\n",
      "0.019452640316503504     =at=> 32100/32182\n",
      "0.01945433899560729     =at=> 32150/32182\n",
      "0.00658482258208096     =at=> 50/32182\n",
      "0.007250304904300719     =at=> 100/32182\n",
      "0.011925693438388407     =at=> 150/32182\n",
      "0.01684715067851357     =at=> 200/32182\n",
      "0.01734744352195412     =at=> 250/32182\n",
      "0.01622184508247301     =at=> 300/32182\n",
      "0.01600155443551817     =at=> 350/32182\n",
      "0.01606248986267019     =at=> 400/32182\n",
      "0.015204108571633696     =at=> 450/32182\n",
      "0.015007157496642321     =at=> 500/32182\n",
      "0.014438914064402607     =at=> 550/32182\n",
      "0.018004325250706946     =at=> 600/32182\n",
      "0.018061648975842847     =at=> 650/32182\n",
      "0.01812847285963861     =at=> 700/32182\n",
      "0.01788300387468189     =at=> 750/32182\n",
      "0.017343060993298423     =at=> 800/32182\n",
      "0.016869633549221736     =at=> 850/32182\n",
      "0.016443713697760057     =at=> 900/32182\n",
      "0.015981072205314903     =at=> 950/32182\n",
      "0.015707892643986268     =at=> 1000/32182\n",
      "0.015385197089940664     =at=> 1050/32182\n",
      "0.015382583058142866     =at=> 1100/32182\n",
      "0.015192851667778324     =at=> 1150/32182\n",
      "0.014899823069766475     =at=> 1200/32182\n",
      "0.014668601333536207     =at=> 1250/32182\n",
      "0.014473161114773784     =at=> 1300/32182\n",
      "0.01440482288374807     =at=> 1350/32182\n",
      "0.014316691999556496     =at=> 1400/32182\n",
      "0.014120286668586576     =at=> 1450/32182\n",
      "0.014065726904974629     =at=> 1500/32182\n",
      "0.013835160602785406     =at=> 1550/32182\n",
      "0.01359277210853179     =at=> 1600/32182\n",
      "0.013374193956172375     =at=> 1650/32182\n",
      "0.01319230159648749     =at=> 1700/32182\n",
      "0.013066022558803006     =at=> 1750/32182\n",
      "0.01340329174301587     =at=> 1800/32182\n",
      "0.013702771545488488     =at=> 1850/32182\n",
      "0.013829744190443307     =at=> 1900/32182\n",
      "0.013969348996089629     =at=> 1950/32182\n",
      "0.01495033897983376     =at=> 2000/32182\n",
      "0.017416489118505723     =at=> 2050/32182\n",
      "0.020697558656711842     =at=> 2100/32182\n",
      "0.021178528366198893     =at=> 2150/32182\n",
      "0.020985895401734688     =at=> 2200/32182\n",
      "0.020709857577768463     =at=> 2250/32182\n",
      "0.020491338532073827     =at=> 2300/32182\n",
      "0.020223205423755372     =at=> 2350/32182\n",
      "0.020033592430797095     =at=> 2400/32182\n",
      "0.01987141510547728     =at=> 2450/32182\n",
      "0.01967898000739515     =at=> 2500/32182\n",
      "0.019646255803824054     =at=> 2550/32182\n",
      "0.01950425876322417     =at=> 2600/32182\n",
      "0.01926442485487194     =at=> 2650/32182\n",
      "0.019037037897354888     =at=> 2700/32182\n",
      "0.01888435748710551     =at=> 2750/32182\n",
      "0.0188437078813357     =at=> 2800/32182\n",
      "0.01902789855441242     =at=> 2850/32182\n",
      "0.019019177650454744     =at=> 2900/32182\n",
      "0.019196641729607927     =at=> 2950/32182\n",
      "0.01902940203482285     =at=> 3000/32182\n",
      "0.018850234262874258     =at=> 3050/32182\n",
      "0.018625695083230254     =at=> 3100/32182\n",
      "0.018450197684209024     =at=> 3150/32182\n",
      "0.018328769783838652     =at=> 3200/32182\n",
      "0.01868472377497416     =at=> 3250/32182\n"
     ]
    },
    {
     "name": "stdout",
     "output_type": "stream",
     "text": [
      "0.01864037903900625     =at=> 3300/32182\n",
      "0.018547881761593606     =at=> 3350/32182\n",
      "0.018710735240841613     =at=> 3400/32182\n",
      "0.01852869036965126     =at=> 3450/32182\n",
      "0.01837477977647047     =at=> 3500/32182\n",
      "0.01819976113612016     =at=> 3550/32182\n",
      "0.018031861194888026     =at=> 3600/32182\n",
      "0.01789385955161989     =at=> 3650/32182\n",
      "0.017715017146091104     =at=> 3700/32182\n",
      "0.01756376358581086     =at=> 3750/32182\n",
      "0.01742305395432356     =at=> 3800/32182\n",
      "0.017455627122083556     =at=> 3850/32182\n",
      "0.01741265466096453     =at=> 3900/32182\n",
      "0.01743542542722359     =at=> 3950/32182\n",
      "0.017325651729188395     =at=> 4000/32182\n",
      "0.01725168004833208     =at=> 4050/32182\n",
      "0.01723356953498385     =at=> 4100/32182\n",
      "0.01716088594638754     =at=> 4150/32182\n",
      "0.01702278141137434     =at=> 4200/32182\n",
      "0.01688649879845188     =at=> 4250/32182\n",
      "0.01675356145536657     =at=> 4300/32182\n",
      "0.01663802143951728     =at=> 4350/32182\n",
      "0.016518008186619474     =at=> 4400/32182\n",
      "0.016395131611223385     =at=> 4450/32182\n",
      "0.01628697334597301     =at=> 4500/32182\n",
      "0.016208844881576413     =at=> 4550/32182\n",
      "0.01611947298409296     =at=> 4600/32182\n",
      "0.01603555137316586     =at=> 4650/32182\n",
      "0.015935258823942314     =at=> 4700/32182\n",
      "0.015839959321053403     =at=> 4750/32182\n",
      "0.015770373625321858     =at=> 4800/32182\n",
      "0.015816852417294434     =at=> 4850/32182\n",
      "0.015784902169739788     =at=> 4900/32182\n",
      "0.015756362073847816     =at=> 4950/32182\n",
      "0.015682153275888414     =at=> 5000/32182\n",
      "0.015595597220437215     =at=> 5050/32182\n",
      "0.015503920994598564     =at=> 5100/32182\n",
      "0.015511713396911554     =at=> 5150/32182\n",
      "0.015469161530535739     =at=> 5200/32182\n",
      "0.015438847761202072     =at=> 5250/32182\n",
      "0.015543787208745994     =at=> 5300/32182\n",
      "0.015547642812489697     =at=> 5350/32182\n",
      "0.015458966242149472     =at=> 5400/32182\n",
      "0.015409291749179295     =at=> 5450/32182\n",
      "0.015339647462295198     =at=> 5500/32182\n",
      "0.015290704162682297     =at=> 5550/32182\n",
      "0.015239859597599466     =at=> 5600/32182\n",
      "0.015164992282439057     =at=> 5650/32182\n",
      "0.015089813783364533     =at=> 5700/32182\n",
      "0.01506731566750323     =at=> 5750/32182\n",
      "0.015066710849782323     =at=> 5800/32182\n",
      "0.01506893992666792     =at=> 5850/32182\n",
      "0.015010243806380273     =at=> 5900/32182\n",
      "0.014974002602134495     =at=> 5950/32182\n",
      "0.014992791280344439     =at=> 6000/32182\n",
      "0.015060400759439515     =at=> 6050/32182\n",
      "0.01541458858280122     =at=> 6100/32182\n",
      "0.01566293505266521     =at=> 6150/32182\n",
      "0.015654181508730436     =at=> 6200/32182\n",
      "0.01560975485626608     =at=> 6250/32182\n",
      "0.015567364748715172     =at=> 6300/32182\n",
      "0.01556510751832306     =at=> 6350/32182\n",
      "0.015520603650511475     =at=> 6400/32182\n",
      "0.015479871794119361     =at=> 6450/32182\n",
      "0.015430255429281925     =at=> 6500/32182\n",
      "0.01539990078185095     =at=> 6550/32182\n",
      "0.01535089029059181     =at=> 6600/32182\n",
      "0.01529958556784331     =at=> 6650/32182\n",
      "0.015340788271208642     =at=> 6700/32182\n",
      "0.015315690121923884     =at=> 6750/32182\n",
      "0.015274827673497117     =at=> 6800/32182\n",
      "0.015418064173066268     =at=> 6850/32182\n",
      "0.015421617043987456     =at=> 6900/32182\n",
      "0.015440007648330261     =at=> 6950/32182\n",
      "0.015421980715157197     =at=> 7000/32182\n",
      "0.015375297156142744     =at=> 7050/32182\n",
      "0.015324032455748341     =at=> 7100/32182\n",
      "0.015366677451110282     =at=> 7150/32182\n",
      "0.015425638542833945     =at=> 7200/32182\n",
      "0.015416869087851254     =at=> 7250/32182\n",
      "0.0154017767360536     =at=> 7300/32182\n",
      "0.015351856767269625     =at=> 7350/32182\n",
      "0.015315831056292598     =at=> 7400/32182\n",
      "0.015273766432507526     =at=> 7450/32182\n",
      "0.015227172216959298     =at=> 7500/32182\n",
      "0.015230734895742098     =at=> 7550/32182\n",
      "0.015181812462550098     =at=> 7600/32182\n",
      "0.015140546231676696     =at=> 7650/32182\n",
      "0.015093856219553038     =at=> 7700/32182\n",
      "0.01514195668583195     =at=> 7750/32182\n",
      "0.015239996169753469     =at=> 7800/32182\n",
      "0.015342883689352755     =at=> 7850/32182\n",
      "0.015380234397841688     =at=> 7900/32182\n",
      "0.015396120096556842     =at=> 7950/32182\n",
      "0.01536997763774707     =at=> 8000/32182\n",
      "0.015358483661052927     =at=> 8050/32182\n",
      "0.015400883356126507     =at=> 8100/32182\n",
      "0.015437550179608897     =at=> 8150/32182\n",
      "0.015465743758562361     =at=> 8200/32182\n",
      "0.015428810390192225     =at=> 8250/32182\n",
      "0.015387417391385794     =at=> 8300/32182\n",
      "0.015401472621206974     =at=> 8350/32182\n",
      "0.015390349352438491     =at=> 8400/32182\n",
      "0.015353903047238979     =at=> 8450/32182\n",
      "0.015302162245518582     =at=> 8500/32182\n",
      "0.015275552631001811     =at=> 8550/32182\n",
      "0.015248095154123337     =at=> 8600/32182\n",
      "0.015202262080947443     =at=> 8650/32182\n",
      "0.01516486685383187     =at=> 8700/32182\n",
      "0.015118607736884483     =at=> 8750/32182\n",
      "0.015081823993532452     =at=> 8800/32182\n",
      "0.015048299261716084     =at=> 8850/32182\n",
      "0.015002590543616646     =at=> 8900/32182\n",
      "0.014959338538104137     =at=> 8950/32182\n",
      "0.014917502258412747     =at=> 9000/32182\n",
      "0.014881238437833995     =at=> 9050/32182\n",
      "0.01485850517210745     =at=> 9100/32182\n",
      "0.014833756616222035     =at=> 9150/32182\n",
      "0.014806795928895514     =at=> 9200/32182\n",
      "0.014776903422700393     =at=> 9250/32182\n",
      "0.014744364406828398     =at=> 9300/32182\n",
      "0.014724250980752475     =at=> 9350/32182\n",
      "0.0147984075462297     =at=> 9400/32182\n",
      "0.014746541464307084     =at=> 9450/32182\n",
      "0.01470476818746446     =at=> 9500/32182\n",
      "0.014656796080684436     =at=> 9550/32182\n",
      "0.014605490463679113     =at=> 9600/32182\n",
      "0.014562383783025754     =at=> 9650/32182\n",
      "0.01452921644806113     =at=> 9700/32182\n",
      "0.014484812310037131     =at=> 9750/32182\n",
      "0.014436285729467755     =at=> 9800/32182\n",
      "0.014394948975476177     =at=> 9850/32182\n",
      "0.014388056343040344     =at=> 9900/32182\n",
      "0.014437470799241795     =at=> 9950/32182\n",
      "0.014425057103205472     =at=> 10000/32182\n",
      "================================= TEST  : 0.03154879673045422\n",
      "0.014401155443287534     =at=> 10050/32182\n",
      "0.014378450687001875     =at=> 10100/32182\n",
      "0.014351435437995776     =at=> 10150/32182\n",
      "0.014342982441976702     =at=> 10200/32182\n",
      "0.014325027889299501     =at=> 10250/32182\n",
      "0.014304538091386949     =at=> 10300/32182\n",
      "0.014278073351659277     =at=> 10350/32182\n",
      "0.014244614969983768     =at=> 10400/32182\n",
      "0.014222032109689876     =at=> 10450/32182\n",
      "0.014225562418256664     =at=> 10500/32182\n",
      "0.014262934735605396     =at=> 10550/32182\n",
      "0.014789250241043397     =at=> 10600/32182\n",
      "0.01526775312463495     =at=> 10650/32182\n",
      "0.015436895747394867     =at=> 10700/32182\n",
      "0.01578513331371251     =at=> 10750/32182\n",
      "0.016145512315819763     =at=> 10800/32182\n",
      "0.01650021111573337     =at=> 10850/32182\n",
      "0.016769227147371498     =at=> 10900/32182\n"
     ]
    },
    {
     "ename": "KeyboardInterrupt",
     "evalue": "",
     "output_type": "error",
     "traceback": [
      "\u001b[0;31m---------------------------------------------------------------------------\u001b[0m",
      "\u001b[0;31mKeyboardInterrupt\u001b[0m                         Traceback (most recent call last)",
      "\u001b[0;32m<ipython-input-217-3fdc6337b58a>\u001b[0m in \u001b[0;36m<module>\u001b[0;34m()\u001b[0m\n\u001b[0;32m----> 1\u001b[0;31m \u001b[0mtrain\u001b[0m\u001b[0;34m(\u001b[0m\u001b[0msession\u001b[0m\u001b[0;34m,\u001b[0m \u001b[0mmodel\u001b[0m\u001b[0;34m,\u001b[0m \u001b[0mtrain_features\u001b[0m\u001b[0;34m,\u001b[0m \u001b[0mtrain_values\u001b[0m\u001b[0;34m,\u001b[0m \u001b[0mtest_features\u001b[0m\u001b[0;34m,\u001b[0m \u001b[0mtest_values\u001b[0m\u001b[0;34m,\u001b[0m \u001b[0;36m10\u001b[0m\u001b[0;34m,\u001b[0m \u001b[0;36m0.7\u001b[0m\u001b[0;34m,\u001b[0m \u001b[0;34m\"dataset/human36M/processed_data/weights\"\u001b[0m\u001b[0;34m,\u001b[0m \u001b[0mgNoise\u001b[0m\u001b[0;34m,\u001b[0m \u001b[0mcurrModelLoadedStep\u001b[0m\u001b[0;34m)\u001b[0m\u001b[0;34m\u001b[0m\u001b[0m\n\u001b[0m",
      "\u001b[0;32m<ipython-input-215-a95d41b5ffb1>\u001b[0m in \u001b[0;36mtrain\u001b[0;34m(session, model, trainFeat, trainValues, testFeat, testValues, totalEpochs, dropout, saveDir, trainGaussianNoise, loadSavedModel)\u001b[0m\n\u001b[1;32m     18\u001b[0m \u001b[0;34m\u001b[0m\u001b[0m\n\u001b[1;32m     19\u001b[0m             \u001b[0mfeat\u001b[0m\u001b[0;34m,\u001b[0m \u001b[0mvalues\u001b[0m \u001b[0;34m=\u001b[0m \u001b[0mbatchTrainPro\u001b[0m\u001b[0;34m.\u001b[0m\u001b[0mgetBatch\u001b[0m\u001b[0;34m(\u001b[0m\u001b[0mbatchId\u001b[0m\u001b[0;34m)\u001b[0m\u001b[0;34m\u001b[0m\u001b[0m\n\u001b[0;32m---> 20\u001b[0;31m             \u001b[0mstep_loss\u001b[0m\u001b[0;34m,\u001b[0m \u001b[0mloss_summary\u001b[0m\u001b[0;34m,\u001b[0m \u001b[0mlr_summary\u001b[0m\u001b[0;34m,\u001b[0m \u001b[0m_\u001b[0m \u001b[0;34m=\u001b[0m \u001b[0mmodel\u001b[0m\u001b[0;34m.\u001b[0m\u001b[0mstep\u001b[0m\u001b[0;34m(\u001b[0m\u001b[0msession\u001b[0m\u001b[0;34m,\u001b[0m \u001b[0mfeat\u001b[0m\u001b[0;34m,\u001b[0m \u001b[0mvalues\u001b[0m\u001b[0;34m,\u001b[0m \u001b[0mdropout\u001b[0m\u001b[0;34m)\u001b[0m\u001b[0;34m\u001b[0m\u001b[0m\n\u001b[0m\u001b[1;32m     21\u001b[0m \u001b[0;34m\u001b[0m\u001b[0m\n\u001b[1;32m     22\u001b[0m             \u001b[0;32mif\u001b[0m \u001b[0;34m(\u001b[0m\u001b[0mbatchId\u001b[0m\u001b[0;34m+\u001b[0m\u001b[0;36m1\u001b[0m\u001b[0;34m)\u001b[0m \u001b[0;34m%\u001b[0m \u001b[0mlog_every_n_batches\u001b[0m \u001b[0;34m==\u001b[0m \u001b[0;36m0\u001b[0m\u001b[0;34m:\u001b[0m\u001b[0;34m\u001b[0m\u001b[0m\n",
      "\u001b[0;32m/HUGOdata_v1/workspace/3d_pose_estimation/src/models/pose3d/linear_model.pyc\u001b[0m in \u001b[0;36mstep\u001b[0;34m(self, session, encoder_inputs, decoder_outputs, dropout_keep_prob, isTraining)\u001b[0m\n\u001b[1;32m    289\u001b[0m                      self.outputs]\n\u001b[1;32m    290\u001b[0m \u001b[0;34m\u001b[0m\u001b[0m\n\u001b[0;32m--> 291\u001b[0;31m       \u001b[0moutputs\u001b[0m \u001b[0;34m=\u001b[0m \u001b[0msession\u001b[0m\u001b[0;34m.\u001b[0m\u001b[0mrun\u001b[0m\u001b[0;34m(\u001b[0m \u001b[0moutput_feed\u001b[0m\u001b[0;34m,\u001b[0m \u001b[0minput_feed\u001b[0m \u001b[0;34m)\u001b[0m\u001b[0;34m\u001b[0m\u001b[0m\n\u001b[0m\u001b[1;32m    292\u001b[0m       \u001b[0;32mreturn\u001b[0m \u001b[0moutputs\u001b[0m\u001b[0;34m[\u001b[0m\u001b[0;36m1\u001b[0m\u001b[0;34m]\u001b[0m\u001b[0;34m,\u001b[0m \u001b[0moutputs\u001b[0m\u001b[0;34m[\u001b[0m\u001b[0;36m2\u001b[0m\u001b[0;34m]\u001b[0m\u001b[0;34m,\u001b[0m \u001b[0moutputs\u001b[0m\u001b[0;34m[\u001b[0m\u001b[0;36m3\u001b[0m\u001b[0;34m]\u001b[0m\u001b[0;34m,\u001b[0m \u001b[0moutputs\u001b[0m\u001b[0;34m[\u001b[0m\u001b[0;36m4\u001b[0m\u001b[0;34m]\u001b[0m\u001b[0;34m\u001b[0m\u001b[0m\n\u001b[1;32m    293\u001b[0m \u001b[0;34m\u001b[0m\u001b[0m\n",
      "\u001b[0;32m/home/ubuntu/.conda/envs/hugo_py27/lib/python2.7/site-packages/tensorflow/python/client/session.pyc\u001b[0m in \u001b[0;36mrun\u001b[0;34m(self, fetches, feed_dict, options, run_metadata)\u001b[0m\n\u001b[1;32m    887\u001b[0m     \u001b[0;32mtry\u001b[0m\u001b[0;34m:\u001b[0m\u001b[0;34m\u001b[0m\u001b[0m\n\u001b[1;32m    888\u001b[0m       result = self._run(None, fetches, feed_dict, options_ptr,\n\u001b[0;32m--> 889\u001b[0;31m                          run_metadata_ptr)\n\u001b[0m\u001b[1;32m    890\u001b[0m       \u001b[0;32mif\u001b[0m \u001b[0mrun_metadata\u001b[0m\u001b[0;34m:\u001b[0m\u001b[0;34m\u001b[0m\u001b[0m\n\u001b[1;32m    891\u001b[0m         \u001b[0mproto_data\u001b[0m \u001b[0;34m=\u001b[0m \u001b[0mtf_session\u001b[0m\u001b[0;34m.\u001b[0m\u001b[0mTF_GetBuffer\u001b[0m\u001b[0;34m(\u001b[0m\u001b[0mrun_metadata_ptr\u001b[0m\u001b[0;34m)\u001b[0m\u001b[0;34m\u001b[0m\u001b[0m\n",
      "\u001b[0;32m/home/ubuntu/.conda/envs/hugo_py27/lib/python2.7/site-packages/tensorflow/python/client/session.pyc\u001b[0m in \u001b[0;36m_run\u001b[0;34m(self, handle, fetches, feed_dict, options, run_metadata)\u001b[0m\n\u001b[1;32m   1118\u001b[0m     \u001b[0;32mif\u001b[0m \u001b[0mfinal_fetches\u001b[0m \u001b[0;32mor\u001b[0m \u001b[0mfinal_targets\u001b[0m \u001b[0;32mor\u001b[0m \u001b[0;34m(\u001b[0m\u001b[0mhandle\u001b[0m \u001b[0;32mand\u001b[0m \u001b[0mfeed_dict_tensor\u001b[0m\u001b[0;34m)\u001b[0m\u001b[0;34m:\u001b[0m\u001b[0;34m\u001b[0m\u001b[0m\n\u001b[1;32m   1119\u001b[0m       results = self._do_run(handle, final_targets, final_fetches,\n\u001b[0;32m-> 1120\u001b[0;31m                              feed_dict_tensor, options, run_metadata)\n\u001b[0m\u001b[1;32m   1121\u001b[0m     \u001b[0;32melse\u001b[0m\u001b[0;34m:\u001b[0m\u001b[0;34m\u001b[0m\u001b[0m\n\u001b[1;32m   1122\u001b[0m       \u001b[0mresults\u001b[0m \u001b[0;34m=\u001b[0m \u001b[0;34m[\u001b[0m\u001b[0;34m]\u001b[0m\u001b[0;34m\u001b[0m\u001b[0m\n",
      "\u001b[0;32m/home/ubuntu/.conda/envs/hugo_py27/lib/python2.7/site-packages/tensorflow/python/client/session.pyc\u001b[0m in \u001b[0;36m_do_run\u001b[0;34m(self, handle, target_list, fetch_list, feed_dict, options, run_metadata)\u001b[0m\n\u001b[1;32m   1315\u001b[0m     \u001b[0;32mif\u001b[0m \u001b[0mhandle\u001b[0m \u001b[0;32mis\u001b[0m \u001b[0mNone\u001b[0m\u001b[0;34m:\u001b[0m\u001b[0;34m\u001b[0m\u001b[0m\n\u001b[1;32m   1316\u001b[0m       return self._do_call(_run_fn, self._session, feeds, fetches, targets,\n\u001b[0;32m-> 1317\u001b[0;31m                            options, run_metadata)\n\u001b[0m\u001b[1;32m   1318\u001b[0m     \u001b[0;32melse\u001b[0m\u001b[0;34m:\u001b[0m\u001b[0;34m\u001b[0m\u001b[0m\n\u001b[1;32m   1319\u001b[0m       \u001b[0;32mreturn\u001b[0m \u001b[0mself\u001b[0m\u001b[0;34m.\u001b[0m\u001b[0m_do_call\u001b[0m\u001b[0;34m(\u001b[0m\u001b[0m_prun_fn\u001b[0m\u001b[0;34m,\u001b[0m \u001b[0mself\u001b[0m\u001b[0;34m.\u001b[0m\u001b[0m_session\u001b[0m\u001b[0;34m,\u001b[0m \u001b[0mhandle\u001b[0m\u001b[0;34m,\u001b[0m \u001b[0mfeeds\u001b[0m\u001b[0;34m,\u001b[0m \u001b[0mfetches\u001b[0m\u001b[0;34m)\u001b[0m\u001b[0;34m\u001b[0m\u001b[0m\n",
      "\u001b[0;32m/home/ubuntu/.conda/envs/hugo_py27/lib/python2.7/site-packages/tensorflow/python/client/session.pyc\u001b[0m in \u001b[0;36m_do_call\u001b[0;34m(self, fn, *args)\u001b[0m\n\u001b[1;32m   1321\u001b[0m   \u001b[0;32mdef\u001b[0m \u001b[0m_do_call\u001b[0m\u001b[0;34m(\u001b[0m\u001b[0mself\u001b[0m\u001b[0;34m,\u001b[0m \u001b[0mfn\u001b[0m\u001b[0;34m,\u001b[0m \u001b[0;34m*\u001b[0m\u001b[0margs\u001b[0m\u001b[0;34m)\u001b[0m\u001b[0;34m:\u001b[0m\u001b[0;34m\u001b[0m\u001b[0m\n\u001b[1;32m   1322\u001b[0m     \u001b[0;32mtry\u001b[0m\u001b[0;34m:\u001b[0m\u001b[0;34m\u001b[0m\u001b[0m\n\u001b[0;32m-> 1323\u001b[0;31m       \u001b[0;32mreturn\u001b[0m \u001b[0mfn\u001b[0m\u001b[0;34m(\u001b[0m\u001b[0;34m*\u001b[0m\u001b[0margs\u001b[0m\u001b[0;34m)\u001b[0m\u001b[0;34m\u001b[0m\u001b[0m\n\u001b[0m\u001b[1;32m   1324\u001b[0m     \u001b[0;32mexcept\u001b[0m \u001b[0merrors\u001b[0m\u001b[0;34m.\u001b[0m\u001b[0mOpError\u001b[0m \u001b[0;32mas\u001b[0m \u001b[0me\u001b[0m\u001b[0;34m:\u001b[0m\u001b[0;34m\u001b[0m\u001b[0m\n\u001b[1;32m   1325\u001b[0m       \u001b[0mmessage\u001b[0m \u001b[0;34m=\u001b[0m \u001b[0mcompat\u001b[0m\u001b[0;34m.\u001b[0m\u001b[0mas_text\u001b[0m\u001b[0;34m(\u001b[0m\u001b[0me\u001b[0m\u001b[0;34m.\u001b[0m\u001b[0mmessage\u001b[0m\u001b[0;34m)\u001b[0m\u001b[0;34m\u001b[0m\u001b[0m\n",
      "\u001b[0;32m/home/ubuntu/.conda/envs/hugo_py27/lib/python2.7/site-packages/tensorflow/python/client/session.pyc\u001b[0m in \u001b[0;36m_run_fn\u001b[0;34m(session, feed_dict, fetch_list, target_list, options, run_metadata)\u001b[0m\n\u001b[1;32m   1300\u001b[0m           return tf_session.TF_Run(session, options,\n\u001b[1;32m   1301\u001b[0m                                    \u001b[0mfeed_dict\u001b[0m\u001b[0;34m,\u001b[0m \u001b[0mfetch_list\u001b[0m\u001b[0;34m,\u001b[0m \u001b[0mtarget_list\u001b[0m\u001b[0;34m,\u001b[0m\u001b[0;34m\u001b[0m\u001b[0m\n\u001b[0;32m-> 1302\u001b[0;31m                                    status, run_metadata)\n\u001b[0m\u001b[1;32m   1303\u001b[0m \u001b[0;34m\u001b[0m\u001b[0m\n\u001b[1;32m   1304\u001b[0m     \u001b[0;32mdef\u001b[0m \u001b[0m_prun_fn\u001b[0m\u001b[0;34m(\u001b[0m\u001b[0msession\u001b[0m\u001b[0;34m,\u001b[0m \u001b[0mhandle\u001b[0m\u001b[0;34m,\u001b[0m \u001b[0mfeed_dict\u001b[0m\u001b[0;34m,\u001b[0m \u001b[0mfetch_list\u001b[0m\u001b[0;34m)\u001b[0m\u001b[0;34m:\u001b[0m\u001b[0;34m\u001b[0m\u001b[0m\n",
      "\u001b[0;31mKeyboardInterrupt\u001b[0m: "
     ]
    }
   ],
   "source": [
    "train(session, model, train_features, train_values, test_features, test_values, 10, 0.7, \"dataset/human36M/processed_data/weights\", gNoise, currModelLoadedStep)"
   ]
  },
  {
   "cell_type": "code",
   "execution_count": 11,
   "metadata": {},
   "outputs": [],
   "source": [
    "def predict(session, model, inputRecord):\n",
    "    \n",
    "    res = session.run(model.outputs, feed_dict={model.encoder_inputs: inputRecord,\n",
    "                                                       model.isTraining: False,\n",
    "                                                       model.dropout_keep_prob: 1.0\n",
    "                                                       })\n",
    "    return res"
   ]
  },
  {
   "cell_type": "markdown",
   "metadata": {},
   "source": [
    "## visualize results "
   ]
  },
  {
   "cell_type": "code",
   "execution_count": 11,
   "metadata": {},
   "outputs": [],
   "source": [
    "def visualize_prediction(features, gt_res, predicted_res):\n",
    "  \n",
    "    x = np.expand_dims(features[:13],axis=1)\n",
    "    y_gt = np.expand_dims(gt_res,axis=1)\n",
    "    y_pred = np.expand_dims(predicted_res,axis=1)\n",
    "    z = np.expand_dims(features[13:],axis=1)\n",
    "    \n",
    "    gt_pos = np.hstack([x,y_gt,z])\n",
    "    predicted_pos = np.hstack([x,y_pred,z])\n",
    "    \n",
    "    h36m.visualize_gt_vs_pred(gt_pos, predicted_pos)\n",
    "    "
   ]
  },
  {
   "cell_type": "code",
   "execution_count": 16,
   "metadata": {
    "scrolled": true
   },
   "outputs": [
    {
     "data": {
      "application/vnd.plotly.v1+json": {
       "data": [
        {
         "marker": {
          "line": {
           "color": "rgba(217, 217, 217, 0.14)",
           "width": 0.5
          },
          "opacity": 0.8,
          "size": 5
         },
         "mode": "markers",
         "type": "scatter3d",
         "x": [
          0.10796195663699323,
          0.12657650578584403,
          0.17819723730628695,
          -0.10796167907895786,
          -0.09159292733290827,
          -0.028704068673127196,
          0.011969878861033926,
          -0.10008422646254295,
          -0.20728929646736255,
          -0.20770996695826016,
          0.1798895757430679,
          0.25344453041198334,
          0.09978838999883893
         ],
         "y": [
          0.0701145714621011,
          0.047777296768270056,
          -0.0780987606423642,
          -0.0701143899359382,
          -0.09559339127948555,
          -0.1855991533916716,
          -0.039568130934915346,
          -0.15254511261102943,
          -0.2332643037892938,
          -0.0033629250171481363,
          0.08289111274755638,
          0.36562245426110657,
          0.3295202885232792
         ],
         "z": [
          -0.015592453264644087,
          -0.5082320142887871,
          -0.9787220871707395,
          0.015592389475914528,
          -0.4769733998824936,
          -0.9542728239617626,
          0.7382271585511552,
          0.45135418758467716,
          0.17225093903338948,
          0.05028854662377148,
          0.49306002443503033,
          0.39029893266485033,
          0.5972197478895185
         ]
        },
        {
         "marker": {
          "color": "rgb(327, 127, 57)",
          "line": {
           "color": "rgba(217, 217, 217, 0.14)",
           "width": 0.5
          },
          "opacity": 0.8,
          "size": 5
         },
         "mode": "markers",
         "type": "scatter3d",
         "x": [
          0.10796195663699323,
          0.12657650578584403,
          0.17819723730628695,
          -0.10796167907895786,
          -0.09159292733290827,
          -0.028704068673127196,
          0.011969878861033926,
          -0.10008422646254295,
          -0.20728929646736255,
          -0.20770996695826016,
          0.1798895757430679,
          0.25344453041198334,
          0.09978838999883893
         ],
         "y": [
          0.09299488365650177,
          0.12009840458631516,
          0.014199296943843365,
          -0.0930076390504837,
          -0.030533157289028168,
          -0.09250927716493607,
          0.02109498158097267,
          -0.08696063607931137,
          -0.1401461511850357,
          0.02742786332964897,
          0.08540432900190353,
          0.19240127503871918,
          0.19275152683258057
         ],
         "z": [
          -0.015592453264644087,
          -0.5082320142887871,
          -0.9787220871707395,
          0.015592389475914528,
          -0.4769733998824936,
          -0.9542728239617626,
          0.7382271585511552,
          0.45135418758467716,
          0.17225093903338948,
          0.05028854662377148,
          0.49306002443503033,
          0.39029893266485033,
          0.5972197478895185
         ]
        }
       ],
       "layout": {
        "margin": {
         "b": 0,
         "l": 0,
         "r": 0,
         "t": 0
        },
        "scene": {
         "aspectmode": "manual",
         "aspectratio": {
          "x": 1,
          "y": 1,
          "z": 1
         },
         "camera": {
          "center": {
           "x": 0,
           "y": 0,
           "z": 0
          },
          "eye": {
           "x": 0,
           "y": -2,
           "z": 0
          },
          "up": {
           "x": 0,
           "y": 0,
           "z": 1
          }
         },
         "xaxis": {
          "nticks": 4,
          "range": [
           -1,
           1
          ]
         },
         "yaxis": {
          "nticks": 4,
          "range": [
           -1,
           1
          ]
         },
         "zaxis": {
          "nticks": 4,
          "range": [
           -1,
           1
          ]
         }
        },
        "title": "cam",
        "width": 500
       }
      },
      "text/html": [
       "<div id=\"60aa2cf4-7dbf-43e2-8571-873d20f5d38e\" style=\"height: 525px; width: 500px;\" class=\"plotly-graph-div\"></div><script type=\"text/javascript\">require([\"plotly\"], function(Plotly) { window.PLOTLYENV=window.PLOTLYENV || {};window.PLOTLYENV.BASE_URL=\"https://plot.ly\";Plotly.newPlot(\"60aa2cf4-7dbf-43e2-8571-873d20f5d38e\", [{\"marker\": {\"opacity\": 0.8, \"line\": {\"color\": \"rgba(217, 217, 217, 0.14)\", \"width\": 0.5}, \"size\": 5}, \"mode\": \"markers\", \"y\": [0.0701145714621011, 0.047777296768270056, -0.0780987606423642, -0.0701143899359382, -0.09559339127948555, -0.1855991533916716, -0.039568130934915346, -0.15254511261102943, -0.2332643037892938, -0.0033629250171481363, 0.08289111274755638, 0.36562245426110657, 0.3295202885232792], \"x\": [0.10796195663699323, 0.12657650578584403, 0.17819723730628695, -0.10796167907895786, -0.09159292733290827, -0.028704068673127196, 0.011969878861033926, -0.10008422646254295, -0.20728929646736255, -0.20770996695826016, 0.1798895757430679, 0.25344453041198334, 0.09978838999883893], \"z\": [-0.015592453264644087, -0.5082320142887871, -0.9787220871707395, 0.015592389475914528, -0.4769733998824936, -0.9542728239617626, 0.7382271585511552, 0.45135418758467716, 0.17225093903338948, 0.05028854662377148, 0.49306002443503033, 0.39029893266485033, 0.5972197478895185], \"type\": \"scatter3d\"}, {\"marker\": {\"opacity\": 0.8, \"color\": \"rgb(327, 127, 57)\", \"line\": {\"color\": \"rgba(217, 217, 217, 0.14)\", \"width\": 0.5}, \"size\": 5}, \"mode\": \"markers\", \"y\": [0.09299488365650177, 0.12009840458631516, 0.014199296943843365, -0.0930076390504837, -0.030533157289028168, -0.09250927716493607, 0.02109498158097267, -0.08696063607931137, -0.1401461511850357, 0.02742786332964897, 0.08540432900190353, 0.19240127503871918, 0.19275152683258057], \"x\": [0.10796195663699323, 0.12657650578584403, 0.17819723730628695, -0.10796167907895786, -0.09159292733290827, -0.028704068673127196, 0.011969878861033926, -0.10008422646254295, -0.20728929646736255, -0.20770996695826016, 0.1798895757430679, 0.25344453041198334, 0.09978838999883893], \"z\": [-0.015592453264644087, -0.5082320142887871, -0.9787220871707395, 0.015592389475914528, -0.4769733998824936, -0.9542728239617626, 0.7382271585511552, 0.45135418758467716, 0.17225093903338948, 0.05028854662377148, 0.49306002443503033, 0.39029893266485033, 0.5972197478895185], \"type\": \"scatter3d\"}], {\"width\": 500, \"margin\": {\"r\": 0, \"b\": 0, \"t\": 0, \"l\": 0}, \"scene\": {\"yaxis\": {\"range\": [-1, 1], \"nticks\": 4}, \"aspectmode\": \"manual\", \"camera\": {\"eye\": {\"y\": -2, \"x\": 0, \"z\": 0}, \"center\": {\"y\": 0, \"x\": 0, \"z\": 0}, \"up\": {\"y\": 0, \"x\": 0, \"z\": 1}}, \"zaxis\": {\"range\": [-1, 1], \"nticks\": 4}, \"xaxis\": {\"range\": [-1, 1], \"nticks\": 4}, \"aspectratio\": {\"y\": 1, \"x\": 1, \"z\": 1}}, \"title\": \"cam\"}, {\"linkText\": \"Export to plot.ly\", \"showLink\": true})});</script>"
      ],
      "text/vnd.plotly.v1+html": [
       "<div id=\"60aa2cf4-7dbf-43e2-8571-873d20f5d38e\" style=\"height: 525px; width: 500px;\" class=\"plotly-graph-div\"></div><script type=\"text/javascript\">require([\"plotly\"], function(Plotly) { window.PLOTLYENV=window.PLOTLYENV || {};window.PLOTLYENV.BASE_URL=\"https://plot.ly\";Plotly.newPlot(\"60aa2cf4-7dbf-43e2-8571-873d20f5d38e\", [{\"marker\": {\"opacity\": 0.8, \"line\": {\"color\": \"rgba(217, 217, 217, 0.14)\", \"width\": 0.5}, \"size\": 5}, \"mode\": \"markers\", \"y\": [0.0701145714621011, 0.047777296768270056, -0.0780987606423642, -0.0701143899359382, -0.09559339127948555, -0.1855991533916716, -0.039568130934915346, -0.15254511261102943, -0.2332643037892938, -0.0033629250171481363, 0.08289111274755638, 0.36562245426110657, 0.3295202885232792], \"x\": [0.10796195663699323, 0.12657650578584403, 0.17819723730628695, -0.10796167907895786, -0.09159292733290827, -0.028704068673127196, 0.011969878861033926, -0.10008422646254295, -0.20728929646736255, -0.20770996695826016, 0.1798895757430679, 0.25344453041198334, 0.09978838999883893], \"z\": [-0.015592453264644087, -0.5082320142887871, -0.9787220871707395, 0.015592389475914528, -0.4769733998824936, -0.9542728239617626, 0.7382271585511552, 0.45135418758467716, 0.17225093903338948, 0.05028854662377148, 0.49306002443503033, 0.39029893266485033, 0.5972197478895185], \"type\": \"scatter3d\"}, {\"marker\": {\"opacity\": 0.8, \"color\": \"rgb(327, 127, 57)\", \"line\": {\"color\": \"rgba(217, 217, 217, 0.14)\", \"width\": 0.5}, \"size\": 5}, \"mode\": \"markers\", \"y\": [0.09299488365650177, 0.12009840458631516, 0.014199296943843365, -0.0930076390504837, -0.030533157289028168, -0.09250927716493607, 0.02109498158097267, -0.08696063607931137, -0.1401461511850357, 0.02742786332964897, 0.08540432900190353, 0.19240127503871918, 0.19275152683258057], \"x\": [0.10796195663699323, 0.12657650578584403, 0.17819723730628695, -0.10796167907895786, -0.09159292733290827, -0.028704068673127196, 0.011969878861033926, -0.10008422646254295, -0.20728929646736255, -0.20770996695826016, 0.1798895757430679, 0.25344453041198334, 0.09978838999883893], \"z\": [-0.015592453264644087, -0.5082320142887871, -0.9787220871707395, 0.015592389475914528, -0.4769733998824936, -0.9542728239617626, 0.7382271585511552, 0.45135418758467716, 0.17225093903338948, 0.05028854662377148, 0.49306002443503033, 0.39029893266485033, 0.5972197478895185], \"type\": \"scatter3d\"}], {\"width\": 500, \"margin\": {\"r\": 0, \"b\": 0, \"t\": 0, \"l\": 0}, \"scene\": {\"yaxis\": {\"range\": [-1, 1], \"nticks\": 4}, \"aspectmode\": \"manual\", \"camera\": {\"eye\": {\"y\": -2, \"x\": 0, \"z\": 0}, \"center\": {\"y\": 0, \"x\": 0, \"z\": 0}, \"up\": {\"y\": 0, \"x\": 0, \"z\": 1}}, \"zaxis\": {\"range\": [-1, 1], \"nticks\": 4}, \"xaxis\": {\"range\": [-1, 1], \"nticks\": 4}, \"aspectratio\": {\"y\": 1, \"x\": 1, \"z\": 1}}, \"title\": \"cam\"}, {\"linkText\": \"Export to plot.ly\", \"showLink\": true})});</script>"
      ]
     },
     "metadata": {},
     "output_type": "display_data"
    }
   ],
   "source": [
    "entryId = 6100\n",
    "\n",
    "pred = model3d.predict(np.expand_dims(test_features[entryId], axis=0))[0]\n",
    "\n",
    "visualize_prediction(test_features[entryId], test_values[entryId], pred)\n"
   ]
  },
  {
   "cell_type": "code",
   "execution_count": null,
   "metadata": {},
   "outputs": [],
   "source": []
  },
  {
   "cell_type": "code",
   "execution_count": null,
   "metadata": {},
   "outputs": [],
   "source": []
  },
  {
   "cell_type": "markdown",
   "metadata": {},
   "source": [
    "\n",
    "## RNN TEST"
   ]
  },
  {
   "cell_type": "code",
   "execution_count": 3,
   "metadata": {},
   "outputs": [
    {
     "name": "stderr",
     "output_type": "stream",
     "text": [
      "Using TensorFlow backend.\n"
     ]
    }
   ],
   "source": [
    "from keras.models import Sequential\n",
    "from keras.layers import Dense\n",
    "from keras.layers import LSTM\n",
    "from keras.layers import Dropout\n",
    "\n",
    "\n",
    "class Model:\n",
    "\n",
    "    def __init__(self, totalHistoryFrames, featuresByFrame, outputSize):\n",
    "\n",
    "        totalUnits = int(0.75*totalHistoryFrames) + 1\n",
    "\n",
    "        self.regressor = Sequential()\n",
    "\n",
    "        self.regressor.add(LSTM(units=totalUnits, input_shape=(totalHistoryFrames, featuresByFrame), return_sequences=True))\n",
    "        self.regressor.add(Dropout(0.2))\n",
    "\n",
    "        self.regressor.add(LSTM(units=totalUnits, return_sequences=False))\n",
    "        self.regressor.add(Dropout(0.2))\n",
    "\n",
    "        self.regressor.add(Dense(units=outputSize))\n",
    "\n",
    "        self.regressor.compile(optimizer='adam', loss='mean_squared_error')\n",
    "\n",
    "\n",
    "    \"\"\"\n",
    "    x : <total_examples, totalHistoryFrames, featuresByFrame>\n",
    "    y : <total_examples, outputSize>\n",
    "    \"\"\"\n",
    "    def train(self, x, y):\n",
    "        self.regressor.fit(x,y)\n",
    "\n",
    "\n",
    "    def predict(self, x):\n",
    "        return self.predict(x)\n",
    "\n"
   ]
  },
  {
   "cell_type": "code",
   "execution_count": null,
   "metadata": {},
   "outputs": [],
   "source": []
  },
  {
   "cell_type": "code",
   "execution_count": null,
   "metadata": {},
   "outputs": [],
   "source": []
  },
  {
   "cell_type": "code",
   "execution_count": null,
   "metadata": {},
   "outputs": [],
   "source": []
  },
  {
   "cell_type": "code",
   "execution_count": null,
   "metadata": {},
   "outputs": [],
   "source": []
  },
  {
   "cell_type": "code",
   "execution_count": null,
   "metadata": {},
   "outputs": [],
   "source": []
  }
 ],
 "metadata": {
  "kernelspec": {
   "display_name": "Python 2",
   "language": "python",
   "name": "python2"
  },
  "language_info": {
   "codemirror_mode": {
    "name": "ipython",
    "version": 2
   },
   "file_extension": ".py",
   "mimetype": "text/x-python",
   "name": "python",
   "nbconvert_exporter": "python",
   "pygments_lexer": "ipython2",
   "version": "2.7.12"
  }
 },
 "nbformat": 4,
 "nbformat_minor": 1
}
